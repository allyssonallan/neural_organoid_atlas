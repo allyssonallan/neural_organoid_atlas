{
 "cells": [
  {
   "cell_type": "code",
   "execution_count": 1,
   "id": "61d69904-32a1-4085-83e4-348c2150bb11",
   "metadata": {
    "tags": []
   },
   "outputs": [],
   "source": [
    "import os\n",
    "import scanpy as sc\n",
    "import numpy as np\n",
    "import pandas as pd\n",
    "import scipy.sparse"
   ]
  },
  {
   "cell_type": "code",
   "execution_count": 2,
   "id": "d397388f-1784-45c5-853d-43fe3da89719",
   "metadata": {
    "tags": []
   },
   "outputs": [],
   "source": [
    "sc.settings.verbosity = 3\n",
    "sc.set_figure_params(dpi=200)"
   ]
  },
  {
   "cell_type": "code",
   "execution_count": null,
   "id": "905e632a-53e4-4be4-877d-c49abe7eaa7e",
   "metadata": {
    "tags": []
   },
   "outputs": [],
   "source": [
    "adata = sc.read(\"/storage/data/organoid_atlas_adatas/230510_08_organoids_labelled_.h5ad\")"
   ]
  },
  {
   "cell_type": "markdown",
   "id": "58c3fd22-103d-40c0-9a76-36a6d72a7711",
   "metadata": {},
   "source": [
    "# Loading morphogen annotation"
   ]
  },
  {
   "cell_type": "code",
   "execution_count": 4,
   "id": "e6145e50-6ac9-41f4-8b24-42f201636968",
   "metadata": {
    "tags": []
   },
   "outputs": [],
   "source": [
    "# read morphogen information\n",
    "df = pd.read_csv(\"/storage/data/organoid_atlas_adatas/230521_integrations_labels/230523_morphogens_obs.csv\", index_col=0)\n",
    "assert np.all(df.index == adata.obs.index)\n",
    "adata.obs = pd.concat((adata.obs,df), axis=1)"
   ]
  },
  {
   "cell_type": "markdown",
   "id": "53f87fda-238f-41bc-833f-d9309600e708",
   "metadata": {},
   "source": [
    "# Loading integrations for benchmarking"
   ]
  },
  {
   "cell_type": "code",
   "execution_count": 6,
   "id": "18b2ae77-f160-4898-b15a-230d59120b3b",
   "metadata": {
    "tags": []
   },
   "outputs": [
    {
     "data": {
      "text/plain": [
       "AnnData object with n_obs × n_vars = 1770578 × 36842\n",
       "    obs: 'assay_sc', 'assay_differentiation', 'assay_type_differentiation', 'bio_sample', 'cell_line', 'cell_type', 'development_stage', 'disease', 'ethnicity', 'gm', 'id', 'individual', 'organ', 'organism', 'sex', 'state_exact', 'sample_source', 'source_doi', 'suspension_type_original', 'tech_sample', 'treatment', 'assay_sc_original', 'cell_line_original', 'cell_type_original', 'development_stage_original', 'disease_original', 'ethnicity_original', 'organ_original', 'organism_original', 'sex_original', 'suspension_type', 'obs_names_original', 'organoid_age_days', 'publication', 'doi', 'batch', 'n_genes_by_counts', 'log1p_n_genes_by_counts', 'total_counts', 'log1p_total_counts', 'total_counts_mt', 'log1p_total_counts_mt', 'pct_counts_mt', 'leiden_pca_unintegrated_1', 'leiden_pca_unintegrated_80', 'leiden_pca_rss_1', 'leiden_pca_rss_80', 'snapseed_pca_unintegrated_level_1', 'snapseed_pca_unintegrated_level_2', 'snapseed_pca_unintegrated_level_3', 'snapseed_pca_unintegrated_level_4', 'snapseed_pca_unintegrated_level_5', 'snapseed_pca_unintegrated_level_12', 'snapseed_pca_unintegrated_level_123', 'snapseed_pca_unintegrated_level_1234', 'snapseed_pca_unintegrated_level_12345', 'snapseed_pca_rss_level_1', 'snapseed_pca_rss_level_2', 'snapseed_pca_rss_level_3', 'snapseed_pca_rss_level_4', 'snapseed_pca_rss_level_5', 'snapseed_pca_rss_level_12', 'snapseed_pca_rss_level_123', 'snapseed_pca_rss_level_1234', 'snapseed_pca_rss_level_12345', 'leiden_scpoli_1', 'leiden_scpoli_80', 'snapseed_scpoli_level_1', 'snapseed_scpoli_level_2', 'snapseed_scpoli_level_3', 'snapseed_scpoli_level_4', 'snapseed_scpoli_level_5', 'snapseed_scpoli_level_12', 'snapseed_scpoli_level_123', 'snapseed_scpoli_level_1234', 'snapseed_scpoli_level_12345', 'ECM_raw', 'ROCK_inhibitor_raw', 'BMP_activator_raw', 'TGF_B_activator_raw', 'TGF_B_inhibitor_raw', 'BMP_inhibitor_raw', 'WNT_activator_raw', 'WNT_inhibitor_raw', 'EGF_raw', 'FGF2_raw', 'FGF8_raw', 'SHH_agonist_raw', 'RA_raw', 'MEK_ERK_inhibitor_raw', 'Notch_inhibitor_raw', 'manual_annot_ct', 'manual_annot_ct_fine', 'manual_annot_region'\n",
       "    var: 'ensembl', 'gene_symbol', 'mt', 'n_cells_by_counts', 'mean_counts', 'log1p_mean_counts', 'pct_dropout_by_counts', 'total_counts', 'log1p_total_counts', 'gene_length', 'highly_variable', 'highly_variable_rank', 'means', 'variances', 'variances_norm', 'highly_variable_nbatches'\n",
       "    uns: 'hvg', 'knn_pca_rss', 'knn_pca_unintegrated', 'knn_scpoli', 'log1p'\n",
       "    obsm: 'X_pca_rss', 'X_pca_unintegrated', 'X_rss', 'X_scpoli', 'X_umap_pca_rss', 'X_umap_pca_unintegrated', 'X_umap_scpoli'\n",
       "    layers: 'counts', 'counts_lengthnorm', 'lognorm'\n",
       "    obsp: 'knn_pca_rss_connectivities', 'knn_pca_rss_distances', 'knn_pca_unintegrated_connectivities', 'knn_pca_unintegrated_distances', 'knn_scpoli_connectivities', 'knn_scpoli_distances'"
      ]
     },
     "execution_count": 6,
     "metadata": {},
     "output_type": "execute_result"
    }
   ],
   "source": [
    "adata"
   ]
  },
  {
   "cell_type": "code",
   "execution_count": 7,
   "id": "716e34d7-89cc-4599-9b50-7f89a9c46fe1",
   "metadata": {
    "tags": []
   },
   "outputs": [],
   "source": [
    "namedict = {\n",
    "    \"scvi_results.h5ad\": \"X_benchmark_scvi\",\n",
    "    \"scanvi_results_level_1.h5ad\": \"X_benchmark_scanvi_level1\",\n",
    "    \"scanvi_results_level_12.h5ad\": \"X_benchmark_scanvi_level12\",\n",
    "    \"scanvi_results_level_123.h5ad\": \"X_benchmark_scanvi_level123\",\n",
    "    \"scpoli_results_level_1.h5ad\": \"X_benchmark_scpoli_level1\",\n",
    "    \"scpoli_results_level_12.h5ad\": \"X_benchmark_scpoli_level12\",\n",
    "    \"scpoli_results_level_123.h5ad\": \"X_benchmark_scpoli_level123\",\n",
    "    \"emb_scpoli_aggr_level1.npy\": \"X_benchmark_aggr_scpoli_level1\",\n",
    "    \"emb_scpoli_aggr_level123.npy\": \"X_benchmark_aggr_scpoli_level123\",\n",
    "    \"emb_umap_scpoli_aggr_level1.npy\": \"X_umap_benchmark_aggr_scpoli_level1\",\n",
    "    \"emb_umap_scpoli_aggr_level123.npy\": \"X_umap_benchmark_aggr_scpoli_level123\",\n",
    "}"
   ]
  },
  {
   "cell_type": "code",
   "execution_count": 8,
   "id": "964a1106-c98d-4f0a-bb70-25a45dcb5c58",
   "metadata": {
    "tags": []
   },
   "outputs": [],
   "source": [
    "basepath = \"/storage/data/organoid_atlas_adatas/230521_integrations_labels/\"\n",
    "for f in os.listdir(basepath):\n",
    "    if f.endswith(\".npy\"):\n",
    "        adata.obsm[namedict[f]] = np.load(basepath+f)\n",
    "    elif f.endswith(\".h5ad\"):\n",
    "        a = sc.read(basepath+f)\n",
    "        assert np.all(a.obs.index == adata.obs.index)\n",
    "        adata.obsm[namedict[f]] = a.X.copy()"
   ]
  },
  {
   "cell_type": "code",
   "execution_count": 9,
   "id": "5ac4cddd-f342-44f7-89d6-625ffaf7ae80",
   "metadata": {
    "tags": []
   },
   "outputs": [
    {
     "data": {
      "text/plain": [
       "AnnData object with n_obs × n_vars = 1770578 × 36842\n",
       "    obs: 'assay_sc', 'assay_differentiation', 'assay_type_differentiation', 'bio_sample', 'cell_line', 'cell_type', 'development_stage', 'disease', 'ethnicity', 'gm', 'id', 'individual', 'organ', 'organism', 'sex', 'state_exact', 'sample_source', 'source_doi', 'suspension_type_original', 'tech_sample', 'treatment', 'assay_sc_original', 'cell_line_original', 'cell_type_original', 'development_stage_original', 'disease_original', 'ethnicity_original', 'organ_original', 'organism_original', 'sex_original', 'suspension_type', 'obs_names_original', 'organoid_age_days', 'publication', 'doi', 'batch', 'n_genes_by_counts', 'log1p_n_genes_by_counts', 'total_counts', 'log1p_total_counts', 'total_counts_mt', 'log1p_total_counts_mt', 'pct_counts_mt', 'leiden_pca_unintegrated_1', 'leiden_pca_unintegrated_80', 'leiden_pca_rss_1', 'leiden_pca_rss_80', 'snapseed_pca_unintegrated_level_1', 'snapseed_pca_unintegrated_level_2', 'snapseed_pca_unintegrated_level_3', 'snapseed_pca_unintegrated_level_4', 'snapseed_pca_unintegrated_level_5', 'snapseed_pca_unintegrated_level_12', 'snapseed_pca_unintegrated_level_123', 'snapseed_pca_unintegrated_level_1234', 'snapseed_pca_unintegrated_level_12345', 'snapseed_pca_rss_level_1', 'snapseed_pca_rss_level_2', 'snapseed_pca_rss_level_3', 'snapseed_pca_rss_level_4', 'snapseed_pca_rss_level_5', 'snapseed_pca_rss_level_12', 'snapseed_pca_rss_level_123', 'snapseed_pca_rss_level_1234', 'snapseed_pca_rss_level_12345', 'leiden_scpoli_1', 'leiden_scpoli_80', 'snapseed_scpoli_level_1', 'snapseed_scpoli_level_2', 'snapseed_scpoli_level_3', 'snapseed_scpoli_level_4', 'snapseed_scpoli_level_5', 'snapseed_scpoli_level_12', 'snapseed_scpoli_level_123', 'snapseed_scpoli_level_1234', 'snapseed_scpoli_level_12345', 'ECM_raw', 'ROCK_inhibitor_raw', 'BMP_activator_raw', 'TGF_B_activator_raw', 'TGF_B_inhibitor_raw', 'BMP_inhibitor_raw', 'WNT_activator_raw', 'WNT_inhibitor_raw', 'EGF_raw', 'FGF2_raw', 'FGF8_raw', 'SHH_agonist_raw', 'RA_raw', 'MEK_ERK_inhibitor_raw', 'Notch_inhibitor_raw', 'manual_annot_ct', 'manual_annot_ct_fine', 'manual_annot_region'\n",
       "    var: 'ensembl', 'gene_symbol', 'mt', 'n_cells_by_counts', 'mean_counts', 'log1p_mean_counts', 'pct_dropout_by_counts', 'total_counts', 'log1p_total_counts', 'gene_length', 'highly_variable', 'highly_variable_rank', 'means', 'variances', 'variances_norm', 'highly_variable_nbatches'\n",
       "    uns: 'hvg', 'knn_pca_rss', 'knn_pca_unintegrated', 'knn_scpoli', 'log1p'\n",
       "    obsm: 'X_pca_rss', 'X_pca_unintegrated', 'X_rss', 'X_scpoli', 'X_umap_pca_rss', 'X_umap_pca_unintegrated', 'X_umap_scpoli', 'X_benchmark_scanvi_level123', 'X_benchmark_scpoli_level12', 'X_benchmark_scpoli_level123', 'X_umap_benchmark_aggr_scpoli_level1', 'X_umap_benchmark_aggr_scpoli_level123', 'X_benchmark_scpoli_level1', 'X_benchmark_scvi', 'X_benchmark_scanvi_level12', 'X_benchmark_scanvi_level1', 'X_benchmark_aggr_scpoli_level123', 'X_benchmark_aggr_scpoli_level1'\n",
       "    layers: 'counts', 'counts_lengthnorm', 'lognorm'\n",
       "    obsp: 'knn_pca_rss_connectivities', 'knn_pca_rss_distances', 'knn_pca_unintegrated_connectivities', 'knn_pca_unintegrated_distances', 'knn_scpoli_connectivities', 'knn_scpoli_distances'"
      ]
     },
     "execution_count": 9,
     "metadata": {},
     "output_type": "execute_result"
    }
   ],
   "source": [
    "adata"
   ]
  },
  {
   "cell_type": "code",
   "execution_count": 10,
   "id": "2075fb7f-86d6-42d0-988e-44610fc73412",
   "metadata": {},
   "outputs": [],
   "source": [
    "adata.write_h5ad(\"/storage/data/organoid_atlas_adatas/230510_09_organoids_morphogens_manualannot_integrations.h5ad\", compression=\"gzip\")"
   ]
  },
  {
   "cell_type": "code",
   "execution_count": 10,
   "id": "08989614-e33c-4bea-9b8c-52cf86ae5d30",
   "metadata": {
    "tags": []
   },
   "outputs": [],
   "source": [
    "for k in list(adata.obsp.keys()).copy():\n",
    "        del adata.obsp[k]\n",
    "for k in list(adata.obsm.keys()).copy():\n",
    "    if \"umap\" in k or k == \"X_rss\":\n",
    "        del adata.obsm[k]\n",
    "for k in list(adata.layers.keys()).copy():\n",
    "        del adata.layers[k]\n",
    "adata.X = scipy.sparse.csr_matrix(adata.shape)"
   ]
  },
  {
   "cell_type": "code",
   "execution_count": 11,
   "id": "c85f0f89-00ca-4c6c-8e1d-8bfd84cb2a0c",
   "metadata": {
    "tags": []
   },
   "outputs": [],
   "source": [
    "adata.write_h5ad(\"/storage/data/organoid_atlas_adatas/230510_09_organoids_morphogens_manualannot_integrations_cleanedbenchmarking.h5ad\", compression=\"gzip\")"
   ]
  },
  {
   "cell_type": "markdown",
   "id": "40f5f0e9-79b4-4995-8485-f5849e5e13b0",
   "metadata": {},
   "source": [
    "# Loading final (curated) celltype annotation"
   ]
  },
  {
   "cell_type": "code",
   "execution_count": 5,
   "id": "02c21b90-161c-43a6-a91a-4967582c0281",
   "metadata": {
    "tags": []
   },
   "outputs": [],
   "source": [
    "adata = sc.read(\"/storage/data/organoid_atlas_adatas/230510_09_organoids_morphogens_manualannot_integrations.h5ad\")"
   ]
  },
  {
   "cell_type": "code",
   "execution_count": 7,
   "id": "d51a32e1-db85-41c8-9181-919a766e2651",
   "metadata": {
    "tags": []
   },
   "outputs": [],
   "source": [
    "annot = pd.read_csv(\"/storage/data/organoid_atlas_adatas/metadata_0627.tsv.gz\", sep=\"\\t\", index_col=0, low_memory=False)\n",
    "assert np.all(annot.index == adata.obs.index)"
   ]
  },
  {
   "cell_type": "code",
   "execution_count": 16,
   "id": "9a3e0ddb-a1d8-491a-81a8-739653a3231f",
   "metadata": {
    "tags": []
   },
   "outputs": [],
   "source": [
    "adata.obs[\"annot_region\"] = annot[\"final_region2\"]"
   ]
  },
  {
   "cell_type": "code",
   "execution_count": 11,
   "id": "4d4f23fe-48ed-4e47-994f-799f30f4e155",
   "metadata": {
    "tags": []
   },
   "outputs": [],
   "source": [
    "adata.obs[\"annot_level_1\"] = annot[\"annot_level_1\"]\n",
    "adata.obs[\"annot_level_2\"] = annot[\"annot_level_2\"]\n",
    "adata.obs[\"annot_level_3\"] = annot[\"annot_level_3\"]\n",
    "adata.obs[\"annot_level_4\"] = annot[\"annot_level_4\"]"
   ]
  },
  {
   "cell_type": "code",
   "execution_count": 18,
   "id": "c4fede49-c484-4ff5-b9b6-b33589a79913",
   "metadata": {
    "tags": []
   },
   "outputs": [
    {
     "data": {
      "text/plain": [
       "Dorsal telencephalon     757626\n",
       "Unspecific               369569\n",
       "Ventral telencephalon    158506\n",
       "Medulla                  136526\n",
       "Cerebellum                94494\n",
       "Thalamus                  75016\n",
       "Hypothalamus              70103\n",
       "Pons                      63328\n",
       "Dorsal midbrain           30651\n",
       "Ventral midbrain          14759\n",
       "Name: annot_region, dtype: int64"
      ]
     },
     "execution_count": 18,
     "metadata": {},
     "output_type": "execute_result"
    }
   ],
   "source": [
    "adata.obs[\"annot_region\"].value_counts()"
   ]
  },
  {
   "cell_type": "code",
   "execution_count": 12,
   "id": "698eea95-1b9e-4468-b8d2-54ecc0a95b67",
   "metadata": {
    "tags": []
   },
   "outputs": [
    {
     "data": {
      "text/plain": [
       "Neuron             856654\n",
       "NPC                528922\n",
       "Neuroepithelium     91689\n",
       "Glioblast           79506\n",
       "CP                  77315\n",
       "MC                  49273\n",
       "Astrocyte           48956\n",
       "IP                  15433\n",
       "NC Derivatives       9771\n",
       "OPC                  8325\n",
       "EC                   2451\n",
       "PSC                  2187\n",
       "Microglia              96\n",
       "Name: annot_level_1, dtype: int64"
      ]
     },
     "execution_count": 12,
     "metadata": {},
     "output_type": "execute_result"
    }
   ],
   "source": [
    "adata.obs[\"annot_level_1\"].value_counts()"
   ]
  },
  {
   "cell_type": "code",
   "execution_count": 13,
   "id": "e6a16799-0d34-40c6-8394-605a7db11ebd",
   "metadata": {
    "tags": []
   },
   "outputs": [
    {
     "data": {
      "text/plain": [
       "Dorsal Telencephalic Neuron     518082\n",
       "Non-telencephalic NPC           258311\n",
       "Non-telencephalic Neuron        226566\n",
       "Dorsal Telencephalic NPC        224111\n",
       "Ventral Telencephalic Neuron    112006\n",
       "Neuroepithelium                  91689\n",
       "Glioblast                        79506\n",
       "CP                               77315\n",
       "MC                               49273\n",
       "Astrocyte                        48956\n",
       "Ventral Telencephalic NPC        46500\n",
       "Dorsal Telencephalic IP          15433\n",
       "NC Derivatives                    9771\n",
       "OPC                               8325\n",
       "EC                                2451\n",
       "PSC                               2187\n",
       "Microglia                           96\n",
       "Name: annot_level_2, dtype: int64"
      ]
     },
     "execution_count": 13,
     "metadata": {},
     "output_type": "execute_result"
    }
   ],
   "source": [
    "adata.obs[\"annot_level_2\"].value_counts()"
   ]
  },
  {
   "cell_type": "code",
   "execution_count": 14,
   "id": "5eb45b9e-f54d-4591-a64b-7c86165cf626",
   "metadata": {
    "tags": []
   },
   "outputs": [
    {
     "data": {
      "text/plain": [
       "Dorsal Telencephalic Neuron     518082\n",
       "Dorsal Telencephalic NPC        224111\n",
       "Ventral Telencephalic Neuron    112006\n",
       "Neuroepithelium                  91689\n",
       "Medulla NPC                      88818\n",
       "Glioblast                        79506\n",
       "CP                               77315\n",
       "Cerebellar NPC                   55673\n",
       "Hypothalamic Neuron              49813\n",
       "MC                               49273\n",
       "Astrocyte                        48956\n",
       "Medulla Neuron                   47708\n",
       "Ventral Telencephalic NPC        46500\n",
       "Thalamic NPC                     40158\n",
       "Cerebellar Neuron                38821\n",
       "Pons Neuron                      36808\n",
       "Thalamic Neuron                  34858\n",
       "Pons NPC                         26520\n",
       "Hypothalamic NPC                 20290\n",
       "Dorsal Midbrain NPC              17928\n",
       "Dorsal Telencephalic IP          15433\n",
       "Dorsal Midbrain Neuron           12723\n",
       "NC Derivatives                    9771\n",
       "Ventral Midbrain NPC              8924\n",
       "OPC                               8325\n",
       "Ventral Midbrain Neuron           5835\n",
       "EC                                2451\n",
       "PSC                               2187\n",
       "Microglia                           96\n",
       "Name: annot_level_3, dtype: int64"
      ]
     },
     "execution_count": 14,
     "metadata": {},
     "output_type": "execute_result"
    }
   ],
   "source": [
    "adata.obs[\"annot_level_3\"].value_counts()"
   ]
  },
  {
   "cell_type": "code",
   "execution_count": 15,
   "id": "fdc66d6b-2654-4a50-8af0-a0f71cae6343",
   "metadata": {
    "tags": []
   },
   "outputs": [
    {
     "data": {
      "text/plain": [
       "Dorsal Telencephalic Neuron NT-VGLUT    518082\n",
       "Dorsal Telencephalic NPC                224111\n",
       "Ventral Telencephalic Neuron NT-GABA    112006\n",
       "Neuroepithelium                          91689\n",
       "Medulla NPC                              88818\n",
       "Glioblast                                79506\n",
       "CP                                       77315\n",
       "Cerebellar NPC                           55673\n",
       "MC                                       49273\n",
       "Astrocyte                                48956\n",
       "Ventral Telencephalic NPC                46500\n",
       "Thalamic NPC                             40158\n",
       "Medulla Neuron NT-VGLUT                  33086\n",
       "Thalamic Neuron NT-VGLUT                 27184\n",
       "Pons NPC                                 26520\n",
       "Cerebellar Neuron NT-GABA                26050\n",
       "Hypothalamic Neuron NT-GABA              25112\n",
       "Hypothalamic Neuron NT-VGLUT             24701\n",
       "Pons Neuron NT-VGLUT                     21518\n",
       "Hypothalamic NPC                         20290\n",
       "Dorsal Midbrain NPC                      17928\n",
       "Dorsal Telencephalic IP                  15433\n",
       "NC Derivatives                            9771\n",
       "Ventral Midbrain NPC                      8924\n",
       "Medulla Neuron NT-GLY                     8656\n",
       "Dorsal Midbrain Neuron NT-VGLUT           8511\n",
       "OPC                                       8325\n",
       "Cerebellar Neuron NT-VGLUT                8315\n",
       "Thalamic Neuron NT-GABA                   7674\n",
       "Pons Neuron NT-GABA                       6297\n",
       "Pons Neuron NT-GLY                        5833\n",
       "Medulla Neuron NT-GABA                    5119\n",
       "Cerebellar Neuron NT-GLY                  4456\n",
       "Dorsal Midbrain Neuron NT-GABA            4212\n",
       "Ventral Midbrain Neuron NT-VGLUT          4010\n",
       "Pons Neuron NT-CHOL                       2783\n",
       "EC                                        2451\n",
       "PSC                                       2187\n",
       "Ventral Midbrain Neuron NT-GABA           1562\n",
       "Medulla Neuron NT-CHOL                     557\n",
       "Pons Neuron NT-SER                         377\n",
       "Medulla Neuron NT-SER                      290\n",
       "Ventral Midbrain Neuron NT-GLY             263\n",
       "Microglia                                   96\n",
       "Name: annot_level_4, dtype: int64"
      ]
     },
     "execution_count": 15,
     "metadata": {},
     "output_type": "execute_result"
    }
   ],
   "source": [
    "adata.obs[\"annot_level_4\"].value_counts()"
   ]
  },
  {
   "cell_type": "code",
   "execution_count": 19,
   "id": "4a069dd2-338f-47fd-9160-511f3ef74ade",
   "metadata": {
    "tags": []
   },
   "outputs": [],
   "source": [
    "adata.write_h5ad(\"/storage/data/organoid_atlas_adatas/230620_10_updated_manual_annotation.h5ad\", compression=\"gzip\")"
   ]
  },
  {
   "cell_type": "code",
   "execution_count": null,
   "id": "f5bf8d69-7858-4841-9b58-1c1c448ea353",
   "metadata": {},
   "outputs": [],
   "source": []
  }
 ],
 "metadata": {
  "kernelspec": {
   "display_name": "Python 3 (ipykernel)",
   "language": "python",
   "name": "python3"
  },
  "language_info": {
   "codemirror_mode": {
    "name": "ipython",
    "version": 3
   },
   "file_extension": ".py",
   "mimetype": "text/x-python",
   "name": "python",
   "nbconvert_exporter": "python",
   "pygments_lexer": "ipython3",
   "version": "3.10.12"
  }
 },
 "nbformat": 4,
 "nbformat_minor": 5
}
