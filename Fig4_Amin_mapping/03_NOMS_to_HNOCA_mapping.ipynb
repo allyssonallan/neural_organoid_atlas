{
 "cells": [
  {
   "cell_type": "code",
   "execution_count": 53,
   "metadata": {
    "ExecuteTime": {
     "end_time": "2023-06-12T19:54:04.052065Z",
     "start_time": "2023-06-12T19:54:04.046907Z"
    },
    "collapsed": false
   },
   "outputs": [],
   "source": [
    "import pandas as pd\n",
    "import scanpy as sc\n",
    "import numpy as np\n",
    "\n",
    "from scarches.models.scpoli import scPoli"
   ]
  },
  {
   "cell_type": "code",
   "execution_count": 9,
   "metadata": {
    "ExecuteTime": {
     "end_time": "2023-06-12T19:12:26.105083Z",
     "start_time": "2023-06-12T19:12:26.103026Z"
    },
    "collapsed": true
   },
   "outputs": [],
   "source": [
    "scpoli_model_path = \"/storage/data/data/organoid_atlas/230510_scpoli_hierarchical123\"\n",
    "ref_adata_path = \"/storage/data/data/organoid_atlas/230510_09_organoids_cleaned_hvg.h5ad\"\n",
    "query_adata_path = \"/storage/data/data/organoid_atlas/230605_pasca_all_01.h5ad\""
   ]
  },
  {
   "cell_type": "code",
   "execution_count": 3,
   "metadata": {
    "ExecuteTime": {
     "end_time": "2023-06-12T18:41:55.575687Z",
     "start_time": "2023-06-12T18:41:00.379441Z"
    },
    "collapsed": false
   },
   "outputs": [],
   "source": [
    "ref_adata = sc.read_h5ad(ref_adata_path)\n",
    "ref_adata.X = ref_adata.layers[\"counts_lengthnorm\"].A.copy()"
   ]
  },
  {
   "cell_type": "code",
   "execution_count": 5,
   "metadata": {
    "ExecuteTime": {
     "end_time": "2023-06-12T18:51:38.508870Z",
     "start_time": "2023-06-12T18:51:35.092283Z"
    },
    "collapsed": false
   },
   "outputs": [
    {
     "name": "stdout",
     "output_type": "stream",
     "text": [
      "AnnData object with n_obs × n_vars = 1770578 × 3000\n",
      "    obs: 'assay_sc', 'assay_differentiation', 'assay_type_differentiation', 'bio_sample', 'cell_line', 'cell_type', 'development_stage', 'disease', 'ethnicity', 'gm', 'id', 'individual', 'organ', 'organism', 'sex', 'state_exact', 'sample_source', 'source_doi', 'suspension_type_original', 'tech_sample', 'treatment', 'assay_sc_original', 'cell_line_original', 'cell_type_original', 'development_stage_original', 'disease_original', 'ethnicity_original', 'organ_original', 'organism_original', 'sex_original', 'suspension_type', 'obs_names_original', 'organoid_age_days', 'publication', 'doi', 'batch', 'n_genes_by_counts', 'log1p_n_genes_by_counts', 'total_counts', 'log1p_total_counts', 'total_counts_mt', 'log1p_total_counts_mt', 'pct_counts_mt', 'leiden_pca_unintegrated_1', 'leiden_pca_unintegrated_80', 'leiden_pca_rss_1', 'leiden_pca_rss_80', 'snapseed_pca_unintegrated_level_1', 'snapseed_pca_unintegrated_level_2', 'snapseed_pca_unintegrated_level_3', 'snapseed_pca_unintegrated_level_4', 'snapseed_pca_unintegrated_level_5', 'snapseed_pca_unintegrated_level_12', 'snapseed_pca_unintegrated_level_123', 'snapseed_pca_unintegrated_level_1234', 'snapseed_pca_unintegrated_level_12345', 'snapseed_pca_rss_level_1', 'snapseed_pca_rss_level_2', 'snapseed_pca_rss_level_3', 'snapseed_pca_rss_level_4', 'snapseed_pca_rss_level_5', 'snapseed_pca_rss_level_12', 'snapseed_pca_rss_level_123', 'snapseed_pca_rss_level_1234', 'snapseed_pca_rss_level_12345', 'leiden_scpoli_1', 'leiden_scpoli_80', 'snapseed_scpoli_level_1', 'snapseed_scpoli_level_2', 'snapseed_scpoli_level_3', 'snapseed_scpoli_level_4', 'snapseed_scpoli_level_5', 'snapseed_scpoli_level_12', 'snapseed_scpoli_level_123', 'snapseed_scpoli_level_1234', 'snapseed_scpoli_level_12345'\n",
      "    var: 'ensembl', 'gene_symbol', 'mt', 'n_cells_by_counts', 'mean_counts', 'log1p_mean_counts', 'pct_dropout_by_counts', 'total_counts', 'log1p_total_counts', 'gene_length', 'highly_variable', 'highly_variable_rank', 'means', 'variances', 'variances_norm', 'highly_variable_nbatches'\n",
      "    uns: 'hvg', 'knn_pca_rss', 'knn_pca_unintegrated', 'knn_scpoli', 'log1p', 'snapseed_scpoli_level_123_colors'\n",
      "    obsm: 'X_scpoli', 'X_umap_scpoli'\n",
      "    layers: 'counts_lengthnorm', 'lognorm'\n",
      "    obsp: 'knn_scpoli_connectivities', 'knn_scpoli_distances'\n",
      "Embedding dictionary:\n",
      " \tNum conditions: [396]\n",
      " \tEmbedding dim: [5]\n",
      "Encoder Architecture:\n",
      "\tInput Layer in, out and cond: 3000 1024 5\n",
      "\tMean/Var Layer in/out: 1024 10\n",
      "Decoder Architecture:\n",
      "\tFirst Layer in, out and cond:  10 1024 5\n",
      "\tOutput Layer in/out:  1024 3000 \n",
      "\n"
     ]
    }
   ],
   "source": [
    "scpoli_model = scPoli.load(scpoli_model_path, ref_adata)"
   ]
  },
  {
   "cell_type": "code",
   "execution_count": 10,
   "metadata": {
    "ExecuteTime": {
     "end_time": "2023-06-12T19:12:36.495694Z",
     "start_time": "2023-06-12T19:12:28.221571Z"
    },
    "collapsed": false
   },
   "outputs": [],
   "source": [
    "query_adata = sc.read_h5ad(query_adata_path)"
   ]
  },
  {
   "cell_type": "code",
   "execution_count": 19,
   "metadata": {
    "ExecuteTime": {
     "end_time": "2023-06-12T19:15:02.995588Z",
     "start_time": "2023-06-12T19:15:02.992359Z"
    },
    "collapsed": false
   },
   "outputs": [],
   "source": [
    "query_adata.obs[\"batch\"] = query_adata.obs[\"dataset\"]"
   ]
  },
  {
   "cell_type": "code",
   "execution_count": 31,
   "metadata": {
    "ExecuteTime": {
     "end_time": "2023-06-12T19:20:55.435444Z",
     "start_time": "2023-06-12T19:20:55.431015Z"
    },
    "collapsed": false
   },
   "outputs": [],
   "source": [
    "query_adata.obs[\"snapseed_pca_rss_level_1\"] = \"unknown\"\n",
    "query_adata.obs[\"snapseed_pca_rss_level_12\"] = \"unknown\"\n",
    "query_adata.obs[\"snapseed_pca_rss_level_123\"] = \"unknown\""
   ]
  },
  {
   "cell_type": "code",
   "execution_count": 20,
   "metadata": {
    "ExecuteTime": {
     "end_time": "2023-06-12T19:15:17.412036Z",
     "start_time": "2023-06-12T19:15:12.791567Z"
    },
    "collapsed": false
   },
   "outputs": [],
   "source": [
    "query_adata.X = query_adata.layers[\"counts\"].A.copy()"
   ]
  },
  {
   "cell_type": "code",
   "execution_count": 38,
   "metadata": {
    "ExecuteTime": {
     "end_time": "2023-06-12T19:21:54.737194Z",
     "start_time": "2023-06-12T19:21:54.718710Z"
    },
    "collapsed": false
   },
   "outputs": [],
   "source": [
    "query_adata = query_adata[:, ref_adata.var.index]"
   ]
  },
  {
   "cell_type": "code",
   "execution_count": 39,
   "metadata": {
    "ExecuteTime": {
     "end_time": "2023-06-12T19:21:58.647587Z",
     "start_time": "2023-06-12T19:21:56.650677Z"
    },
    "collapsed": false
   },
   "outputs": [
    {
     "name": "stderr",
     "output_type": "stream",
     "text": [
      "/storage/data/artur/repos/scarches/scarches/models/scpoli/scpoli_model.py:766: ImplicitModificationWarning: Trying to modify attribute `.obs` of view, initializing view as actual.\n",
      "  adata.obs['conditions_combined'] = adata.obs[condition_keys].apply(lambda x: '_'.join(x))\n"
     ]
    },
    {
     "name": "stdout",
     "output_type": "stream",
     "text": [
      "Embedding dictionary:\n",
      " \tNum conditions: [399]\n",
      " \tEmbedding dim: [5]\n",
      "Encoder Architecture:\n",
      "\tInput Layer in, out and cond: 3000 1024 5\n",
      "\tMean/Var Layer in/out: 1024 10\n",
      "Decoder Architecture:\n",
      "\tFirst Layer in, out and cond:  10 1024 5\n",
      "\tOutput Layer in/out:  1024 3000 \n",
      "\n"
     ]
    }
   ],
   "source": [
    "scpoli_query = scPoli.load_query_data(\n",
    "    adata=query_adata,\n",
    "    reference_model=scpoli_model,\n",
    "    labeled_indices=[]\n",
    ")"
   ]
  },
  {
   "cell_type": "code",
   "execution_count": 46,
   "metadata": {
    "ExecuteTime": {
     "end_time": "2023-06-12T19:51:56.825483Z",
     "start_time": "2023-06-12T19:28:20.564028Z"
    },
    "collapsed": false
   },
   "outputs": [
    {
     "name": "stdout",
     "output_type": "stream",
     "text": [
      "Warning: Labels in adata.obs[snapseed_pca_rss_level_1] is not a subset of label-encoder!\n",
      "The missing labels are: {'unknown'}\n",
      "Therefore integer value of those labels is set to -1\n",
      "Warning: Labels in adata.obs[snapseed_pca_rss_level_12] is not a subset of label-encoder!\n",
      "The missing labels are: {'unknown'}\n",
      "Therefore integer value of those labels is set to -1\n",
      "Warning: Labels in adata.obs[snapseed_pca_rss_level_123] is not a subset of label-encoder!\n",
      "The missing labels are: {'unknown'}\n",
      "Therefore integer value of those labels is set to -1\n",
      "Warning: Labels in adata.obs[snapseed_pca_rss_level_1] is not a subset of label-encoder!\n",
      "The missing labels are: {'unknown'}\n",
      "Therefore integer value of those labels is set to -1\n",
      "Warning: Labels in adata.obs[snapseed_pca_rss_level_12] is not a subset of label-encoder!\n",
      "The missing labels are: {'unknown'}\n",
      "Therefore integer value of those labels is set to -1\n",
      "Warning: Labels in adata.obs[snapseed_pca_rss_level_123] is not a subset of label-encoder!\n",
      "The missing labels are: {'unknown'}\n",
      "Therefore integer value of those labels is set to -1\n",
      "Warning: Labels in adata.obs[snapseed_pca_rss_level_1] is not a subset of label-encoder!\n",
      "The missing labels are: {'unknown'}\n",
      "Therefore integer value of those labels is set to -1\n",
      "Warning: Labels in adata.obs[snapseed_pca_rss_level_12] is not a subset of label-encoder!\n",
      "The missing labels are: {'unknown'}\n",
      "Therefore integer value of those labels is set to -1\n",
      "Warning: Labels in adata.obs[snapseed_pca_rss_level_123] is not a subset of label-encoder!\n",
      "The missing labels are: {'unknown'}\n",
      "Therefore integer value of those labels is set to -1\n",
      "Warning: Labels in adata.obs[snapseed_pca_rss_level_1] is not a subset of label-encoder!\n",
      "The missing labels are: {'unknown'}\n",
      "Therefore integer value of those labels is set to -1\n",
      "Warning: Labels in adata.obs[snapseed_pca_rss_level_12] is not a subset of label-encoder!\n",
      "The missing labels are: {'unknown'}\n",
      "Therefore integer value of those labels is set to -1\n",
      "Warning: Labels in adata.obs[snapseed_pca_rss_level_123] is not a subset of label-encoder!\n",
      "The missing labels are: {'unknown'}\n",
      "Therefore integer value of those labels is set to -1\n",
      "Initializing dataloaders\n",
      "Starting training\n",
      " |████████████████████| 100.0%  - val_loss: 1130.36 - val_cvae_loss: 1130.36\n"
     ]
    }
   ],
   "source": [
    "scpoli_query.train(\n",
    "    n_epochs=500,\n",
    "    pretraining_epochs=500,\n",
    "    eta=10,\n",
    "    unlabeled_prototype_training=False\n",
    ")"
   ]
  },
  {
   "cell_type": "code",
   "execution_count": 47,
   "metadata": {
    "ExecuteTime": {
     "end_time": "2023-06-12T19:51:56.974218Z",
     "start_time": "2023-06-12T19:51:56.821024Z"
    },
    "collapsed": false
   },
   "outputs": [],
   "source": [
    "query_data_latent = scpoli_query.get_latent(\n",
    "    query_adata,\n",
    "    mean=True\n",
    ")"
   ]
  },
  {
   "cell_type": "code",
   "execution_count": 48,
   "metadata": {
    "ExecuteTime": {
     "end_time": "2023-06-12T19:52:02.346217Z",
     "start_time": "2023-06-12T19:51:56.981655Z"
    },
    "collapsed": false
   },
   "outputs": [],
   "source": [
    "ref_data_latent = scpoli_model.get_latent(\n",
    "    ref_adata,\n",
    "    mean=True\n",
    ")"
   ]
  },
  {
   "cell_type": "code",
   "execution_count": 55,
   "metadata": {
    "ExecuteTime": {
     "end_time": "2023-06-12T19:54:59.171933Z",
     "start_time": "2023-06-12T19:54:59.087965Z"
    },
    "collapsed": false
   },
   "outputs": [],
   "source": [
    "joint_latent = np.concatenate((ref_data_latent, query_data_latent), axis=0)"
   ]
  },
  {
   "cell_type": "code",
   "execution_count": 59,
   "metadata": {
    "ExecuteTime": {
     "end_time": "2023-06-12T19:56:14.995240Z",
     "start_time": "2023-06-12T19:56:12.922747Z"
    },
    "collapsed": false
   },
   "outputs": [],
   "source": [
    "# create new adata\n",
    "joint_adata = sc.AnnData(\n",
    "    X=joint_latent,\n",
    "    obs=pd.concat([ref_adata.obs, query_adata.obs], axis=0)\n",
    ")"
   ]
  },
  {
   "cell_type": "code",
   "execution_count": 61,
   "metadata": {
    "ExecuteTime": {
     "end_time": "2023-06-12T20:06:10.519577Z",
     "start_time": "2023-06-12T20:06:10.510518Z"
    },
    "collapsed": false
   },
   "outputs": [],
   "source": [
    "joint_adata.obs[\"query\"] = False"
   ]
  },
  {
   "cell_type": "code",
   "execution_count": 71,
   "metadata": {
    "ExecuteTime": {
     "end_time": "2023-06-12T20:55:20.924210Z",
     "start_time": "2023-06-12T20:55:20.864894Z"
    },
    "collapsed": false
   },
   "outputs": [],
   "source": [
    "indices = range(-len(query_data_latent), 0)\n",
    "joint_adata.obs.loc[joint_adata.obs.iloc[indices].index, \"query\"] = True"
   ]
  },
  {
   "cell_type": "code",
   "execution_count": 75,
   "metadata": {
    "ExecuteTime": {
     "end_time": "2023-06-12T23:04:26.772521Z",
     "start_time": "2023-06-12T21:50:51.064467Z"
    },
    "collapsed": false
   },
   "outputs": [],
   "source": [
    "sc.pp.neighbors(joint_adata)\n",
    "sc.tl.umap(joint_adata)"
   ]
  },
  {
   "cell_type": "code",
   "execution_count": 85,
   "metadata": {
    "ExecuteTime": {
     "end_time": "2023-06-13T05:21:55.604476Z",
     "start_time": "2023-06-13T05:21:55.453004Z"
    },
    "collapsed": false
   },
   "outputs": [],
   "source": [
    "joint_adata.obs[\"query\"] = joint_adata.obs[\"query\"].astype(str)"
   ]
  },
  {
   "cell_type": "code",
   "execution_count": 89,
   "metadata": {
    "ExecuteTime": {
     "end_time": "2023-06-13T05:22:47.941580Z",
     "start_time": "2023-06-13T05:22:47.718545Z"
    },
    "collapsed": false
   },
   "outputs": [],
   "source": [
    "joint_adata.obs[\"conditions_combined\"] = joint_adata.obs[\"conditions_combined\"].astype(str)"
   ]
  },
  {
   "cell_type": "code",
   "execution_count": 90,
   "metadata": {
    "ExecuteTime": {
     "end_time": "2023-06-13T05:22:56.596904Z",
     "start_time": "2023-06-13T05:22:49.490253Z"
    },
    "collapsed": false
   },
   "outputs": [],
   "source": [
    "joint_adata.write_h5ad(\"/storage/data/data/organoid_atlas/scpoli_scarches_pasca.h5ad\")"
   ]
  },
  {
   "cell_type": "code",
   "execution_count": 96,
   "metadata": {
    "ExecuteTime": {
     "end_time": "2023-06-13T05:30:27.706205Z",
     "start_time": "2023-06-13T05:30:14.839630Z"
    },
    "collapsed": false
   },
   "outputs": [
    {
     "name": "stdout",
     "output_type": "stream",
     "text": [
      "WARNING: saving figure to file figures/umap_scanpseed.png\n"
     ]
    },
    {
     "name": "stderr",
     "output_type": "stream",
     "text": [
      "/home/ubuntu/miniconda3/envs/scvi/lib/python3.10/site-packages/scanpy/plotting/_tools/scatterplots.py:392: UserWarning: No data for colormapping provided via 'c'. Parameters 'cmap' will be ignored\n",
      "  cax = scatter(\n"
     ]
    },
    {
     "data": {
      "text/plain": [
       "<Axes: title={'center': 'snapseed_pca_rss_level_1'}, xlabel='UMAP1', ylabel='UMAP2'>"
      ]
     },
     "execution_count": 96,
     "metadata": {},
     "output_type": "execute_result"
    }
   ],
   "source": [
    "sc.pl.umap(\n",
    "    joint_adata,\n",
    "    color='snapseed_pca_rss_level_1',\n",
    "    show=False,\n",
    "    frameon=False,\n",
    "    save=\"_scanpseed.png\"\n",
    ")"
   ]
  },
  {
   "cell_type": "code",
   "execution_count": 97,
   "metadata": {
    "ExecuteTime": {
     "end_time": "2023-06-13T05:30:47.916592Z",
     "start_time": "2023-06-13T05:30:34.799447Z"
    },
    "collapsed": false
   },
   "outputs": [
    {
     "name": "stdout",
     "output_type": "stream",
     "text": [
      "WARNING: saving figure to file figures/umap_scanpseed_level12.png\n"
     ]
    },
    {
     "name": "stderr",
     "output_type": "stream",
     "text": [
      "/home/ubuntu/miniconda3/envs/scvi/lib/python3.10/site-packages/scanpy/plotting/_tools/scatterplots.py:392: UserWarning: No data for colormapping provided via 'c'. Parameters 'cmap' will be ignored\n",
      "  cax = scatter(\n"
     ]
    },
    {
     "data": {
      "text/plain": [
       "<Axes: title={'center': 'snapseed_pca_rss_level_12'}, xlabel='UMAP1', ylabel='UMAP2'>"
      ]
     },
     "execution_count": 97,
     "metadata": {},
     "output_type": "execute_result"
    }
   ],
   "source": [
    "sc.pl.umap(\n",
    "    joint_adata,\n",
    "    color='snapseed_pca_rss_level_12',\n",
    "    show=False,\n",
    "    frameon=False,\n",
    "    save=\"_scanpseed_level12.png\"\n",
    ")"
   ]
  },
  {
   "cell_type": "code",
   "execution_count": 98,
   "metadata": {
    "ExecuteTime": {
     "end_time": "2023-06-13T05:31:01.538069Z",
     "start_time": "2023-06-13T05:30:47.914981Z"
    },
    "collapsed": false
   },
   "outputs": [
    {
     "name": "stderr",
     "output_type": "stream",
     "text": [
      "/home/ubuntu/miniconda3/envs/scvi/lib/python3.10/site-packages/scanpy/plotting/_tools/scatterplots.py:392: UserWarning: No data for colormapping provided via 'c'. Parameters 'cmap' will be ignored\n",
      "  cax = scatter(\n"
     ]
    },
    {
     "name": "stdout",
     "output_type": "stream",
     "text": [
      "WARNING: saving figure to file figures/umap_scanpseed_level123.png\n"
     ]
    },
    {
     "data": {
      "text/plain": [
       "<Axes: title={'center': 'snapseed_pca_rss_level_123'}, xlabel='UMAP1', ylabel='UMAP2'>"
      ]
     },
     "execution_count": 98,
     "metadata": {},
     "output_type": "execute_result"
    }
   ],
   "source": [
    "sc.pl.umap(\n",
    "    joint_adata,\n",
    "    color='snapseed_pca_rss_level_123',\n",
    "    show=False,\n",
    "    frameon=False,\n",
    "    save=\"_scanpseed_level123.png\"\n",
    ")"
   ]
  },
  {
   "cell_type": "code",
   "execution_count": 99,
   "metadata": {
    "ExecuteTime": {
     "end_time": "2023-06-13T05:31:14.368436Z",
     "start_time": "2023-06-13T05:31:01.537942Z"
    },
    "collapsed": false
   },
   "outputs": [
    {
     "name": "stdout",
     "output_type": "stream",
     "text": [
      "WARNING: saving figure to file figures/umap_pasca_class.png\n"
     ]
    },
    {
     "name": "stderr",
     "output_type": "stream",
     "text": [
      "/home/ubuntu/miniconda3/envs/scvi/lib/python3.10/site-packages/scanpy/plotting/_tools/scatterplots.py:392: UserWarning: No data for colormapping provided via 'c'. Parameters 'cmap' will be ignored\n",
      "  cax = scatter(\n"
     ]
    },
    {
     "data": {
      "text/plain": [
       "<Axes: title={'center': 'class'}, xlabel='UMAP1', ylabel='UMAP2'>"
      ]
     },
     "execution_count": 99,
     "metadata": {},
     "output_type": "execute_result"
    }
   ],
   "source": [
    "sc.pl.umap(\n",
    "    joint_adata,\n",
    "    color='class',\n",
    "    show=False,\n",
    "    frameon=False,\n",
    "    save=\"_pasca_class.png\"\n",
    ")"
   ]
  },
  {
   "cell_type": "code",
   "execution_count": 100,
   "metadata": {
    "ExecuteTime": {
     "end_time": "2023-06-13T05:31:28.065486Z",
     "start_time": "2023-06-13T05:31:14.369195Z"
    },
    "collapsed": false
   },
   "outputs": [
    {
     "name": "stdout",
     "output_type": "stream",
     "text": [
      "WARNING: saving figure to file figures/umap_pasca_class2.png\n"
     ]
    },
    {
     "name": "stderr",
     "output_type": "stream",
     "text": [
      "/home/ubuntu/miniconda3/envs/scvi/lib/python3.10/site-packages/scanpy/plotting/_tools/scatterplots.py:392: UserWarning: No data for colormapping provided via 'c'. Parameters 'cmap' will be ignored\n",
      "  cax = scatter(\n"
     ]
    },
    {
     "data": {
      "text/plain": [
       "<Axes: title={'center': 'class2'}, xlabel='UMAP1', ylabel='UMAP2'>"
      ]
     },
     "execution_count": 100,
     "metadata": {},
     "output_type": "execute_result"
    }
   ],
   "source": [
    "sc.pl.umap(\n",
    "    joint_adata,\n",
    "    color='class2',\n",
    "    show=False,\n",
    "    frameon=False,\n",
    "    save=\"_pasca_class2.png\"\n",
    ")"
   ]
  },
  {
   "cell_type": "code",
   "execution_count": 101,
   "metadata": {
    "ExecuteTime": {
     "end_time": "2023-06-13T05:31:40.975879Z",
     "start_time": "2023-06-13T05:31:28.079920Z"
    },
    "collapsed": false
   },
   "outputs": [
    {
     "name": "stdout",
     "output_type": "stream",
     "text": [
      "WARNING: saving figure to file figures/umap_pasca_region.png\n"
     ]
    },
    {
     "name": "stderr",
     "output_type": "stream",
     "text": [
      "/home/ubuntu/miniconda3/envs/scvi/lib/python3.10/site-packages/scanpy/plotting/_tools/scatterplots.py:392: UserWarning: No data for colormapping provided via 'c'. Parameters 'cmap' will be ignored\n",
      "  cax = scatter(\n"
     ]
    },
    {
     "data": {
      "text/plain": [
       "<Axes: title={'center': 'region'}, xlabel='UMAP1', ylabel='UMAP2'>"
      ]
     },
     "execution_count": 101,
     "metadata": {},
     "output_type": "execute_result"
    }
   ],
   "source": [
    "sc.pl.umap(\n",
    "    joint_adata,\n",
    "    color='region',\n",
    "    show=False,\n",
    "    frameon=False,\n",
    "    save=\"_pasca_region.png\"\n",
    ")"
   ]
  },
  {
   "cell_type": "code",
   "execution_count": null,
   "metadata": {
    "collapsed": false
   },
   "outputs": [],
   "source": []
  }
 ],
 "metadata": {
  "kernelspec": {
   "display_name": "Python 3",
   "language": "python",
   "name": "python3"
  },
  "language_info": {
   "codemirror_mode": {
    "name": "ipython",
    "version": 2
   },
   "file_extension": ".py",
   "mimetype": "text/x-python",
   "name": "python",
   "nbconvert_exporter": "python",
   "pygments_lexer": "ipython2",
   "version": "2.7.6"
  }
 },
 "nbformat": 4,
 "nbformat_minor": 0
}
