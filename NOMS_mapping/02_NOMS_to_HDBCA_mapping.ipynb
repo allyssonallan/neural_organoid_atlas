{
 "cells": [
  {
   "cell_type": "code",
   "execution_count": 27,
   "metadata": {
    "ExecuteTime": {
     "end_time": "2023-06-20T13:35:57.343519Z",
     "start_time": "2023-06-20T13:35:57.338710Z"
    },
    "collapsed": false
   },
   "outputs": [],
   "source": [
    "# mapping pasca to braun"
   ]
  },
  {
   "cell_type": "code",
   "execution_count": 1,
   "metadata": {
    "ExecuteTime": {
     "end_time": "2023-06-20T13:12:28.231477Z",
     "start_time": "2023-06-20T13:12:24.646988Z"
    },
    "collapsed": false
   },
   "outputs": [
    {
     "name": "stderr",
     "output_type": "stream",
     "text": [
      "Global seed set to 0\n"
     ]
    }
   ],
   "source": [
    "import warnings\n",
    "\n",
    "warnings.filterwarnings(\"ignore\")\n",
    "\n",
    "import os\n",
    "\n",
    "import pandas as pd\n",
    "\n",
    "import scvi\n",
    "from scvi.model.utils import mde\n",
    "\n",
    "import scanpy as sc"
   ]
  },
  {
   "cell_type": "code",
   "execution_count": 2,
   "metadata": {
    "ExecuteTime": {
     "end_time": "2023-06-20T13:18:55.225931Z",
     "start_time": "2023-06-20T13:18:55.222152Z"
    },
    "collapsed": false
   },
   "outputs": [],
   "source": [
    "DATA_DIR = \"/storage/data/data/organoid_atlas/\""
   ]
  },
  {
   "cell_type": "code",
   "execution_count": 42,
   "metadata": {
    "ExecuteTime": {
     "end_time": "2023-06-20T14:00:06.627503Z",
     "start_time": "2023-06-20T14:00:06.627233Z"
    },
    "collapsed": false
   },
   "outputs": [],
   "source": [
    "ANNOT_LABEL = \"subregion_class\""
   ]
  },
  {
   "cell_type": "code",
   "execution_count": 3,
   "metadata": {
    "ExecuteTime": {
     "end_time": "2023-06-20T13:19:12.530954Z",
     "start_time": "2023-06-20T13:19:12.424512Z"
    },
    "collapsed": false
   },
   "outputs": [],
   "source": [
    "adata_q = sc.read(os.path.join(DATA_DIR, \"230605_pasca_all_v1_common_hv2k.h5ad\"))"
   ]
  },
  {
   "cell_type": "code",
   "execution_count": 6,
   "metadata": {
    "ExecuteTime": {
     "end_time": "2023-06-20T13:23:59.430749Z",
     "start_time": "2023-06-20T13:21:46.471333Z"
    },
    "collapsed": false
   },
   "outputs": [],
   "source": [
    "adata_ref = sc.read(os.path.join(\"/storage/data/data/organoid_atlas/jonas_query_ref_latent/braun_2022_fetal_brain_v2_common_hv2k.h5ad\"))"
   ]
  },
  {
   "cell_type": "code",
   "execution_count": null,
   "metadata": {
    "collapsed": false
   },
   "outputs": [],
   "source": [
    "# try with orig.ident vs dataset\n",
    "# include only primary/secondary"
   ]
  },
  {
   "cell_type": "code",
   "execution_count": 25,
   "metadata": {
    "ExecuteTime": {
     "end_time": "2023-06-20T13:35:26.172964Z",
     "start_time": "2023-06-20T13:35:26.145428Z"
    },
    "collapsed": false
   },
   "outputs": [],
   "source": [
    "# subset adata_q to organoid\n",
    "adata_q = adata_q[~adata_q.obs.dataset.isin([\"fetal_striatum_21pcw\"])]"
   ]
  },
  {
   "cell_type": "code",
   "execution_count": 26,
   "metadata": {
    "ExecuteTime": {
     "end_time": "2023-06-20T13:35:29.436135Z",
     "start_time": "2023-06-20T13:35:29.331348Z"
    },
    "collapsed": false
   },
   "outputs": [],
   "source": [
    "adata_q.varm = dict()\n",
    "adata_q.obs[\"batch\"] = adata_q.obs[\"dataset\"].astype(str).copy()"
   ]
  },
  {
   "cell_type": "code",
   "execution_count": 33,
   "metadata": {
    "ExecuteTime": {
     "end_time": "2023-06-20T13:54:38.508892Z",
     "start_time": "2023-06-20T13:54:38.276620Z"
    },
    "collapsed": false
   },
   "outputs": [],
   "source": [
    "adata_ref.varm = dict()\n",
    "adata_ref.obs[\"batch\"] = adata_ref.obs[\"Donor\"].astype(str).copy()"
   ]
  },
  {
   "cell_type": "code",
   "execution_count": 34,
   "metadata": {
    "ExecuteTime": {
     "end_time": "2023-06-20T13:54:43.505896Z",
     "start_time": "2023-06-20T13:54:40.359017Z"
    },
    "collapsed": false
   },
   "outputs": [
    {
     "name": "stdout",
     "output_type": "stream",
     "text": [
      "\u001b[34mINFO    \u001b[0m File \u001b[35m/storage/data/data/organoid_atlas/query_scarches_nolabs/\u001b[0m\u001b[95mmodel.pt\u001b[0m already downloaded                  \n"
     ]
    }
   ],
   "source": [
    "lvae = scvi.model.SCANVI.load(\n",
    "        os.path.join(DATA_DIR, \"query_scarches_nolabs\"),\n",
    "        adata=adata_ref,\n",
    "    )"
   ]
  },
  {
   "cell_type": "code",
   "execution_count": 43,
   "metadata": {
    "ExecuteTime": {
     "end_time": "2023-06-20T14:00:56.943190Z",
     "start_time": "2023-06-20T14:00:56.940635Z"
    },
    "collapsed": false
   },
   "outputs": [],
   "source": [
    "adata_q.obs[ANNOT_LABEL] = \"Unknown\""
   ]
  },
  {
   "cell_type": "code",
   "execution_count": 44,
   "metadata": {
    "ExecuteTime": {
     "end_time": "2023-06-20T14:01:14.364603Z",
     "start_time": "2023-06-20T14:01:14.167451Z"
    },
    "collapsed": false
   },
   "outputs": [
    {
     "name": "stdout",
     "output_type": "stream",
     "text": [
      "\u001b[34mINFO    \u001b[0m Found \u001b[1;36m100.0\u001b[0m% reference vars in query data.                                                                \n"
     ]
    }
   ],
   "source": [
    "scvi.model.SCANVI.prepare_query_anndata(adata_q, lvae)"
   ]
  },
  {
   "cell_type": "code",
   "execution_count": 45,
   "metadata": {
    "ExecuteTime": {
     "end_time": "2023-06-20T14:01:53.438866Z",
     "start_time": "2023-06-20T14:01:53.310064Z"
    },
    "collapsed": false
   },
   "outputs": [],
   "source": [
    "vae_q = scvi.model.SCANVI.load_query_data(adata_q, lvae)"
   ]
  },
  {
   "cell_type": "code",
   "execution_count": 46,
   "metadata": {
    "ExecuteTime": {
     "end_time": "2023-06-20T15:11:44.663651Z",
     "start_time": "2023-06-20T14:04:16.958281Z"
    },
    "collapsed": false
   },
   "outputs": [
    {
     "name": "stdout",
     "output_type": "stream",
     "text": [
      "\u001b[34mINFO    \u001b[0m Training for \u001b[1;36m500\u001b[0m epochs.                                                                                  \n"
     ]
    },
    {
     "name": "stderr",
     "output_type": "stream",
     "text": [
      "GPU available: True (cuda), used: True\n",
      "TPU available: False, using: 0 TPU cores\n",
      "IPU available: False, using: 0 IPUs\n",
      "HPU available: False, using: 0 HPUs\n",
      "You are using a CUDA device ('NVIDIA A100-PCIE-40GB') that has Tensor Cores. To properly utilize them, you should set `torch.set_float32_matmul_precision('medium' | 'high')` which will trade-off precision for performance. For more details, read https://pytorch.org/docs/stable/generated/torch.set_float32_matmul_precision.html#torch.set_float32_matmul_precision\n",
      "LOCAL_RANK: 0 - CUDA_VISIBLE_DEVICES: [0]\n"
     ]
    },
    {
     "name": "stdout",
     "output_type": "stream",
     "text": [
      "Epoch 500/500: 100%|█████████████████████████████████████████████████████| 500/500 [1:07:27<00:00,  8.57s/it, loss=1.19e+03, v_num=1]"
     ]
    },
    {
     "name": "stderr",
     "output_type": "stream",
     "text": [
      "`Trainer.fit` stopped: `max_epochs=500` reached.\n"
     ]
    },
    {
     "name": "stdout",
     "output_type": "stream",
     "text": [
      "Epoch 500/500: 100%|█████████████████████████████████████████████████████| 500/500 [1:07:27<00:00,  8.09s/it, loss=1.19e+03, v_num=1]\n"
     ]
    }
   ],
   "source": [
    "vae_q.train(\n",
    "    max_epochs=500,\n",
    "    plan_kwargs=dict(weight_decay=0.0),\n",
    ")"
   ]
  },
  {
   "cell_type": "code",
   "execution_count": 47,
   "metadata": {
    "ExecuteTime": {
     "end_time": "2023-06-20T15:14:31.060677Z",
     "start_time": "2023-06-20T15:14:31.045675Z"
    },
    "collapsed": false
   },
   "outputs": [],
   "source": [
    "adata_q.obs[\"ref\"] = \"query\"\n",
    "adata_ref.obs[\"ref\"] = \"reference\""
   ]
  },
  {
   "cell_type": "code",
   "execution_count": 48,
   "metadata": {
    "ExecuteTime": {
     "end_time": "2023-06-20T15:16:41.223776Z",
     "start_time": "2023-06-20T15:16:05.194853Z"
    },
    "collapsed": false
   },
   "outputs": [],
   "source": [
    "adata_full = adata_q.concatenate(adata_ref)"
   ]
  },
  {
   "cell_type": "code",
   "execution_count": 52,
   "metadata": {
    "ExecuteTime": {
     "end_time": "2023-06-20T15:20:47.576611Z",
     "start_time": "2023-06-20T15:20:47.480683Z"
    },
    "collapsed": false
   },
   "outputs": [],
   "source": [
    "adata_full.obs[\"batch\"] = (\n",
    "    adata_q.obs[\"batch\"].tolist() + adata_ref.obs[\"batch\"].tolist()\n",
    ")"
   ]
  },
  {
   "cell_type": "code",
   "execution_count": 57,
   "metadata": {
    "ExecuteTime": {
     "end_time": "2023-06-20T15:25:55.567888Z",
     "start_time": "2023-06-20T15:22:39.088367Z"
    },
    "collapsed": false
   },
   "outputs": [
    {
     "name": "stdout",
     "output_type": "stream",
     "text": [
      "\u001b[34mINFO    \u001b[0m Input AnnData not setup with scvi-tools. attempting to transfer AnnData setup                             \n"
     ]
    }
   ],
   "source": [
    "adata_full.obsm[\"X_scARCHES\"] = vae_q.get_latent_representation(adata_full)\n",
    "adata_full.obsm[\"X_umap\"] = mde(adata_full.obsm[\"X_scARCHES\"])"
   ]
  },
  {
   "cell_type": "code",
   "execution_count": null,
   "metadata": {
    "collapsed": false
   },
   "outputs": [],
   "source": [
    "p = sc.pl.umap(\n",
    "    adata_full,\n",
    "    color=[\"batch\", \"ref\"],\n",
    "    show=False,\n",
    ")"
   ]
  },
  {
   "cell_type": "code",
   "execution_count": 62,
   "metadata": {
    "ExecuteTime": {
     "end_time": "2023-06-20T15:35:21.542333Z",
     "start_time": "2023-06-20T15:35:12.797510Z"
    },
    "collapsed": false
   },
   "outputs": [],
   "source": [
    "p[0].figure.savefig(os.path.join(DATA_DIR,f\"scanvi_full_mde.png\"))"
   ]
  },
  {
   "cell_type": "code",
   "execution_count": 66,
   "metadata": {
    "ExecuteTime": {
     "end_time": "2023-06-21T07:39:16.614596Z",
     "start_time": "2023-06-21T07:39:16.568876Z"
    },
    "collapsed": false
   },
   "outputs": [],
   "source": [
    "full_latent = pd.DataFrame(adata_full.obsm[\"X_scARCHES\"])\n",
    "full_latent.index = adata_full.obs.index"
   ]
  },
  {
   "cell_type": "code",
   "execution_count": 67,
   "metadata": {
    "ExecuteTime": {
     "end_time": "2023-06-21T07:39:43.252258Z",
     "start_time": "2023-06-21T07:39:16.951432Z"
    },
    "collapsed": false
   },
   "outputs": [],
   "source": [
    "full_latent.to_csv(os.path.join(DATA_DIR, f\"pasca_map_braun_latent.csv\"))"
   ]
  },
  {
   "cell_type": "code",
   "execution_count": 68,
   "metadata": {
    "ExecuteTime": {
     "end_time": "2023-06-21T07:41:12.832559Z",
     "start_time": "2023-06-21T07:41:12.780278Z"
    },
    "collapsed": false
   },
   "outputs": [],
   "source": [
    "vae_q.save(\n",
    "    os.path.join(DATA_DIR, \"pasca_map_braun_model.pt\"),\n",
    "    overwrite=True,\n",
    "    save_anndata=False,\n",
    ")"
   ]
  },
  {
   "cell_type": "code",
   "execution_count": null,
   "metadata": {
    "collapsed": false
   },
   "outputs": [],
   "source": []
  }
 ],
 "metadata": {
  "kernelspec": {
   "display_name": "Python 3",
   "language": "python",
   "name": "python3"
  },
  "language_info": {
   "codemirror_mode": {
    "name": "ipython",
    "version": 2
   },
   "file_extension": ".py",
   "mimetype": "text/x-python",
   "name": "python",
   "nbconvert_exporter": "python",
   "pygments_lexer": "ipython2",
   "version": "2.7.6"
  }
 },
 "nbformat": 4,
 "nbformat_minor": 0
}
