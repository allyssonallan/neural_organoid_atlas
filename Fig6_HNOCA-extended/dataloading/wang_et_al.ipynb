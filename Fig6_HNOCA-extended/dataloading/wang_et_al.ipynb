{
 "cells": [
  {
   "cell_type": "code",
   "execution_count": 1,
   "id": "588feb5e-a0bc-42b5-bf39-e585e6b13a03",
   "metadata": {
    "tags": []
   },
   "outputs": [],
   "source": [
    "import tarfile\n",
    "import gzip\n",
    "import scipy.io\n",
    "import pandas as pd\n",
    "import anndata as ad\n",
    "import numpy as np\n",
    "import scanpy as sc"
   ]
  },
  {
   "cell_type": "code",
   "execution_count": 2,
   "id": "067e5a5e-73fa-467d-8297-c7a207da89e7",
   "metadata": {
    "tags": []
   },
   "outputs": [],
   "source": [
    "def harmonise_genespace(adata, genes, keep_layer=[]):\n",
    "    genes_to_add = []\n",
    "    for g in genes:\n",
    "        if g not in adata.var_names:\n",
    "            genes_to_add += [g]\n",
    "    print(f\"{(len(genes)-len(genes_to_add))/len(genes)*100:.0f} % gene overlap with reference\")\n",
    "    adata = ad.AnnData(\n",
    "        X=scipy.sparse.csr_matrix((adata.X.data, adata.X.indices, adata.X.indptr), shape=(adata.shape[0], adata.shape[1] + len(genes_to_add))),\n",
    "        obs=adata.obs,\n",
    "        var=pd.DataFrame(index=adata.var.index.tolist() + genes_to_add),\n",
    "        layers={i:scipy.sparse.csr_matrix((adata.layers[i].data, adata.layers[i].indices, adata.layers[i].indptr), shape=(adata.shape[0], adata.shape[1] + len(genes_to_add))) for i in keep_layer}\n",
    "    )[:, genes].copy()\n",
    "    \n",
    "    return adata"
   ]
  },
  {
   "cell_type": "markdown",
   "id": "0a528b05-74cd-4062-9101-7c3a27077cde",
   "metadata": {},
   "source": [
    "From: https://doi.org/10.1038/s41587-024-02157-8\n",
    "\n",
    "Data: https://www.ncbi.nlm.nih.gov/geo/query/acc.cgi?acc=GSE185472"
   ]
  },
  {
   "cell_type": "code",
   "execution_count": 3,
   "id": "e7ade3a6-3988-49d1-b6ea-fe20b128818b",
   "metadata": {
    "tags": []
   },
   "outputs": [],
   "source": [
    "basepath = \"/storage/data/2404_revision/ce_data/gage_data\""
   ]
  },
  {
   "cell_type": "code",
   "execution_count": 4,
   "id": "d6f62a45-d0c3-40f2-b6ed-722c94d1080c",
   "metadata": {
    "scrolled": true,
    "tags": []
   },
   "outputs": [
    {
     "name": "stderr",
     "output_type": "stream",
     "text": [
      "/home/ubuntu/venv/organoids/lib/python3.10/site-packages/anndata/_core/anndata.py:1830: UserWarning: Variable names are not unique. To make them unique, call `.var_names_make_unique`.\n",
      "  utils.warn_names_duplicates(\"var\")\n",
      "/home/ubuntu/venv/organoids/lib/python3.10/site-packages/anndata/_core/anndata.py:1830: UserWarning: Variable names are not unique. To make them unique, call `.var_names_make_unique`.\n",
      "  utils.warn_names_duplicates(\"var\")\n",
      "/home/ubuntu/venv/organoids/lib/python3.10/site-packages/anndata/_core/anndata.py:1830: UserWarning: Variable names are not unique. To make them unique, call `.var_names_make_unique`.\n",
      "  utils.warn_names_duplicates(\"var\")\n",
      "/home/ubuntu/venv/organoids/lib/python3.10/site-packages/anndata/_core/anndata.py:1830: UserWarning: Variable names are not unique. To make them unique, call `.var_names_make_unique`.\n",
      "  utils.warn_names_duplicates(\"var\")\n",
      "/home/ubuntu/venv/organoids/lib/python3.10/site-packages/anndata/_core/anndata.py:1830: UserWarning: Variable names are not unique. To make them unique, call `.var_names_make_unique`.\n",
      "  utils.warn_names_duplicates(\"var\")\n",
      "/home/ubuntu/venv/organoids/lib/python3.10/site-packages/anndata/_core/anndata.py:1830: UserWarning: Variable names are not unique. To make them unique, call `.var_names_make_unique`.\n",
      "  utils.warn_names_duplicates(\"var\")\n",
      "/home/ubuntu/venv/organoids/lib/python3.10/site-packages/anndata/_core/anndata.py:1830: UserWarning: Variable names are not unique. To make them unique, call `.var_names_make_unique`.\n",
      "  utils.warn_names_duplicates(\"var\")\n",
      "/home/ubuntu/venv/organoids/lib/python3.10/site-packages/anndata/_core/anndata.py:1830: UserWarning: Variable names are not unique. To make them unique, call `.var_names_make_unique`.\n",
      "  utils.warn_names_duplicates(\"var\")\n",
      "/home/ubuntu/venv/organoids/lib/python3.10/site-packages/anndata/_core/anndata.py:1830: UserWarning: Variable names are not unique. To make them unique, call `.var_names_make_unique`.\n",
      "  utils.warn_names_duplicates(\"var\")\n",
      "/home/ubuntu/venv/organoids/lib/python3.10/site-packages/anndata/_core/anndata.py:1830: UserWarning: Variable names are not unique. To make them unique, call `.var_names_make_unique`.\n",
      "  utils.warn_names_duplicates(\"var\")\n",
      "/home/ubuntu/venv/organoids/lib/python3.10/site-packages/anndata/_core/anndata.py:1830: UserWarning: Variable names are not unique. To make them unique, call `.var_names_make_unique`.\n",
      "  utils.warn_names_duplicates(\"var\")\n",
      "/home/ubuntu/venv/organoids/lib/python3.10/site-packages/anndata/_core/anndata.py:1830: UserWarning: Variable names are not unique. To make them unique, call `.var_names_make_unique`.\n",
      "  utils.warn_names_duplicates(\"var\")\n",
      "/home/ubuntu/venv/organoids/lib/python3.10/site-packages/anndata/_core/anndata.py:1830: UserWarning: Variable names are not unique. To make them unique, call `.var_names_make_unique`.\n",
      "  utils.warn_names_duplicates(\"var\")\n",
      "/home/ubuntu/venv/organoids/lib/python3.10/site-packages/anndata/_core/anndata.py:1830: UserWarning: Variable names are not unique. To make them unique, call `.var_names_make_unique`.\n",
      "  utils.warn_names_duplicates(\"var\")\n",
      "/home/ubuntu/venv/organoids/lib/python3.10/site-packages/anndata/_core/anndata.py:1830: UserWarning: Variable names are not unique. To make them unique, call `.var_names_make_unique`.\n",
      "  utils.warn_names_duplicates(\"var\")\n",
      "/home/ubuntu/venv/organoids/lib/python3.10/site-packages/anndata/_core/anndata.py:1830: UserWarning: Variable names are not unique. To make them unique, call `.var_names_make_unique`.\n",
      "  utils.warn_names_duplicates(\"var\")\n",
      "/home/ubuntu/venv/organoids/lib/python3.10/site-packages/anndata/_core/anndata.py:1830: UserWarning: Variable names are not unique. To make them unique, call `.var_names_make_unique`.\n",
      "  utils.warn_names_duplicates(\"var\")\n",
      "/home/ubuntu/venv/organoids/lib/python3.10/site-packages/anndata/_core/anndata.py:1830: UserWarning: Variable names are not unique. To make them unique, call `.var_names_make_unique`.\n",
      "  utils.warn_names_duplicates(\"var\")\n"
     ]
    }
   ],
   "source": [
    "adatas = []\n",
    "with tarfile.open(f\"{basepath}/GSE185472_RAW.tar\", \"r\") as tar:\n",
    "    sample_fns = [\n",
    "        \"GSM6679384_Hues6_5m_T\", \n",
    "        \"GSM6679385_822_5m_T\", \n",
    "        \"GSM6679386_HUES6_8m_GOGNT\", \n",
    "        \"GSM6679387_822_8m_GOGNT\", \n",
    "        \"GSM6679388_Hues6_10w_GOGN\", \n",
    "        \"GSM6679389_822_10w_GOGN\", \n",
    "        \"GSM6679390_Hues6_5m_GOGN\", \n",
    "        \"GSM6679391_822_5m_GOGN\"\n",
    "    ]\n",
    "    for sample_fn in sample_fns:\n",
    "        line, age, condition = sample_fn.split(\"_\")[1:]\n",
    "        obs = pd.read_csv(tar.extractfile(f\"{sample_fn}_barcodes.tsv.gz\"),\n",
    "                          compression=\"gzip\", header=None, index_col=0, names=[None])\n",
    "        var = pd.read_csv(tar.extractfile(f\"{sample_fn}_features.tsv.gz\"),\n",
    "                          compression=\"gzip\", sep='\\t', header=None, usecols=[0, 1], index_col=1, names=[\"ensembl_id\", None])\n",
    "        with gzip.open(tar.extractfile(f\"{sample_fn}_matrix.mtx.gz\"), 'rb') as mm:\n",
    "            x = scipy.io.mmread(mm).T.tocsr().astype(np.float32)\n",
    "        adata = ad.AnnData(X=x, obs=obs, var=var)\n",
    "        adata.obs[\"sample\"] = sample_fn\n",
    "        adata.obs[\"line\"] = line.capitalize()\n",
    "        adata.obs[\"age\"] = age\n",
    "        adata.obs[\"condition\"] = {\"T\": \"transplant\", \"GOGNT\": \"transplant\", \"GOGN\": \"organoid\"}[condition]\n",
    "        adata.obs[\"suspension_type\"] = \"nucleus\"\n",
    "        if adata.shape[1] > 40000:\n",
    "            adata = adata[:, adata.var.index.str.startswith(\"hg19_\")].copy()\n",
    "            adata.var.index = adata.var.index.str[5:]\n",
    "            adata.var[\"ensembl_id\"] = adata.var[\"ensembl_id\"].str[5:]\n",
    "        adata.var_names_make_unique()  \n",
    "        adatas += [adata]\n",
    "\n",
    "    sample_fns = [\n",
    "        \"GSM5615952_GOGNinvivo_822_6m_rep1.tar.gz\",\n",
    "        \"GSM5615953_GOGNinvivo_HUES6_6m.tar.gz\",\n",
    "    ]\n",
    "    for sample_fn in sample_fns:\n",
    "        with tarfile.open(fileobj=tar.extractfile(sample_fn)) as tar2:\n",
    "            obs = pd.read_csv(tar2.extractfile(f\"{sample_fn[11:-7]}/outs/filtered_feature_bc_matrix/barcodes.tsv.gz\"),\n",
    "                              compression=\"gzip\", header=None, index_col=0, names=[None])\n",
    "            var = pd.read_csv(tar2.extractfile(f\"{sample_fn[11:-7]}/outs/filtered_feature_bc_matrix/features.tsv.gz\"),\n",
    "                              compression=\"gzip\", sep='\\t', header=None, usecols=[0, 1], index_col=1, names=[\"ensembl_id\", None])\n",
    "            with gzip.open(tar2.extractfile(f\"{sample_fn[11:-7]}/outs/filtered_feature_bc_matrix/matrix.mtx.gz\"), \"rb\") as mm:\n",
    "                x = scipy.io.mmread(mm).T.tocsr().astype(np.float32)\n",
    "            adata = ad.AnnData(X=x, obs=obs, var=var)\n",
    "            adata.obs[\"sample\"] = sample_fn[:-7]\n",
    "            adata.obs[\"line\"] = sample_fn.split(\"_\")[2].capitalize()\n",
    "            adata.obs[\"age\"] = \"6m\"\n",
    "            adata.obs[\"condition\"] = \"transplant\"\n",
    "            adata.obs[\"suspension_type\"] = \"nucleus\"\n",
    "            adata = adata[:, adata.var.index.str.startswith(\"hg19_\")].copy()\n",
    "            adata.var.index = adata.var.index.str[5:]\n",
    "            adata.var[\"ensembl_id\"] = adata.var[\"ensembl_id\"].str[5:]\n",
    "            adata.var_names_make_unique()  \n",
    "            adatas += [adata]\n",
    "\n",
    "    sample_fn = \"GSM7286711_Hues6_8mT_CTRL\"\n",
    "    obs = pd.read_csv(tar.extractfile(\"GSM7286711_barcodes_Hues6_8mT_CTRL.tsv.gz\"),\n",
    "                      compression=\"gzip\", header=None, index_col=0, names=[None])\n",
    "    var = pd.read_csv(tar.extractfile(\"GSM7286711_features_Hues6_8mT_CTRL.tsv.gz\"),\n",
    "                      compression=\"gzip\", sep='\\t', header=None, usecols=[0, 1], index_col=1, names=[\"ensembl_id\", None])\n",
    "    with gzip.open(tar.extractfile(\"GSM7286711_matrix_Hues6_8mT_CTRL.mtx.gz\"), 'rb') as mm:\n",
    "        x = scipy.io.mmread(mm).T.tocsr().astype(np.float32)\n",
    "    adata = ad.AnnData(X=x, obs=obs, var=var)\n",
    "    adata.obs[\"sample\"] = sample_fn\n",
    "    adata.obs[\"line\"] = \"Hues6\"\n",
    "    adata.obs[\"age\"] = \"8m\"\n",
    "    adata.obs[\"condition\"] = \"transplant\"\n",
    "    adata.obs[\"suspension_type\"] = \"cell\"\n",
    "    adata = adata[:, adata.var.index.str.startswith(\"hg19_\")].copy()\n",
    "    adata.var.index = adata.var.index.str[5:]\n",
    "    adata.var[\"ensembl_id\"] = adata.var[\"ensembl_id\"].str[5:]\n",
    "    adata.var_names_make_unique()\n",
    "    adatas += [adata]\n",
    "    \n",
    "    \n",
    "adata = ad.concat(adatas, index_unique=\"_\")\n",
    "adata.var_names_make_unique()"
   ]
  },
  {
   "cell_type": "code",
   "execution_count": 5,
   "id": "ef7b0259-138e-458c-9ed4-039db1979c27",
   "metadata": {
    "tags": []
   },
   "outputs": [
    {
     "data": {
      "text/plain": [
       "AnnData object with n_obs × n_vars = 99127 × 32738\n",
       "    obs: 'sample', 'line', 'age', 'condition', 'suspension_type'"
      ]
     },
     "execution_count": 5,
     "metadata": {},
     "output_type": "execute_result"
    }
   ],
   "source": [
    "adata"
   ]
  },
  {
   "cell_type": "code",
   "execution_count": 6,
   "id": "e7c075ad-187f-48c2-b2b4-9be0fe6efdb8",
   "metadata": {
    "tags": []
   },
   "outputs": [
    {
     "name": "stdout",
     "output_type": "stream",
     "text": [
      "53 % gene overlap with reference\n"
     ]
    }
   ],
   "source": [
    "hnoca_genes = pd.read_csv(\"/storage/data/2404_revision/hnoca_features.csv\", index_col=0)\n",
    "adata = harmonise_genespace(adata, hnoca_genes.index.tolist())\n",
    "adata.var = hnoca_genes"
   ]
  },
  {
   "cell_type": "code",
   "execution_count": 7,
   "id": "2973fb43-e0ce-4142-8233-9c8e68b8d2bb",
   "metadata": {
    "tags": []
   },
   "outputs": [],
   "source": [
    "obs_new = pd.DataFrame(index=adata.obs.index)\n",
    "\n",
    "obs_new[\"sample_source\"] = \"3d_culture\"\n",
    "obs_new[\"organism\"] = \"Homo sapiens\"\n",
    "obs_new[\"disease\"] = \"healthy\"\n",
    "\n",
    "obs_new[\"cell_line_original\"] = adata.obs[\"line\"]\n",
    "obs_new[\"organoid_age_days\"] = adata.obs[\"age\"].replace({\"10w\":70, \"5m\": 150, \"6m\": 180, \"8m\": 240})\n",
    "obs_new[\"batch\"] = adata.obs[\"sample\"]\n",
    "obs_new[\"treatment\"] = adata.obs[\"condition\"]\n",
    "obs_new[\"cell_type_original\"] = \"unknown\"\n",
    "\n",
    "obs_new[\"suspension_type\"] = adata.obs[\"suspension_type\"]\n",
    "obs_new[\"organ\"] = \"cerebral cortex\"\n",
    "obs_new[\"assay_sc\"] = \"10x 3' v3\"\n",
    "obs_new[\"ethnicity\"] = \"unknown\"\n",
    "obs_new[\"sex\"] = obs_new[\"cell_line_original\"].replace({\"Hues6\": \"female\", \"822\": \"unknown\"})\n",
    "obs_new[\"development_stage\"] = obs_new[\"cell_line_original\"].replace({\"Hues6\": \"blastula stage\", \"822\": \"unknown\"})\n",
    "obs_new[\"cell_type\"] = \"unknown\"\n",
    "\n",
    "obs_new[\"obs_names_original\"] = obs_new.index\n",
    "obs_new[\"publication\"] = \"Wang, 2024\"\n",
    "obs_new[\"doi\"] = \"10.1038/s41587-024-02157-8\"\n",
    "obs_new[\"hnoca_core\"] = False"
   ]
  },
  {
   "cell_type": "code",
   "execution_count": 8,
   "id": "238b9998-78b0-472c-be70-f92801c737dd",
   "metadata": {},
   "outputs": [],
   "source": [
    "adata.obs = obs_new\n",
    "\n",
    "adata.layers[\"counts_lengthnorm\"] = adata.X.copy()\n",
    "sc.pp.normalize_total(adata, target_sum=1e6)\n",
    "sc.pp.log1p(adata)"
   ]
  },
  {
   "cell_type": "code",
   "execution_count": 9,
   "id": "0df4b1bf-f72c-4aec-8cb2-5faa19955a40",
   "metadata": {},
   "outputs": [
    {
     "name": "stdout",
     "output_type": "stream",
     "text": [
      "5.0 % cells removed\n"
     ]
    }
   ],
   "source": [
    "ncells_before = adata.n_obs\n",
    "adata = adata[(adata.X>0).sum(axis=1).A.ravel()>200].copy()\n",
    "print(f\"{(ncells_before-adata.n_obs)/ncells_before*100:.1f} % cells removed\")"
   ]
  },
  {
   "cell_type": "code",
   "execution_count": 10,
   "id": "7146dd03-a178-4d43-8f53-96b8cd738188",
   "metadata": {
    "tags": []
   },
   "outputs": [
    {
     "data": {
      "text/plain": [
       "AnnData object with n_obs × n_vars = 94129 × 36842\n",
       "    obs: 'sample_source', 'organism', 'disease', 'cell_line_original', 'organoid_age_days', 'batch', 'treatment', 'cell_type_original', 'suspension_type', 'organ', 'assay_sc', 'ethnicity', 'sex', 'development_stage', 'cell_type', 'obs_names_original', 'publication', 'doi', 'hnoca_core'\n",
       "    var: 'ensembl', 'gene_symbol'\n",
       "    uns: 'log1p'\n",
       "    layers: 'counts_lengthnorm'"
      ]
     },
     "execution_count": 10,
     "metadata": {},
     "output_type": "execute_result"
    }
   ],
   "source": [
    "adata"
   ]
  },
  {
   "cell_type": "code",
   "execution_count": 11,
   "id": "398c063d-a17d-49e5-938d-551edaaffc9e",
   "metadata": {
    "tags": []
   },
   "outputs": [],
   "source": [
    "adata.write(f\"{basepath}/gage.h5ad\", compression=\"gzip\")"
   ]
  }
 ],
 "metadata": {
  "kernelspec": {
   "display_name": "Python 3 (ipykernel)",
   "language": "python",
   "name": "python3"
  },
  "language_info": {
   "codemirror_mode": {
    "name": "ipython",
    "version": 3
   },
   "file_extension": ".py",
   "mimetype": "text/x-python",
   "name": "python",
   "nbconvert_exporter": "python",
   "pygments_lexer": "ipython3",
   "version": "3.10.12"
  }
 },
 "nbformat": 4,
 "nbformat_minor": 5
}
