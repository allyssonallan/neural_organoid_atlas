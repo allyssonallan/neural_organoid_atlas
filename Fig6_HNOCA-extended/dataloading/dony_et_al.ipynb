{
 "cells": [
  {
   "cell_type": "code",
   "execution_count": 1,
   "id": "39074447-f2cb-46ec-a27f-c1687caed578",
   "metadata": {
    "tags": []
   },
   "outputs": [],
   "source": [
    "import anndata as ad\n",
    "import pandas as pd\n",
    "import numpy as np\n",
    "import scipy.sparse\n",
    "import scanpy as sc"
   ]
  },
  {
   "cell_type": "code",
   "execution_count": 2,
   "id": "0ad3ff80-6d2d-424b-96e1-b10596ac4ab2",
   "metadata": {
    "tags": []
   },
   "outputs": [],
   "source": [
    "def harmonise_genespace(adata, genes, keep_layer=[]):\n",
    "    genes_to_add = []\n",
    "    for g in genes:\n",
    "        if g not in adata.var_names:\n",
    "            genes_to_add += [g]\n",
    "    print(f\"{(len(genes)-len(genes_to_add))/len(genes)*100:.0f} % gene overlap with reference\")\n",
    "    adata = ad.AnnData(\n",
    "        X=scipy.sparse.csr_matrix((adata.X.data, adata.X.indices, adata.X.indptr), shape=(adata.shape[0], adata.shape[1] + len(genes_to_add))),\n",
    "        obs=adata.obs,\n",
    "        var=pd.DataFrame(index=adata.var.index.tolist() + genes_to_add),\n",
    "        layers={i:scipy.sparse.csr_matrix((adata.layers[i].data, adata.layers[i].indices, adata.layers[i].indptr), shape=(adata.shape[0], adata.shape[1] + len(genes_to_add))) for i in keep_layer}\n",
    "    )[:, genes].copy()\n",
    "    \n",
    "    return adata"
   ]
  },
  {
   "cell_type": "markdown",
   "id": "912020d2-69a8-48e4-96ab-6cad2da32a0b",
   "metadata": {},
   "source": [
    "Preprint: https://www.biorxiv.org/content/10.1101/2024.01.21.576532\n",
    "\n",
    "Data: https://doi.org/10.5281/zenodo.10391945"
   ]
  },
  {
   "cell_type": "code",
   "execution_count": 3,
   "id": "c5da8980-6fd0-4c52-a96c-bd495d0a0fc6",
   "metadata": {},
   "outputs": [],
   "source": [
    "basepath = \"/storage/data/2404_revision/ce_data/binder_data\""
   ]
  },
  {
   "cell_type": "code",
   "execution_count": 4,
   "id": "4f26db59-9ee2-4c4d-8e2b-2f2d78505b19",
   "metadata": {
    "tags": []
   },
   "outputs": [],
   "source": [
    "adata_409b2 = ad.read_h5ad(f\"{basepath}/rna_409b2_processed.h5ad\")\n",
    "adata_fok4 = ad.read_h5ad(f\"{basepath}/rna_fok4_processed.h5ad\")\n",
    "\n",
    "adata = ad.concat((adata_409b2, adata_fok4))"
   ]
  },
  {
   "cell_type": "code",
   "execution_count": 5,
   "id": "26836fdb-267e-461b-ad6c-21d35fabe5bb",
   "metadata": {
    "tags": []
   },
   "outputs": [
    {
     "name": "stdout",
     "output_type": "stream",
     "text": [
      "53 % gene overlap with reference\n"
     ]
    }
   ],
   "source": [
    "hnoca_genes = pd.read_csv(\"/storage/data/2404_revision/hnoca_features.csv\", index_col=0)\n",
    "adata = harmonise_genespace(adata, hnoca_genes.index.tolist(), [\"counts\", \"lognorm\"])\n",
    "adata.var = hnoca_genes"
   ]
  },
  {
   "cell_type": "code",
   "execution_count": 6,
   "id": "6e3060cc-b1c5-41f7-9ebe-33d33a0fcf3a",
   "metadata": {},
   "outputs": [],
   "source": [
    "obs_new = pd.DataFrame(index=adata.obs.index)\n",
    "\n",
    "obs_new[\"sample_source\"] = \"3d_culture\"\n",
    "obs_new[\"organism\"] = \"Homo sapiens\"\n",
    "obs_new[\"disease\"] = \"healthy\"\n",
    "\n",
    "obs_new[\"cell_line_original\"] = adata.obs[\"cellline\"]\n",
    "obs_new[\"organoid_age_days\"] = adata.obs[\"day\"].replace({\"D70\":70, \"D90\": 90})\n",
    "obs_new[\"batch\"] = adata.obs[\"sample\"]\n",
    "obs_new[\"treatment\"] = adata.obs[\"treatment\"]\n",
    "obs_new[\"cell_type_original\"] = adata.obs[\"celltypes\"]\n",
    "\n",
    "obs_new[\"suspension_type\"] = \"cell\"\n",
    "obs_new[\"organ\"] = \"brain\"\n",
    "obs_new[\"assay_sc\"] = \"10x 3' v2\"\n",
    "obs_new[\"ethnicity\"] = \"European\"\n",
    "obs_new[\"sex\"] = \"female\"\n",
    "obs_new[\"development_stage\"] = obs_new[\"cell_line_original\"].replace({\"409b2\": \"36-year-old human stage\", \"FOK4\": \"unknown\"})\n",
    "obs_new[\"cell_type\"] = obs_new[\"cell_type_original\"].replace({\n",
    "    'Imm.ChP': 'neural progenitor cell',\n",
    "    'RG': 'radial glial cell',\n",
    "    'ChP': 'choroid plexus epithelial cell',\n",
    "    'IP': 'neural progenitor cell',\n",
    "    'Cycling': 'neural progenitor cell',\n",
    "    'Ex.Neurons': 'glutamatergic neuron',\n",
    "    'Inh.Neurons': 'GABAergic neuron',\n",
    "    'RGS5Neurons': 'neuron',\n",
    "})\n",
    "\n",
    "obs_new[\"obs_names_original\"] = obs_new.index\n",
    "obs_new[\"publication\"] = \"Dony, 2024\"\n",
    "obs_new[\"doi\"] = \"10.1101/2024.01.21.576532\"\n",
    "obs_new[\"hnoca_core\"] = False"
   ]
  },
  {
   "cell_type": "code",
   "execution_count": 7,
   "id": "6da5f31b-c7ea-41f4-b078-aeb159e1bc28",
   "metadata": {
    "tags": []
   },
   "outputs": [],
   "source": [
    "adata.obs = obs_new\n",
    "\n",
    "adata = adata[adata.obs[\"treatment\"].isin(['Veh-Veh', 'Veh'])].copy()\n",
    "\n",
    "adata.X = adata.layers[\"counts\"]\n",
    "adata.layers[\"counts_lengthnorm\"] = adata.layers[\"counts\"]\n",
    "del adata.layers[\"lognorm\"], adata.layers[\"counts\"]\n",
    "sc.pp.normalize_total(adata, target_sum=1e6)\n",
    "sc.pp.log1p(adata)\n",
    "\n",
    "del adata.obsm\n",
    "del adata.uns\n",
    "del adata.obsp\n",
    "del adata.varm"
   ]
  },
  {
   "cell_type": "code",
   "execution_count": 8,
   "id": "50ac22b8-2d1d-4ca2-b0fa-a3b9957f3748",
   "metadata": {},
   "outputs": [
    {
     "name": "stdout",
     "output_type": "stream",
     "text": [
      "0.0 % cells removed\n"
     ]
    }
   ],
   "source": [
    "ncells_before = adata.n_obs\n",
    "adata = adata[(adata.X>0).sum(axis=1).A.ravel()>200].copy()\n",
    "print(f\"{(ncells_before-adata.n_obs)/ncells_before*100:.1f} % cells removed\")"
   ]
  },
  {
   "cell_type": "code",
   "execution_count": 9,
   "id": "20e23db8-eee0-4e1f-9899-18a196de143a",
   "metadata": {
    "tags": []
   },
   "outputs": [
    {
     "data": {
      "text/plain": [
       "AnnData object with n_obs × n_vars = 16114 × 36842\n",
       "    obs: 'sample_source', 'organism', 'disease', 'cell_line_original', 'organoid_age_days', 'batch', 'treatment', 'cell_type_original', 'suspension_type', 'organ', 'assay_sc', 'ethnicity', 'sex', 'development_stage', 'cell_type', 'obs_names_original', 'publication', 'doi', 'hnoca_core'\n",
       "    var: 'ensembl', 'gene_symbol'\n",
       "    layers: 'counts_lengthnorm'"
      ]
     },
     "execution_count": 9,
     "metadata": {},
     "output_type": "execute_result"
    }
   ],
   "source": [
    "adata"
   ]
  },
  {
   "cell_type": "code",
   "execution_count": 10,
   "id": "32d68b0d-3cbd-4211-ae26-061eff53e433",
   "metadata": {
    "tags": []
   },
   "outputs": [],
   "source": [
    "adata.write(f\"{basepath}/binder.h5ad\", compression=\"gzip\")"
   ]
  }
 ],
 "metadata": {
  "kernelspec": {
   "display_name": "Python 3 (ipykernel)",
   "language": "python",
   "name": "python3"
  },
  "language_info": {
   "codemirror_mode": {
    "name": "ipython",
    "version": 3
   },
   "file_extension": ".py",
   "mimetype": "text/x-python",
   "name": "python",
   "nbconvert_exporter": "python",
   "pygments_lexer": "ipython3",
   "version": "3.10.12"
  }
 },
 "nbformat": 4,
 "nbformat_minor": 5
}
