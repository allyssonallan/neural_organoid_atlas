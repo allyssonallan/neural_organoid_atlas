{
 "cells": [
  {
   "cell_type": "code",
   "execution_count": 1,
   "id": "d00b3823-4e26-41b3-92d2-1c7cdf1b81b8",
   "metadata": {
    "tags": []
   },
   "outputs": [],
   "source": [
    "import scanpy as sc\n",
    "import anndata as ad\n",
    "import pandas as pd\n",
    "import numpy as np\n",
    "import scipy.sparse"
   ]
  },
  {
   "cell_type": "code",
   "execution_count": 2,
   "id": "0cfdcd7c-acb8-43bd-ad69-21edd03e52e1",
   "metadata": {
    "tags": []
   },
   "outputs": [],
   "source": [
    "import anndata2ri\n",
    "from rpy2.robjects import r"
   ]
  },
  {
   "cell_type": "code",
   "execution_count": 3,
   "id": "e7efb2e4-8629-4153-9932-122e597c223d",
   "metadata": {
    "tags": []
   },
   "outputs": [],
   "source": [
    "anndata2ri.activate()"
   ]
  },
  {
   "cell_type": "code",
   "execution_count": 4,
   "id": "eb439864-bd73-4b46-a8d5-e2428264f3db",
   "metadata": {
    "tags": []
   },
   "outputs": [
    {
     "name": "stdout",
     "output_type": "stream",
     "text": [
      "\n",
      "    WARNING: The R package \"reticulate\" only fixed recently\n",
      "    an issue that caused a segfault when used with rpy2:\n",
      "    https://github.com/rstudio/reticulate/pull/1188\n",
      "    Make sure that you use a version of that package that includes\n",
      "    the fix.\n",
      "    "
     ]
    },
    {
     "name": "stderr",
     "output_type": "stream",
     "text": [
      "R[write to console]: Attaching SeuratObject\n",
      "\n"
     ]
    },
    {
     "data": {
      "text/plain": [
       "array(['SeuratObject', 'Seurat', 'tools', 'stats', 'graphics',\n",
       "       'grDevices', 'utils', 'datasets', 'methods', 'base'], dtype='<U12')"
      ]
     },
     "execution_count": 4,
     "metadata": {},
     "output_type": "execute_result"
    }
   ],
   "source": [
    "r(f\"library(Seurat)\\n\")"
   ]
  },
  {
   "cell_type": "code",
   "execution_count": 5,
   "id": "53af4aac-d013-4b69-a413-32b6ad8d79e1",
   "metadata": {
    "tags": []
   },
   "outputs": [],
   "source": [
    "def harmonise_genespace(adata, genes, keep_layer=[]):\n",
    "    genes_to_add = []\n",
    "    for g in genes:\n",
    "        if g not in adata.var_names:\n",
    "            genes_to_add += [g]\n",
    "    print(f\"{(len(genes)-len(genes_to_add))/len(genes)*100:.0f} % gene overlap with reference\")\n",
    "    adata = ad.AnnData(\n",
    "        X=scipy.sparse.csr_matrix((adata.X.data, adata.X.indices, adata.X.indptr), shape=(adata.shape[0], adata.shape[1] + len(genes_to_add))),\n",
    "        obs=adata.obs,\n",
    "        var=pd.DataFrame(index=adata.var.index.tolist() + genes_to_add),\n",
    "        layers={i:scipy.sparse.csr_matrix((adata.layers[i].data, adata.layers[i].indices, adata.layers[i].indptr), shape=(adata.shape[0], adata.shape[1] + len(genes_to_add))) for i in keep_layer}\n",
    "    )[:, genes].copy()\n",
    "    \n",
    "    return adata"
   ]
  },
  {
   "cell_type": "markdown",
   "id": "e1296be9-f5b3-4500-8f1d-1781a034c936",
   "metadata": {},
   "source": [
    "Preprint: https://www.biorxiv.org/content/10.1101/2023.07.11.548571\n",
    "\n",
    "Data provided directly by the authors."
   ]
  },
  {
   "cell_type": "code",
   "execution_count": 6,
   "id": "130b9045-f404-425a-a6ac-3187f8579f27",
   "metadata": {
    "tags": []
   },
   "outputs": [],
   "source": [
    "basepath = \"/storage/data/2404_revision/ce_data/bowles_data\""
   ]
  },
  {
   "cell_type": "code",
   "execution_count": 7,
   "id": "c01b3c19-3ef9-4712-9f46-bd3c8eb7e75d",
   "metadata": {
    "scrolled": true,
    "tags": []
   },
   "outputs": [
    {
     "name": "stderr",
     "output_type": "stream",
     "text": [
      "/home/ubuntu/venv/organoids/lib/python3.10/site-packages/anndata2ri/r2py.py:106: FutureWarning: X.dtype being converted to np.float32 from float64. In the next version of anndata (0.9) conversion will not be automatic. Pass dtype explicitly to avoid this warning. Pass `AnnData(X, dtype=X.dtype, ...)` to get the future behavour.\n",
      "  return AnnData(exprs, obs, var, uns, obsm or None, layers=layers)\n",
      "/home/ubuntu/venv/organoids/lib/python3.10/site-packages/anndata2ri/r2py.py:106: FutureWarning: X.dtype being converted to np.float32 from float64. In the next version of anndata (0.9) conversion will not be automatic. Pass dtype explicitly to avoid this warning. Pass `AnnData(X, dtype=X.dtype, ...)` to get the future behavour.\n",
      "  return AnnData(exprs, obs, var, uns, obsm or None, layers=layers)\n",
      "/home/ubuntu/venv/organoids/lib/python3.10/site-packages/anndata2ri/r2py.py:106: FutureWarning: X.dtype being converted to np.float32 from float64. In the next version of anndata (0.9) conversion will not be automatic. Pass dtype explicitly to avoid this warning. Pass `AnnData(X, dtype=X.dtype, ...)` to get the future behavour.\n",
      "  return AnnData(exprs, obs, var, uns, obsm or None, layers=layers)\n",
      "/home/ubuntu/venv/organoids/lib/python3.10/site-packages/anndata2ri/r2py.py:106: FutureWarning: X.dtype being converted to np.float32 from float64. In the next version of anndata (0.9) conversion will not be automatic. Pass dtype explicitly to avoid this warning. Pass `AnnData(X, dtype=X.dtype, ...)` to get the future behavour.\n",
      "  return AnnData(exprs, obs, var, uns, obsm or None, layers=layers)\n"
     ]
    }
   ],
   "source": [
    "for fn in ['2021_Batch1_annotated', 'Batch2', 'Batch3', 'BFsubset']:\n",
    "    r(\n",
    "        f\"so = readRDS('{basepath}/{fn}.rds')\\n\"\n",
    "        f\"as.SingleCellExperiment(so, assay='RNA')\\n\"\n",
    "    ).write(f\"{basepath}/{fn}.h5ad\", compression='gzip')"
   ]
  },
  {
   "cell_type": "code",
   "execution_count": 8,
   "id": "7bcdb576-c595-429d-9982-531e80e72f02",
   "metadata": {
    "tags": []
   },
   "outputs": [],
   "source": [
    "adatas = []\n",
    "for fn in ['2021_Batch1_annotated', 'Batch2', 'Batch3', 'BFsubset']:\n",
    "    adatas.append(ad.read_h5ad(f\"{basepath}/{fn}.h5ad\"))"
   ]
  },
  {
   "cell_type": "code",
   "execution_count": 9,
   "id": "452623cb-e409-45f7-8549-1c7a95321fbd",
   "metadata": {
    "tags": []
   },
   "outputs": [],
   "source": [
    "adatas[0].obs['sample'] = 'batch0_' + adatas[0].obs['sample'].astype(str)\n",
    "adatas[1].obs['sample'] = 'batch1_' + adatas[1].obs['sample'].astype(str)\n",
    "adatas[2].obs['sample'] = 'batch2_'\n",
    "adatas[3].obs['sample'] = 'batch3_'"
   ]
  },
  {
   "cell_type": "code",
   "execution_count": 10,
   "id": "006428d7-56e6-493e-9614-ff21f3b1047f",
   "metadata": {
    "tags": []
   },
   "outputs": [
    {
     "data": {
      "text/plain": [
       "[AnnData object with n_obs × n_vars = 26327 × 36601\n",
       "     obs: 'orig.ident', 'nCount_RNA', 'nFeature_RNA', 'sample', 'percent.mito', 'RNA_snn_res.0.6', 'seurat_clusters', 'RNA_snn_res.0.3', 'ParentLine', 'CellLine', 'Mt', 'Age', 'Batch', 'Run', 'HTO', 'percent.mt', 'nCount_SCT', 'nFeature_SCT', 'SCT_snn_res.0.5', 'integrated_snn_res.0.5', 'CellType', 'QC', 'ident'\n",
       "     obsm: 'X_pca', 'X_umap'\n",
       "     layers: 'logcounts',\n",
       " AnnData object with n_obs × n_vars = 33753 × 36601\n",
       "     obs: 'orig.ident', 'nCount_RNA', 'nFeature_RNA', 'sample', 'percent.mito', 'RNA_snn_res.0.6', 'seurat_clusters', 'RNA_snn_res.0.3', 'ParentLine', 'CellLine', 'Mt', 'Age', 'Batch', 'Run', 'HTO', 'percent.mt', 'nCount_SCT', 'nFeature_SCT', 'integrated_snn_res.0.5', 'CellType', 'MixedAnnotation', 'QC', 'ident'\n",
       "     obsm: 'X_pca', 'X_umap'\n",
       "     layers: 'logcounts',\n",
       " AnnData object with n_obs × n_vars = 26147 × 36601\n",
       "     obs: 'orig.ident', 'nCount_RNA', 'nFeature_RNA', 'percent.mito', 'seurat_clusters', 'RNA_snn_res.0.6', 'Line', 'ParentLine', 'Mt', 'CellLine', 'Age', 'Batch', 'Run', 'HTO', 'percent.mt', 'nCount_SCT', 'nFeature_SCT', 'integrated_snn_res.0.5', 'CellType', 'MixedAnnotation', 'QC', 'ident', 'sample'\n",
       "     obsm: 'X_pca', 'X_umap'\n",
       "     layers: 'logcounts',\n",
       " AnnData object with n_obs × n_vars = 15347 × 36601\n",
       "     obs: 'orig.ident', 'nCount_RNA', 'nFeature_RNA', 'percent.mito', 'RNA_snn_res.0.6', 'seurat_clusters', 'ParentLine', 'CellLine', 'Mt', 'HTO', 'Batch', 'Lane', 'Age', 'percent.mt', 'nCount_SCT', 'nFeature_SCT', 'SCT_snn_res.0.5', 'integrated_snn_res.0.5', 'CellType', 'QC', 'ident', 'sample'\n",
       "     obsm: 'X_pca', 'X_umap'\n",
       "     layers: 'logcounts']"
      ]
     },
     "execution_count": 10,
     "metadata": {},
     "output_type": "execute_result"
    }
   ],
   "source": [
    "adatas"
   ]
  },
  {
   "cell_type": "code",
   "execution_count": 11,
   "id": "741d8d92-13ba-4ed2-b1c5-018eaf01f7e5",
   "metadata": {
    "tags": []
   },
   "outputs": [],
   "source": [
    "adata = ad.concat(adatas, index_unique=\"_\", label=\"Batch\")"
   ]
  },
  {
   "cell_type": "code",
   "execution_count": 12,
   "id": "bb78db66-33fc-4683-b8a3-537d5a6b5585",
   "metadata": {
    "tags": []
   },
   "outputs": [],
   "source": [
    "adata = adata[adata.obs[\"Mt\"] == \"Control\"].copy()"
   ]
  },
  {
   "cell_type": "code",
   "execution_count": 13,
   "id": "dacd8014-436b-41d5-8841-6d69a63a513e",
   "metadata": {
    "tags": []
   },
   "outputs": [
    {
     "name": "stdout",
     "output_type": "stream",
     "text": [
      "63 % gene overlap with reference\n"
     ]
    }
   ],
   "source": [
    "hnoca_genes = pd.read_csv(\"/storage/data/2404_revision/hnoca_features.csv\", index_col=0)\n",
    "adata = harmonise_genespace(adata, hnoca_genes.index.tolist())\n",
    "adata.var = hnoca_genes"
   ]
  },
  {
   "cell_type": "code",
   "execution_count": 14,
   "id": "be34a325-376d-40ad-8ff3-8afd271a1029",
   "metadata": {},
   "outputs": [],
   "source": [
    "obs_new = pd.DataFrame(index=adata.obs.index)\n",
    "\n",
    "obs_new[\"sample_source\"] = \"3d_culture\"\n",
    "obs_new[\"organism\"] = \"Homo sapiens\"\n",
    "obs_new[\"disease\"] = \"healthy\"\n",
    "\n",
    "obs_new[\"cell_line_original\"] = adata.obs[\"CellLine\"]\n",
    "obs_new[\"organoid_age_days\"] = 60\n",
    "obs_new[\"batch\"] = adata.obs[\"sample\"]\n",
    "obs_new[\"treatment\"] = adata.obs[\"Mt\"]\n",
    "obs_new[\"cell_type_original\"] = adata.obs[\"CellType\"]\n",
    "\n",
    "obs_new[\"suspension_type\"] = \"cell\"\n",
    "obs_new[\"organ\"] = \"cerebral cortex\"\n",
    "obs_new[\"assay_sc\"] = \"10x 3' v3\"\n",
    "obs_new[\"ethnicity\"] = \"unknown\"\n",
    "obs_new[\"sex\"] = \"unknown\"\n",
    "obs_new[\"development_stage\"] = \"unknown\"\n",
    "obs_new[\"cell_type\"] = obs_new[\"cell_type_original\"].replace({\n",
    "    'ExDp2': 'glutamatergic neuron',\n",
    "    'Glia': 'glial cell',\n",
    "    'UN': 'neuron',\n",
    "    'PgG2M': 'neural progenitor cell',\n",
    "    'vRG': 'radial glial cell',\n",
    "    'Ast': 'astrocyte',\n",
    "    'ExDp1': 'glutamatergic neuron',\n",
    "    'ExM-U': 'glutamatergic neuron',\n",
    "    'oRG': 'radial glial cell',\n",
    "    'IP': 'neural progenitor cell',\n",
    "    'PgS': 'neural progenitor cell',\n",
    "    'InMGE': 'medial ganglionic eminence derived GABAergic cortical interneuron',\n",
    "    'ExM': 'glutamatergic neuron',\n",
    "    'ExN': 'glutamatergic neuron',\n",
    "    'InCGE': 'caudal ganglionic eminence derived GABAergic cortical interneuron',\n",
    "    'OPC': 'oligodendrocyte precursor cell',\n",
    "})\n",
    "\n",
    "obs_new[\"obs_names_original\"] = obs_new.index\n",
    "obs_new[\"publication\"] = \"Bertucci, 2023\"\n",
    "obs_new[\"doi\"] = \"10.1101/2023.07.11.548571\"\n",
    "obs_new[\"hnoca_core\"] = False"
   ]
  },
  {
   "cell_type": "code",
   "execution_count": 15,
   "id": "9c179f8a-2327-48e6-8c45-a0136fdb860a",
   "metadata": {},
   "outputs": [],
   "source": [
    "adata.obs = obs_new\n",
    "\n",
    "adata.layers[\"counts_lengthnorm\"] = adata.X.copy()\n",
    "sc.pp.normalize_total(adata, target_sum=1e6)\n",
    "sc.pp.log1p(adata)"
   ]
  },
  {
   "cell_type": "code",
   "execution_count": 16,
   "id": "3e603fb8-1ecf-4d02-9c5d-5f7f7ab26b21",
   "metadata": {},
   "outputs": [
    {
     "name": "stdout",
     "output_type": "stream",
     "text": [
      "0.0 % cells removed\n"
     ]
    }
   ],
   "source": [
    "ncells_before = adata.n_obs\n",
    "adata = adata[(adata.X>0).sum(axis=1).A.ravel()>200].copy()\n",
    "print(f\"{(ncells_before-adata.n_obs)/ncells_before*100:.1f} % cells removed\")"
   ]
  },
  {
   "cell_type": "code",
   "execution_count": 17,
   "id": "1ca6f4a8-02f8-4953-8aea-fc6838a6369f",
   "metadata": {},
   "outputs": [
    {
     "data": {
      "text/plain": [
       "AnnData object with n_obs × n_vars = 45763 × 36842\n",
       "    obs: 'sample_source', 'organism', 'disease', 'cell_line_original', 'organoid_age_days', 'batch', 'treatment', 'cell_type_original', 'suspension_type', 'organ', 'assay_sc', 'ethnicity', 'sex', 'development_stage', 'cell_type', 'obs_names_original', 'publication', 'doi', 'hnoca_core'\n",
       "    var: 'ensembl', 'gene_symbol'\n",
       "    uns: 'log1p'\n",
       "    layers: 'counts_lengthnorm'"
      ]
     },
     "execution_count": 17,
     "metadata": {},
     "output_type": "execute_result"
    }
   ],
   "source": [
    "adata"
   ]
  },
  {
   "cell_type": "code",
   "execution_count": 18,
   "id": "85ec595b-8073-4733-98b0-ebac7973709f",
   "metadata": {},
   "outputs": [],
   "source": [
    "adata.write(f\"{basepath}/bowles.h5ad\", compression='gzip')"
   ]
  }
 ],
 "metadata": {
  "kernelspec": {
   "display_name": "Python 3 (ipykernel)",
   "language": "python",
   "name": "python3"
  },
  "language_info": {
   "codemirror_mode": {
    "name": "ipython",
    "version": 3
   },
   "file_extension": ".py",
   "mimetype": "text/x-python",
   "name": "python",
   "nbconvert_exporter": "python",
   "pygments_lexer": "ipython3",
   "version": "3.10.12"
  }
 },
 "nbformat": 4,
 "nbformat_minor": 5
}
