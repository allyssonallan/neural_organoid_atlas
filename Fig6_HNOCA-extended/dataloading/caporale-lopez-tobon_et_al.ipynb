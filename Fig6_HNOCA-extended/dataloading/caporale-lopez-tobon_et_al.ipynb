{
 "cells": [
  {
   "cell_type": "code",
   "execution_count": 1,
   "id": "d00b3823-4e26-41b3-92d2-1c7cdf1b81b8",
   "metadata": {
    "tags": []
   },
   "outputs": [],
   "source": [
    "import scanpy as sc\n",
    "import anndata as ad\n",
    "import pandas as pd\n",
    "import numpy as np\n",
    "import scipy.sparse"
   ]
  },
  {
   "cell_type": "code",
   "execution_count": 2,
   "id": "243bf19e-acfd-4161-83ad-a0ab2d7e174c",
   "metadata": {
    "tags": []
   },
   "outputs": [],
   "source": [
    "sc.set_figure_params(dpi=200)"
   ]
  },
  {
   "cell_type": "code",
   "execution_count": 3,
   "id": "cb374fb9-3403-4689-b865-8993c578a531",
   "metadata": {
    "tags": []
   },
   "outputs": [],
   "source": [
    "basepath = \"/storage/data/2404_revision/ce_data/testa_data\""
   ]
  },
  {
   "cell_type": "code",
   "execution_count": 4,
   "id": "83f21470-f859-4b61-a3ad-e5a31730009d",
   "metadata": {
    "tags": []
   },
   "outputs": [],
   "source": [
    "def harmonise_genespace(adata, genes, keep_layer=[]):\n",
    "    genes_to_add = []\n",
    "    for g in genes:\n",
    "        if g not in adata.var_names:\n",
    "            genes_to_add += [g]\n",
    "    print(f\"{(len(genes)-len(genes_to_add))/len(genes)*100:.0f} % gene overlap with reference\")\n",
    "    adata = ad.AnnData(\n",
    "        X=scipy.sparse.csr_matrix((adata.X.data, adata.X.indices, adata.X.indptr), shape=(adata.shape[0], adata.shape[1] + len(genes_to_add))),\n",
    "        obs=adata.obs,\n",
    "        var=pd.DataFrame(index=adata.var.index.tolist() + genes_to_add),\n",
    "        layers={i:scipy.sparse.csr_matrix((adata.layers[i].data, adata.layers[i].indices, adata.layers[i].indptr), shape=(adata.shape[0], adata.shape[1] + len(genes_to_add))) for i in keep_layer}\n",
    "    )[:, genes].copy()\n",
    "    \n",
    "    return adata"
   ]
  },
  {
   "cell_type": "markdown",
   "id": "7824e4be-61c1-4d7e-aa74-478a0bac3c2d",
   "metadata": {},
   "source": [
    "---"
   ]
  },
  {
   "cell_type": "markdown",
   "id": "241c2b3c-e92c-4a4d-b452-d3da22e2c5f5",
   "metadata": {},
   "source": [
    "From: https://www.biorxiv.org/content/10.1101/2023.08.21.553507v1.full.pdf\n",
    "\n",
    "Data provied directly by authors"
   ]
  },
  {
   "cell_type": "code",
   "execution_count": 5,
   "id": "52e7f1e4-c201-4bc7-9329-fc5152308090",
   "metadata": {
    "tags": []
   },
   "outputs": [],
   "source": [
    "adata_mosaic = ad.read_h5ad(f\"{basepath}/adataPagaRawMultiplexing.h5ad\")\n",
    "adata_mosaic = adata_mosaic.raw.to_adata()"
   ]
  },
  {
   "cell_type": "code",
   "execution_count": 6,
   "id": "d7d32520-82d6-4d76-a935-1d342d558af6",
   "metadata": {
    "tags": []
   },
   "outputs": [
    {
     "name": "stdout",
     "output_type": "stream",
     "text": [
      "60 % gene overlap with reference\n"
     ]
    }
   ],
   "source": [
    "hnoca_genes = pd.read_csv(\"/storage/data/2404_revision/hnoca_features.csv\", index_col=0)\n",
    "adata_mosaic = harmonise_genespace(adata_mosaic, hnoca_genes.index.tolist())\n",
    "adata_mosaic.var = hnoca_genes"
   ]
  },
  {
   "cell_type": "code",
   "execution_count": 7,
   "id": "969b4350-8755-49d5-be97-d0693d41fd34",
   "metadata": {
    "tags": []
   },
   "outputs": [],
   "source": [
    "adata_mosaic.obs[\"cellID_dataset\"] = adata_mosaic.obs[\"cellID\"].astype(str) + \"_\" + adata_mosaic.obs[\"dataset\"].astype(str)\n",
    "adata_mosaic.obs[\"cellID_dataset\"] = adata_mosaic.obs[\"cellID_dataset\"].astype(\"category\")"
   ]
  },
  {
   "cell_type": "code",
   "execution_count": 8,
   "id": "63e576e0-1d4a-47b2-8167-d4c56c467333",
   "metadata": {
    "tags": []
   },
   "outputs": [
    {
     "data": {
      "text/plain": [
       "AnnData object with n_obs × n_vars = 14913 × 36842\n",
       "    obs: 'dataset', 'cellID', 'cellID_newName', 'n_genes_by_counts', 'log1p_n_genes_by_counts', 'total_counts', 'log1p_total_counts', 'total_counts_mt', 'log1p_total_counts_mt', 'pct_counts_mt', 'total_counts_ribo', 'log1p_total_counts_ribo', 'pct_counts_ribo', 'stage', 'type', 'id_stage', 'cellID_newName_type', 'S_score', 'G2M_score', 'phase', 'leidenAnnotated', 'leiden_1.2', 'endpoint_GlutamatergicNeurons_late', 'endpoint_GlutamatergicNeurons_early', 'endpoint_MigratingNeurons', 'endpoint_OuterRadialGliaAstrocytes', 'endpoint_Interneurons', 'endpoint_Interneurons_GAD2', 'endpoint_CajalR_like', 'Exc_Lineage', 'endpoint_GlutamatergicNeurons_both', 'cellID_dataset'\n",
       "    var: 'ensembl', 'gene_symbol'"
      ]
     },
     "execution_count": 8,
     "metadata": {},
     "output_type": "execute_result"
    }
   ],
   "source": [
    "adata_mosaic"
   ]
  },
  {
   "cell_type": "code",
   "execution_count": 9,
   "id": "4751520a-dec2-4e6c-a0b1-52742dba7c32",
   "metadata": {
    "tags": []
   },
   "outputs": [],
   "source": [
    "obs_new = pd.DataFrame(index=adata_mosaic.obs.index)\n",
    "\n",
    "obs_new[\"sample_source\"] = \"3d_culture\"\n",
    "obs_new[\"organism\"] = \"Homo sapiens\"\n",
    "obs_new[\"disease\"] = \"healthy\"\n",
    "\n",
    "obs_new[\"cell_line_original\"] = adata_mosaic.obs[\"cellID\"]\n",
    "obs_new[\"organoid_age_days\"] = adata_mosaic.obs[\"dataset\"].replace({\n",
    "    'UpD300': 300,\n",
    "    'UpD50': 50,\n",
    "    'DownD50': 50,\n",
    "    'DownD250': 250,\n",
    "    'DownD100': 100,\n",
    "    'UpD100_2': 100,\n",
    "    'UpD100_1': 100,\n",
    "})\n",
    "obs_new[\"batch\"] = adata_mosaic.obs[\"cellID_dataset\"]\n",
    "obs_new[\"treatment\"] = \"\"\n",
    "obs_new[\"cell_type_original\"] = adata_mosaic.obs[\"leidenAnnotated\"]\n",
    "\n",
    "obs_new[\"suspension_type\"] = \"cell\"\n",
    "obs_new[\"organ\"] = \"cerebral cortex\"\n",
    "obs_new[\"assay_sc\"] = \"10x 3' v2\"\n",
    "obs_new[\"ethnicity\"] = \"unknown\"\n",
    "obs_new[\"sex\"] = \"unknown\"\n",
    "obs_new[\"development_stage\"] = \"unknown\"\n",
    "obs_new[\"cell_type\"] = obs_new[\"cell_type_original\"].replace({\n",
    "    'Neurons': 'neuron',\n",
    "    'GlutamatergicNeurons_late': 'glutamatergic neuron',\n",
    "    'RadialGliaProgenitors': 'radial glial cell',\n",
    "    'ProliferatingProgenitors': 'neural progenitor cell',\n",
    "    'GlutamatergicNeurons_early': 'glutamatergic neuron',\n",
    "    'MigratingNeurons': 'neuron',\n",
    "    'intermediateProgenitors': 'neural progenitor cell',\n",
    "    'Interneurons': 'interneuron',\n",
    "    'Interneurons_GAD2': 'interneuron',\n",
    "    'OuterRadialGliaAstrocytes': 'glioblast',\n",
    "    'CajalR_like': 'Cajal-Retzius cell',\n",
    "})\n",
    "\n",
    "obs_new[\"obs_names_original\"] = obs_new.index\n",
    "obs_new[\"publication\"] = \"Caporale, 2023\"\n",
    "obs_new[\"doi\"] = \"10.1101/2023.08.21.553507\"\n",
    "obs_new[\"hnoca_core\"] = False"
   ]
  },
  {
   "cell_type": "code",
   "execution_count": 10,
   "id": "6aeb0607-aca5-433f-b03c-fedfcca53af8",
   "metadata": {
    "tags": []
   },
   "outputs": [],
   "source": [
    "adata_mosaic.obs = obs_new\n",
    "\n",
    "adata_mosaic.layers[\"counts_lengthnorm\"] = adata_mosaic.X.copy()\n",
    "sc.pp.normalize_total(adata_mosaic, target_sum=1e6)\n",
    "sc.pp.log1p(adata_mosaic)"
   ]
  },
  {
   "cell_type": "code",
   "execution_count": 11,
   "id": "66bc19c1-0e26-4648-8dfc-aaf47dbbf2a2",
   "metadata": {},
   "outputs": [
    {
     "name": "stdout",
     "output_type": "stream",
     "text": [
      "0.0 % cells removed\n"
     ]
    }
   ],
   "source": [
    "ncells_before = adata_mosaic.n_obs\n",
    "adata_mosaic = adata_mosaic[(adata_mosaic.X>0).sum(axis=1).A.ravel()>200].copy()\n",
    "print(f\"{(ncells_before-adata_mosaic.n_obs)/ncells_before*100:.1f} % cells removed\")"
   ]
  },
  {
   "cell_type": "code",
   "execution_count": 12,
   "id": "ef7d18ba-145b-4b52-a4a8-0d952df6ee78",
   "metadata": {},
   "outputs": [
    {
     "data": {
      "text/plain": [
       "AnnData object with n_obs × n_vars = 14913 × 36842\n",
       "    obs: 'sample_source', 'organism', 'disease', 'cell_line_original', 'organoid_age_days', 'batch', 'treatment', 'cell_type_original', 'suspension_type', 'organ', 'assay_sc', 'ethnicity', 'sex', 'development_stage', 'cell_type', 'obs_names_original', 'publication', 'doi', 'hnoca_core'\n",
       "    var: 'ensembl', 'gene_symbol'\n",
       "    uns: 'log1p'\n",
       "    layers: 'counts_lengthnorm'"
      ]
     },
     "execution_count": 12,
     "metadata": {},
     "output_type": "execute_result"
    }
   ],
   "source": [
    "adata_mosaic"
   ]
  },
  {
   "cell_type": "code",
   "execution_count": 13,
   "id": "91a9fea8-4496-497b-a56c-bfedfcc8e530",
   "metadata": {
    "tags": []
   },
   "outputs": [],
   "source": [
    "adata_mosaic.write(f\"{basepath}/testa_mosaic.h5ad\", compression=\"gzip\")"
   ]
  },
  {
   "cell_type": "markdown",
   "id": "95a2a6fe-cbea-447d-9cf0-e6282779e97e",
   "metadata": {},
   "source": [
    "---"
   ]
  },
  {
   "cell_type": "markdown",
   "id": "61bf7de8-fba9-41cc-9830-ba060b9f0bbf",
   "metadata": {},
   "source": [
    "From: https://www.science.org/doi/10.1126/sciadv.adh2726\n",
    "\n",
    "Data provied directly by authors"
   ]
  },
  {
   "cell_type": "code",
   "execution_count": 14,
   "id": "12b2c36e-5acf-4cd7-b2ca-ea8bdc3d5644",
   "metadata": {
    "tags": []
   },
   "outputs": [],
   "source": [
    "adata_ndd = ad.read_h5ad(f\"{basepath}/Corrected_Velo_RawNolog_filtered.h5ad\")"
   ]
  },
  {
   "cell_type": "code",
   "execution_count": 15,
   "id": "73d51960-13ac-4702-bbd2-51bbc9df6357",
   "metadata": {
    "tags": []
   },
   "outputs": [
    {
     "name": "stderr",
     "output_type": "stream",
     "text": [
      "/home/ubuntu/venv/organoids/lib/python3.10/site-packages/anndata/compat/__init__.py:263: FutureWarning: During AnnData slicing, found matrix at .uns['velocity_graph'] that happens to be dimensioned at n_obs×n_obs (97794×97794).\n",
      "\n",
      "These matrices should now be stored in the .obsp attribute.\n",
      "This slicing behavior will be removed in anndata 0.8.\n",
      "  warn(\n",
      "/home/ubuntu/venv/organoids/lib/python3.10/site-packages/anndata/compat/__init__.py:263: FutureWarning: During AnnData slicing, found matrix at .uns['velocity_graph_neg'] that happens to be dimensioned at n_obs×n_obs (97794×97794).\n",
      "\n",
      "These matrices should now be stored in the .obsp attribute.\n",
      "This slicing behavior will be removed in anndata 0.8.\n",
      "  warn(\n"
     ]
    }
   ],
   "source": [
    "adata_ndd = adata_ndd.raw.to_adata()\n",
    "adata_ndd = adata_ndd[adata_ndd.obs[\"Group\"] == \"CTL\"].copy()"
   ]
  },
  {
   "cell_type": "code",
   "execution_count": 16,
   "id": "75a8a5df-26e0-40c9-b381-75316c443e71",
   "metadata": {
    "tags": []
   },
   "outputs": [
    {
     "name": "stdout",
     "output_type": "stream",
     "text": [
      "54 % gene overlap with reference\n"
     ]
    }
   ],
   "source": [
    "hnoca_genes = pd.read_csv(\"/storage/data/2404_revision/hnoca_features.csv\", index_col=0)\n",
    "adata_ndd = harmonise_genespace(adata_ndd, hnoca_genes.index.tolist())\n",
    "adata_ndd.var = hnoca_genes"
   ]
  },
  {
   "cell_type": "code",
   "execution_count": 17,
   "id": "a059cc8f-8547-4039-a2e2-74f8ff0bdea6",
   "metadata": {},
   "outputs": [],
   "source": [
    "obs_new = pd.DataFrame(index=adata_ndd.obs.index)\n",
    "\n",
    "obs_new[\"sample_source\"] = \"3d_culture\"\n",
    "obs_new[\"organism\"] = \"Homo sapiens\"\n",
    "obs_new[\"disease\"] = \"healthy\"\n",
    "\n",
    "obs_new[\"cell_line_original\"] = adata_ndd.obs[\"CellLine\"]\n",
    "obs_new[\"organoid_age_days\"] = adata_ndd.obs[\"Stage\"].replace({\n",
    "    'd50': 50,\n",
    "    'd100': 100,\n",
    "})\n",
    "obs_new[\"batch\"] = adata_ndd.obs[\"easyNaming\"]\n",
    "obs_new[\"treatment\"] = adata_ndd.obs[\"Group\"]\n",
    "obs_new[\"cell_type_original\"] = adata_ndd.obs[\"lOfficial\"]\n",
    "\n",
    "obs_new[\"suspension_type\"] = \"cell\"\n",
    "obs_new[\"organ\"] = \"cerebral cortex\"\n",
    "obs_new[\"assay_sc\"] = \"10x 3' v2\"\n",
    "obs_new[\"ethnicity\"] = \"unknown\"\n",
    "obs_new[\"sex\"] = \"unknown\"\n",
    "obs_new[\"development_stage\"] = \"unknown\"\n",
    "obs_new[\"cell_type\"] = obs_new[\"cell_type_original\"].replace({\n",
    "    'RG_IPC2': 'radial glial cell',\n",
    "    'EN1': 'glutamatergic neuron',\n",
    "    'Astro': 'astrocyte',\n",
    "    'ENE': 'glutamatergic neuron',\n",
    "    'RG1': 'radial glial cell',\n",
    "    'IPC': 'neural progenitor cell',\n",
    "    'RG_IPC': 'radial glial cell',\n",
    "    'IN': 'interneuron',\n",
    "    '5': 'unknown',\n",
    "})\n",
    "\n",
    "obs_new[\"obs_names_original\"] = obs_new.index\n",
    "obs_new[\"publication\"] = \"Lopez-Tobon, 2023\"\n",
    "obs_new[\"doi\"] = \"10.1126/sciadv.adh2726\"\n",
    "obs_new[\"hnoca_core\"] = False"
   ]
  },
  {
   "cell_type": "code",
   "execution_count": 18,
   "id": "d1b016ec-205c-424d-aaea-8ce360ed087d",
   "metadata": {},
   "outputs": [],
   "source": [
    "adata_ndd.obs = obs_new\n",
    "\n",
    "adata_ndd.layers[\"counts_lengthnorm\"] = adata_ndd.X.copy()\n",
    "sc.pp.normalize_total(adata_ndd, target_sum=1e6)\n",
    "sc.pp.log1p(adata_ndd)"
   ]
  },
  {
   "cell_type": "code",
   "execution_count": 19,
   "id": "7fdfc6a2-eb60-47d6-93d2-f023e8d400aa",
   "metadata": {},
   "outputs": [
    {
     "name": "stdout",
     "output_type": "stream",
     "text": [
      "0.0 % cells removed\n"
     ]
    }
   ],
   "source": [
    "ncells_before = adata_ndd.n_obs\n",
    "adata_ndd = adata_ndd[(adata_ndd.X>0).sum(axis=1).A.ravel()>200].copy()\n",
    "print(f\"{(ncells_before-adata_ndd.n_obs)/ncells_before*100:.1f} % cells removed\")"
   ]
  },
  {
   "cell_type": "code",
   "execution_count": 20,
   "id": "b905a4e6-151f-4948-b61b-ff83dac61df1",
   "metadata": {},
   "outputs": [
    {
     "data": {
      "text/plain": [
       "AnnData object with n_obs × n_vars = 29585 × 36842\n",
       "    obs: 'sample_source', 'organism', 'disease', 'cell_line_original', 'organoid_age_days', 'batch', 'treatment', 'cell_type_original', 'suspension_type', 'organ', 'assay_sc', 'ethnicity', 'sex', 'development_stage', 'cell_type', 'obs_names_original', 'publication', 'doi', 'hnoca_core'\n",
       "    var: 'ensembl', 'gene_symbol'\n",
       "    uns: 'log1p'\n",
       "    layers: 'counts_lengthnorm'"
      ]
     },
     "execution_count": 20,
     "metadata": {},
     "output_type": "execute_result"
    }
   ],
   "source": [
    "adata_ndd"
   ]
  },
  {
   "cell_type": "code",
   "execution_count": 21,
   "id": "5eb0fd65-2f30-4b4e-bff8-100a8aab3f4c",
   "metadata": {
    "tags": []
   },
   "outputs": [],
   "source": [
    "adata_ndd.write(f\"{basepath}/testa_ndd.h5ad\", compression=\"gzip\")"
   ]
  }
 ],
 "metadata": {
  "kernelspec": {
   "display_name": "Python 3 (ipykernel)",
   "language": "python",
   "name": "python3"
  },
  "language_info": {
   "codemirror_mode": {
    "name": "ipython",
    "version": 3
   },
   "file_extension": ".py",
   "mimetype": "text/x-python",
   "name": "python",
   "nbconvert_exporter": "python",
   "pygments_lexer": "ipython3",
   "version": "3.10.12"
  }
 },
 "nbformat": 4,
 "nbformat_minor": 5
}
