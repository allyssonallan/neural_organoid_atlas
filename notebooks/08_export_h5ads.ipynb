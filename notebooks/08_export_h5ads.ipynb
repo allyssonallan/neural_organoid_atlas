{
 "cells": [
  {
   "cell_type": "code",
   "execution_count": 1,
   "id": "869d6e6a-3793-4983-91f7-7792ef9ee4f0",
   "metadata": {
    "tags": []
   },
   "outputs": [
    {
     "name": "stderr",
     "output_type": "stream",
     "text": [
      "WARNING:root:name and ontology keys are both missing\n",
      "WARNING:nxontology.imports:Cannot add edge: MmusDv:0000000 --> MmusDv:0000038 (mouse life cycle stage --> infant stage): node does not exist in graph: MmusDv:0000038\n",
      "WARNING:nxontology.imports:Cannot add edge: MmusDv:0000000 --> MmusDv:0000043 (mouse life cycle stage --> immature stage): node does not exist in graph: MmusDv:0000043\n",
      "WARNING:nxontology.imports:Cannot add edge: MmusDv:0000000 --> MmusDv:0000044 (mouse life cycle stage --> 1-7 days): node does not exist in graph: MmusDv:0000044\n",
      "WARNING:nxontology.imports:Cannot add edge: MmusDv:0000000 --> MmusDv:0000096 (mouse life cycle stage --> early immature stage): node does not exist in graph: MmusDv:0000096\n"
     ]
    }
   ],
   "source": [
    "import scanpy as sc\n",
    "import pandas as pd\n",
    "import numpy as np\n",
    "import anndata as ad\n",
    "from sfaira.consts.ontologies import OntologyContainerSfaira"
   ]
  },
  {
   "cell_type": "code",
   "execution_count": null,
   "id": "311b7ecc-de2e-41a7-8add-a53de9aca151",
   "metadata": {
    "tags": []
   },
   "outputs": [],
   "source": [
    "adata = sc.read_h5ad(\"/storage/data/organoid_atlas_adatas/230620_10_updated_manual_annotation.h5ad\")"
   ]
  },
  {
   "cell_type": "markdown",
   "id": "65bc1283-9528-4770-bdc1-44d5b8fc0614",
   "metadata": {},
   "source": [
    "# Add final metadata annotation updates"
   ]
  },
  {
   "cell_type": "code",
   "execution_count": null,
   "id": "be000b76-cdc8-45ae-9fa5-a72dc3d208de",
   "metadata": {
    "tags": []
   },
   "outputs": [],
   "source": [
    "updated_labels = pd.read_csv(\"/storage/data/2405_revision/new_metadata/metadata_240523.tsv.gz\", sep=\"\\t\", index_col=0, low_memory=False)\n",
    "newfields = ['CorrDiff_max_Braun_Bhaduri', 'CorrDiff_top5mean_Braun_Bhaduri', 'GO_canonical_glycolysis', 'GO_canonical_glycolysis_unscaled', 'GO_mitochondrial_ATP_synthesis_coupled_electron_transport', 'Hallmark_Glycolysis', 'Hallmark_Hypoxia', 'Hallmark_Oxidative_Phosphorylation', 'annot_level_3_rev2', 'annot_level_4_rev2', 'annot_ntt_rev2', 'annot_region_rev2', 'organoid_age_months', 'organoid_age_weeks', 'publication_protocol',]"
   ]
  },
  {
   "cell_type": "code",
   "execution_count": null,
   "id": "09fcb975-785e-41b5-8c88-068dd1b0a30b",
   "metadata": {
    "tags": []
   },
   "outputs": [],
   "source": [
    "# Update publication details for Atamian et al. 2024 which has now been published\n",
    "adata.obs[\"publication\"] = adata.obs[\"publication\"].replace(\"Quadrato, 2023\", \"Atamian, 2024\")\n",
    "adata.obs[\"doi\"] = adata.obs[\"doi\"].replace(\"no_doi_quadrato\", \"10.1016/j.stem.2023.11.013\")\n",
    "\n",
    "# Clean up obs columns\n",
    "adata.obs[\"state_exact\"] = adata.obs[\"state_exact\"].replace(\"\", \"unknown\")\n",
    "adata.obs[\"treatment\"] = adata.obs[\"treatment\"].replace(\"\", \"unknown\")\n",
    "adata.obs[\"disease\"] = adata.obs[\"disease\"].replace(\"Rett syndrome\", \"unknown\")  # these samples have wildtype MECP2 expression and should not be labelled as diseased"
   ]
  },
  {
   "cell_type": "code",
   "execution_count": null,
   "id": "d229aebb-f678-428c-94f2-bb83cac76a10",
   "metadata": {
    "tags": []
   },
   "outputs": [],
   "source": [
    "adata.obs[newfields] = updated_labels[newfields]"
   ]
  },
  {
   "cell_type": "code",
   "execution_count": null,
   "id": "aa461f2a-82a7-4c08-8473-336511a20dd9",
   "metadata": {
    "tags": []
   },
   "outputs": [],
   "source": [
    "new_obs_order = [\n",
    "    'assay_differentiation',\n",
    "    'assay_sc',\n",
    "    'assay_sc_original',\n",
    "    'assay_type_differentiation',\n",
    "    'bio_sample',\n",
    "    'cell_line',\n",
    "    'cell_line_original',\n",
    "    'cell_type',\n",
    "    'cell_type_original',\n",
    "    'development_stage',\n",
    "    'development_stage_original',\n",
    "    'disease',\n",
    "    'disease_original',\n",
    "    'ethnicity',\n",
    "    'ethnicity_original',\n",
    "    'gm',\n",
    "    'id',\n",
    "    'individual',\n",
    "    'organ',\n",
    "    'organ_original',\n",
    "    'organism',\n",
    "    'organism_original',\n",
    "    'sample_source',\n",
    "    'sex',\n",
    "    'sex_original',\n",
    "    'source_doi',\n",
    "    'state_exact',\n",
    "    'suspension_type',\n",
    "    'suspension_type_original',\n",
    "    'tech_sample',\n",
    "    'treatment',\n",
    "    'organoid_age_days',\n",
    "    'organoid_age_weeks',\n",
    "    'organoid_age_months',\n",
    "    'publication',\n",
    "    'publication_protocol',\n",
    "    'doi',\n",
    "    'batch',\n",
    "    'n_genes_by_counts',\n",
    "    'log1p_n_genes_by_counts',\n",
    "    'total_counts',\n",
    "    'log1p_total_counts',\n",
    "    'total_counts_mt',\n",
    "    'log1p_total_counts_mt',\n",
    "    'pct_counts_mt',\n",
    "    'leiden_pca_unintegrated_1',\n",
    "    'leiden_pca_unintegrated_80',\n",
    "    'leiden_pca_rss_1',\n",
    "    'leiden_pca_rss_80',\n",
    "    'snapseed_pca_unintegrated_level_1',\n",
    "    'snapseed_pca_unintegrated_level_2',\n",
    "    'snapseed_pca_unintegrated_level_3',\n",
    "    'snapseed_pca_unintegrated_level_4',\n",
    "    'snapseed_pca_unintegrated_level_5',\n",
    "    'snapseed_pca_unintegrated_level_12',\n",
    "    'snapseed_pca_unintegrated_level_123',\n",
    "    'snapseed_pca_unintegrated_level_1234',\n",
    "    'snapseed_pca_unintegrated_level_12345',\n",
    "    'snapseed_pca_rss_level_1',\n",
    "    'snapseed_pca_rss_level_2',\n",
    "    'snapseed_pca_rss_level_3',\n",
    "    'snapseed_pca_rss_level_4',\n",
    "    'snapseed_pca_rss_level_5',\n",
    "    'snapseed_pca_rss_level_12',\n",
    "    'snapseed_pca_rss_level_123',\n",
    "    'snapseed_pca_rss_level_1234',\n",
    "    'snapseed_pca_rss_level_12345',\n",
    "    'leiden_scpoli_1',\n",
    "    'leiden_scpoli_80',\n",
    "    'snapseed_scpoli_level_1',\n",
    "    'snapseed_scpoli_level_2',\n",
    "    'snapseed_scpoli_level_3',\n",
    "    'snapseed_scpoli_level_4',\n",
    "    'snapseed_scpoli_level_5',\n",
    "    'snapseed_scpoli_level_12',\n",
    "    'snapseed_scpoli_level_123',\n",
    "    'snapseed_scpoli_level_1234',\n",
    "    'snapseed_scpoli_level_12345',\n",
    "    'ECM_raw',\n",
    "    'ROCK_inhibitor_raw',\n",
    "    'BMP_activator_raw',\n",
    "    'TGF_B_activator_raw',\n",
    "    'TGF_B_inhibitor_raw',\n",
    "    'BMP_inhibitor_raw',\n",
    "    'WNT_activator_raw',\n",
    "    'WNT_inhibitor_raw',\n",
    "    'EGF_raw',\n",
    "    'FGF2_raw',\n",
    "    'FGF8_raw',\n",
    "    'SHH_agonist_raw',\n",
    "    'RA_raw',\n",
    "    'MEK_ERK_inhibitor_raw',\n",
    "    'Notch_inhibitor_raw',\n",
    "    'manual_annot_ct',\n",
    "    'manual_annot_ct_fine',\n",
    "    'manual_annot_region',\n",
    "    'annot_level_1',\n",
    "    'annot_level_2',\n",
    "    'annot_level_3',\n",
    "    'annot_level_3_rev2',\n",
    "    'annot_level_4',\n",
    "    'annot_level_4_rev2',\n",
    "    'annot_region',\n",
    "    'annot_region_rev2',\n",
    "    'annot_ntt_rev2',\n",
    "    'CorrDiff_max_Braun_Bhaduri',\n",
    "    'CorrDiff_top5mean_Braun_Bhaduri',\n",
    "    'GO_canonical_glycolysis',\n",
    "    'GO_canonical_glycolysis_unscaled',\n",
    "    'GO_mitochondrial_ATP_synthesis_coupled_electron_transport',\n",
    "    'Hallmark_Glycolysis',\n",
    "    'Hallmark_Hypoxia',\n",
    "    'Hallmark_Oxidative_Phosphorylation',\n",
    "]"
   ]
  },
  {
   "cell_type": "code",
   "execution_count": null,
   "id": "f2e4cafc-4d3f-4718-9238-42f642b20821",
   "metadata": {
    "tags": []
   },
   "outputs": [],
   "source": [
    "adata.obs = adata.obs[new_obs_order].copy()"
   ]
  },
  {
   "cell_type": "code",
   "execution_count": null,
   "id": "a120ef84-7d77-4ed0-8a70-87c612f6d7b7",
   "metadata": {
    "tags": []
   },
   "outputs": [],
   "source": [
    "adata"
   ]
  },
  {
   "cell_type": "code",
   "execution_count": null,
   "id": "2712a742-0439-42ee-98e7-b37c43dfd36b",
   "metadata": {
    "tags": []
   },
   "outputs": [],
   "source": [
    "adata.X = adata.layers[\"lognorm\"].copy()"
   ]
  },
  {
   "cell_type": "code",
   "execution_count": null,
   "id": "b8f9bb40-f547-4b35-b50a-97b653386e51",
   "metadata": {
    "tags": []
   },
   "outputs": [],
   "source": [
    "# write full object for Zenodo\n",
    "adata.write(\"/storage/data/final_adata_object_export/hnoca_allmeta.h5ad\", compression=\"gzip\")"
   ]
  },
  {
   "cell_type": "markdown",
   "id": "18470efb-af96-46ef-9e5d-770da0ad1fc4",
   "metadata": {},
   "source": [
    "# Clean adata for ArchMap and CellxGene"
   ]
  },
  {
   "cell_type": "code",
   "execution_count": null,
   "id": "8dbdae8b-64f2-4e61-973d-13d400c33082",
   "metadata": {
    "tags": []
   },
   "outputs": [],
   "source": [
    "filtered_obs = [\n",
    "    'assay_differentiation',\n",
    "    'assay_sc',\n",
    "    'assay_sc_original',\n",
    "    'assay_type_differentiation',\n",
    "    'bio_sample',\n",
    "    'cell_line',\n",
    "    'cell_line_original',\n",
    "    'cell_type',\n",
    "    'cell_type_original',\n",
    "    'development_stage',\n",
    "    'development_stage_original',\n",
    "    'disease',\n",
    "    'disease_original',\n",
    "    'ethnicity',\n",
    "    'ethnicity_original',\n",
    "    'gm',\n",
    "    'id',\n",
    "    'individual',\n",
    "    'organ',\n",
    "    'organ_original',\n",
    "    'organism',\n",
    "    'organism_original',\n",
    "    'sample_source',\n",
    "    'sex',\n",
    "    'sex_original',\n",
    "    #'source_doi',\n",
    "    'state_exact',\n",
    "    'suspension_type',\n",
    "    'suspension_type_original',\n",
    "    'tech_sample',\n",
    "    'treatment',\n",
    "    'organoid_age_days',\n",
    "    #'organoid_age_weeks',\n",
    "    #'organoid_age_months',\n",
    "    'publication',\n",
    "    #'publication_protocol',\n",
    "    'doi',\n",
    "    'batch',\n",
    "    'n_genes_by_counts',\n",
    "    'log1p_n_genes_by_counts',\n",
    "    'total_counts',\n",
    "    'log1p_total_counts',\n",
    "    'total_counts_mt',\n",
    "    'log1p_total_counts_mt',\n",
    "    'pct_counts_mt',\n",
    "    #'leiden_pca_unintegrated_1',\n",
    "    #'leiden_pca_unintegrated_80',\n",
    "    #'leiden_pca_rss_1',\n",
    "    #'leiden_pca_rss_80',\n",
    "    #'snapseed_pca_unintegrated_level_1',\n",
    "    #'snapseed_pca_unintegrated_level_2',\n",
    "    #'snapseed_pca_unintegrated_level_3',\n",
    "    #'snapseed_pca_unintegrated_level_4',\n",
    "    #'snapseed_pca_unintegrated_level_5',\n",
    "    #'snapseed_pca_unintegrated_level_12',\n",
    "    #'snapseed_pca_unintegrated_level_123',\n",
    "    #'snapseed_pca_unintegrated_level_1234',\n",
    "    #'snapseed_pca_unintegrated_level_12345',\n",
    "    #'snapseed_pca_rss_level_1',\n",
    "    #'snapseed_pca_rss_level_2',\n",
    "    #'snapseed_pca_rss_level_3',\n",
    "    #'snapseed_pca_rss_level_4',\n",
    "    #'snapseed_pca_rss_level_5',\n",
    "    #'snapseed_pca_rss_level_12',\n",
    "    #'snapseed_pca_rss_level_123',\n",
    "    #'snapseed_pca_rss_level_1234',\n",
    "    #'snapseed_pca_rss_level_12345',\n",
    "    #'leiden_scpoli_1',\n",
    "    #'leiden_scpoli_80',\n",
    "    #'snapseed_scpoli_level_1',\n",
    "    #'snapseed_scpoli_level_2',\n",
    "    #'snapseed_scpoli_level_3',\n",
    "    #'snapseed_scpoli_level_4',\n",
    "    #'snapseed_scpoli_level_5',\n",
    "    #'snapseed_scpoli_level_12',\n",
    "    #'snapseed_scpoli_level_123',\n",
    "    #'snapseed_scpoli_level_1234',\n",
    "    #'snapseed_scpoli_level_12345',\n",
    "    #'ECM_raw',\n",
    "    #'ROCK_inhibitor_raw',\n",
    "    #'BMP_activator_raw',\n",
    "    #'TGF_B_activator_raw',\n",
    "    #'TGF_B_inhibitor_raw',\n",
    "    #'BMP_inhibitor_raw',\n",
    "    #'WNT_activator_raw',\n",
    "    #'WNT_inhibitor_raw',\n",
    "    #'EGF_raw',\n",
    "    #'FGF2_raw',\n",
    "    #'FGF8_raw',\n",
    "    #'SHH_agonist_raw',\n",
    "    #'RA_raw',\n",
    "    #'MEK_ERK_inhibitor_raw',\n",
    "    #'Notch_inhibitor_raw',\n",
    "    #'manual_annot_ct',\n",
    "    #'manual_annot_ct_fine',\n",
    "    #'manual_annot_region',\n",
    "    'annot_level_1',\n",
    "    'annot_level_2',\n",
    "    #'annot_level_3',\n",
    "    'annot_level_3_rev2',\n",
    "    #'annot_level_4',\n",
    "    'annot_level_4_rev2',\n",
    "    #'annot_region',\n",
    "    'annot_region_rev2',\n",
    "    'annot_ntt_rev2',\n",
    "    #'CorrDiff_max_Braun_Bhaduri',\n",
    "    #'CorrDiff_top5mean_Braun_Bhaduri',\n",
    "    #'GO_canonical_glycolysis',\n",
    "    #'GO_canonical_glycolysis_unscaled',\n",
    "    #'GO_mitochondrial_ATP_synthesis_coupled_electron_transport',\n",
    "    'Hallmark_Glycolysis',\n",
    "    #'Hallmark_Hypoxia',\n",
    "    #'Hallmark_Oxidative_Phosphorylation',\n",
    "]\n",
    "\n",
    "filtered_var = [\n",
    "    'ensembl',\n",
    "    'gene_symbol',\n",
    "    'mt',\n",
    "    'n_cells_by_counts',\n",
    "    'mean_counts',\n",
    "    'log1p_mean_counts',\n",
    "    'pct_dropout_by_counts',\n",
    "    'total_counts',\n",
    "    'log1p_total_counts',\n",
    "    'gene_length',\n",
    "    'highly_variable',\n",
    "    'highly_variable_rank',\n",
    "    'means',\n",
    "    'variances',\n",
    "    'variances_norm',\n",
    "    'highly_variable_nbatches',\n",
    "]\n",
    "\n",
    "filtered_obsm = [\n",
    "    #'X_benchmark_aggr_scpoli_level1',\n",
    "    #'X_benchmark_aggr_scpoli_level123',\n",
    "    #'X_benchmark_scanvi_level1',\n",
    "    #'X_benchmark_scanvi_level12',\n",
    "    #'X_benchmark_scanvi_level123',\n",
    "    #'X_benchmark_scpoli_level1',\n",
    "    #'X_benchmark_scpoli_level12',\n",
    "    #'X_benchmark_scpoli_level123',\n",
    "    #'X_benchmark_scvi',\n",
    "    #'X_pca_rss',\n",
    "    #'X_pca_unintegrated',\n",
    "    #'X_rss',\n",
    "    'X_scpoli',\n",
    "    #'X_umap_benchmark_aggr_scpoli_level1',\n",
    "    #'X_umap_benchmark_aggr_scpoli_level123',\n",
    "    #'X_umap_pca_rss',\n",
    "    #'X_umap_pca_unintegrated',\n",
    "    'X_umap_scpoli',\n",
    "]\n",
    "\n",
    "filtered_obsp = [\n",
    "    #'knn_pca_rss_connectivities',\n",
    "    #'knn_pca_rss_distances',\n",
    "    #'knn_pca_unintegrated_connectivities',\n",
    "    #'knn_pca_unintegrated_distances',\n",
    "    'knn_scpoli_connectivities',\n",
    "    'knn_scpoli_distances',\n",
    "]\n",
    "\n",
    "filtered_uns = [\n",
    "    'hvg',\n",
    "    #'knn_pca_rss',\n",
    "    #'knn_pca_unintegrated',\n",
    "    'knn_scpoli',\n",
    "    'log1p',\n",
    "]\n",
    "\n",
    "filtered_layers = [\n",
    "    #'counts',\n",
    "    'counts_lengthnorm',\n",
    "    #'lognorm',\n",
    "]"
   ]
  },
  {
   "cell_type": "code",
   "execution_count": null,
   "id": "97295d15-eb16-4df5-b864-9c29b6fe8234",
   "metadata": {
    "tags": []
   },
   "outputs": [],
   "source": [
    "adata.obs = adata.obs[filtered_obs].copy()\n",
    "adata.var = adata.var[filtered_var].copy()\n",
    "for k in list(adata.uns_keys()):\n",
    "    if k not in filtered_uns:\n",
    "        del adata.uns[k]\n",
    "for k in list(adata.obsm_keys()):\n",
    "    if k not in filtered_obsm:\n",
    "        del adata.obsm[k]\n",
    "for k in list(adata.obsp.keys()):\n",
    "    if k not in filtered_obsp:\n",
    "        del adata.obsp[k]\n",
    "for k in list(adata.layers.keys()):\n",
    "    if k not in filtered_layers:\n",
    "        del adata.layers[k]"
   ]
  },
  {
   "cell_type": "code",
   "execution_count": null,
   "id": "85fa6ec0-255d-4b45-bb2d-96e013b4a073",
   "metadata": {
    "tags": []
   },
   "outputs": [],
   "source": [
    "adata"
   ]
  },
  {
   "cell_type": "code",
   "execution_count": null,
   "id": "98906794-55e5-4353-a7f3-4497b931017a",
   "metadata": {
    "tags": []
   },
   "outputs": [],
   "source": [
    "adata.write(\"/storage/data/final_adata_object_export/hnoca_cleanedmeta.h5ad\", compression=\"gzip\")"
   ]
  },
  {
   "cell_type": "code",
   "execution_count": null,
   "id": "4da8a221-d2c4-48f0-b93c-ab8e065a95c9",
   "metadata": {
    "tags": []
   },
   "outputs": [],
   "source": [
    "adata[adata.obs[\"publication\"] != \"Treutlein, 2023\"].write(\"/storage/data/final_adata_object_export/hnoca_publiconly_cleanedmeta.h5ad\", compression=\"gzip\")"
   ]
  },
  {
   "cell_type": "code",
   "execution_count": null,
   "id": "5a48e76e-b18b-4bdc-a554-04f5f978e24e",
   "metadata": {
    "tags": []
   },
   "outputs": [],
   "source": [
    "adata[:, adata.var[\"highly_variable\"]].write(\"/storage/data/final_adata_object_export/hnoca_cleanedmeta_hvg.h5ad\", compression=\"gzip\")"
   ]
  },
  {
   "cell_type": "code",
   "execution_count": null,
   "id": "e5a581ac-0b94-4f9f-839b-6d8f9f948c9e",
   "metadata": {
    "tags": []
   },
   "outputs": [],
   "source": [
    "adata[adata.obs[\"publication\"] != \"Treutlein, 2023\", adata.var[\"highly_variable\"]].write(\"/storage/data/final_adata_object_export/hnoca_publiconly_cleanedmeta_hvg.h5ad\", compression=\"gzip\")"
   ]
  },
  {
   "cell_type": "markdown",
   "id": "77563bd9-a2a0-481b-be31-44cd0d451e4b",
   "metadata": {},
   "source": [
    "## CellxGene"
   ]
  },
  {
   "cell_type": "code",
   "execution_count": null,
   "id": "dc8cae13-1153-4966-8f41-2b15f6a3dfd6",
   "metadata": {
    "tags": []
   },
   "outputs": [],
   "source": [
    "adata = sc.read_h5ad(\"/storage/data/final_adata_object_export/hnoca_cleanedmeta.h5ad\")"
   ]
  },
  {
   "cell_type": "code",
   "execution_count": null,
   "id": "3d4678f1-703a-4627-930f-77b03aee9c34",
   "metadata": {
    "tags": []
   },
   "outputs": [],
   "source": [
    "oc = OntologyContainerSfaira()"
   ]
  },
  {
   "cell_type": "code",
   "execution_count": null,
   "id": "8468e85e-dd38-430c-a034-3686a91288f7",
   "metadata": {
    "tags": []
   },
   "outputs": [],
   "source": [
    "# remove the duplicated indices from the fiorenzano standard organoid sample (subset anndata for faster computation of duplicates)\n",
    "\n",
    "a = adata[adata.obs[\"tech_sample\"].isin([\n",
    "    \"homosapiens_midbraintegmentum_2021_10x3v3_fiorenzanoalessandro_001_d10_1038_s41467_021_27464_509silk\",\n",
    "    \"homosapiens_midbraintegmentum_2021_10x3v3_fiorenzanoalessandro_001_d10_1038_s41467_021_27464_55standardorgday30\"\n",
    "])].copy()\n",
    "\n",
    "dups = a.obs_names[\n",
    "    pd.util.hash_pandas_object(pd.DataFrame(a.X.A, index=a.obs_names, columns=a.var_names), index=False).duplicated(keep=False) & \\\n",
    "    (a.obs[\"tech_sample\"] == \"homosapiens_midbraintegmentum_2021_10x3v3_fiorenzanoalessandro_001_d10_1038_s41467_021_27464_55standardorgday30\")\n",
    "].tolist()\n",
    "\n",
    "dups += [\"homosapiens_midbraintegmentum_2021_10x3v3_fiorenzanoalessandro_001_d10_1038_s41467_021_27464_5_16549\"] # additional duplicate arising after cellxgene processing\n",
    "\n",
    "adata = adata[~adata.obs_names.isin(dups)].copy()"
   ]
  },
  {
   "cell_type": "code",
   "execution_count": null,
   "id": "34217736-aa5c-4168-88da-72fb4e8bf3de",
   "metadata": {
    "tags": []
   },
   "outputs": [],
   "source": [
    "# remove 'original' metadata columns apart from celltype\n",
    "for k in list(adata.obs_keys()):\n",
    "    if k.endswith(\"_original\") and k != \"cell_type_original\":\n",
    "        del adata.obs[k]"
   ]
  },
  {
   "cell_type": "code",
   "execution_count": null,
   "id": "3326a082-04d6-408d-9fef-b54973df5151",
   "metadata": {
    "tags": []
   },
   "outputs": [],
   "source": [
    "# add cellxgene-specific .uns metadata\n",
    "adata.uns[\"title\"] = \"The Human Neural Organoid Atlas\"\n",
    "adata.uns[\"batch_condition\"] = \"batch\"\n",
    "adata.uns[\"default_embedding\"] = \"X_umap_scpoli\""
   ]
  },
  {
   "cell_type": "code",
   "execution_count": null,
   "id": "d0907285-8e62-470a-bf77-372135ea8c6e",
   "metadata": {
    "tags": []
   },
   "outputs": [],
   "source": [
    "# var index should be Ensembl ID\n",
    "adata.var.index = adata.var[\"ensembl\"].tolist()"
   ]
  },
  {
   "cell_type": "code",
   "execution_count": null,
   "id": "f619953f-7fea-4527-a2e1-0876e2b4d53d",
   "metadata": {
    "tags": []
   },
   "outputs": [],
   "source": [
    "# store raw counts in raw.X\n",
    "adata.raw = ad.AnnData(X=np.round(adata.layers[\"counts_lengthnorm\"]), var=adata.var, obs=adata.obs)\n",
    "del adata.layers[\"counts_lengthnorm\"]"
   ]
  },
  {
   "cell_type": "code",
   "execution_count": null,
   "id": "e2e28afe-013b-4fd7-8aed-39544ef4dceb",
   "metadata": {
    "tags": []
   },
   "outputs": [],
   "source": [
    "adata.obs[\"organism_ontology_term_id\"] = pd.Categorical(adata.shape[0]*[\"NCBITaxon:9606\"])\n",
    "del adata.obs[\"organism\"]\n",
    "\n",
    "adata.obs[\"tissue_type\"] = pd.Categorical(adata.shape[0]*[\"organoid\"])\n",
    "del adata.obs[\"sample_source\"]\n",
    "\n",
    "adata.obs[\"sex_ontology_term_id\"] = adata.obs[\"sex\"].replace({\"male\": \"PATO:0000384\", \"female\": \"PATO:0000383\"})\n",
    "del adata.obs[\"sex\"]\n",
    "\n",
    "adata.obs[\"donor_id\"] = adata.obs[\"cell_line\"].copy()\n",
    "\n",
    "adata.obs[\"assay_ontology_term_id\"] = adata.obs[\"assay_sc\"].replace({i:oc.assay_sc.convert_to_id(i) for i in adata.obs[\"assay_sc\"].cat.categories})\n",
    "del adata.obs[\"assay_sc\"]\n",
    "\n",
    "adata.obs[\"self_reported_ethnicity_ontology_term_id\"] = adata.obs[\"ethnicity\"].replace({i:oc.ethnicity['Homo sapiens'].convert_to_id(i) for i in adata.obs[\"ethnicity\"].cat.categories if i != \"unknown\"})\n",
    "del adata.obs[\"ethnicity\"]\n",
    "\n",
    "adata.obs[\"tissue_ontology_term_id\"] = adata.obs[\"organ\"].replace({i:oc.organ.convert_to_id(i) for i in adata.obs[\"organ\"].cat.categories})\n",
    "del adata.obs[\"organ\"]\n",
    "\n",
    "adata.obs[\"disease_ontology_term_id\"] = adata.obs[\"disease\"].replace({\"unknown\": \"healthy\"}).replace({i:oc.disease.convert_to_id(i) for i in adata.obs[\"disease\"].cat.categories if i != \"unknown\"})\n",
    "del adata.obs[\"disease\"]\n",
    "\n",
    "adata.obs[\"development_stage_ontology_term_id\"] = adata.obs[\"development_stage\"].replace({i:oc.development_stage['Homo sapiens'].convert_to_id(i) for i in adata.obs[\"development_stage\"].cat.categories if i != \"unknown\"})\n",
    "del adata.obs[\"development_stage\"]\n",
    "\n",
    "adata.obs[\"cell_type_ontology_term_id\"] = adata.obs[\"cell_type\"].replace({i:oc.cell_type.convert_to_id(i) for i in adata.obs[\"cell_type\"].cat.categories if i != \"unknown\"})\n",
    "del adata.obs[\"cell_type\"]"
   ]
  },
  {
   "cell_type": "code",
   "execution_count": null,
   "id": "c663e795-89fa-4f83-b745-835fe1ee5c4f",
   "metadata": {
    "tags": []
   },
   "outputs": [],
   "source": [
    "adata.write(\"/storage/data/final_adata_object_export/hnoca_cellxgene.h5ad\", compression=\"gzip\")"
   ]
  },
  {
   "cell_type": "code",
   "execution_count": null,
   "id": "9ec4b8aa-e95e-4215-a183-1895c47269a4",
   "metadata": {
    "tags": []
   },
   "outputs": [],
   "source": [
    "adata[adata.obs[\"publication\"] != \"Treutlein, 2023\"].write(\"/storage/data/final_adata_object_export/hnoca_publiconly_cellxgene.h5ad\", compression=\"gzip\")"
   ]
  },
  {
   "cell_type": "markdown",
   "id": "72cd6602-ee3c-4773-91a5-20b386ccf1cd",
   "metadata": {},
   "source": [
    "# HNOCA-Extended"
   ]
  },
  {
   "cell_type": "code",
   "execution_count": null,
   "id": "91469cf5-b151-486a-8c47-3c9e70384a55",
   "metadata": {
    "tags": []
   },
   "outputs": [],
   "source": [
    "adata = sc.read(\"/storage/data/final_adata_object_export/hnoca_cleanedmeta.h5ad\")"
   ]
  },
  {
   "cell_type": "code",
   "execution_count": null,
   "id": "d8c1509c-e87d-46c2-8c09-52068a2edea2",
   "metadata": {
    "tags": []
   },
   "outputs": [],
   "source": [
    "adata.var[[\"ensembl\", \"gene_symbol\"]].to_csv(\"/storage/data/2404_revision/hnoca_features.csv\")"
   ]
  },
  {
   "cell_type": "code",
   "execution_count": null,
   "id": "3a4d63de-579b-4475-a185-5be2087bbc66",
   "metadata": {},
   "outputs": [],
   "source": [
    "filtered_obs = [\n",
    "    'assay_differentiation',\n",
    "    'assay_sc',\n",
    "    'assay_sc_original',\n",
    "    'assay_type_differentiation',\n",
    "    'bio_sample',\n",
    "    'cell_line',\n",
    "    'cell_line_original',\n",
    "    'cell_type',\n",
    "    'cell_type_original',\n",
    "    'development_stage',\n",
    "    'development_stage_original',\n",
    "    'disease',\n",
    "    'disease_original',\n",
    "    'ethnicity',\n",
    "    'ethnicity_original',\n",
    "    'gm',\n",
    "    'id',\n",
    "    'individual',\n",
    "    'organ',\n",
    "    'organ_original',\n",
    "    'organism',\n",
    "    'organism_original',\n",
    "    'sample_source',\n",
    "    'sex',\n",
    "    'sex_original',\n",
    "    'state_exact',\n",
    "    'suspension_type',\n",
    "    'suspension_type_original',\n",
    "    'tech_sample',\n",
    "    'treatment',\n",
    "    'organoid_age_days',\n",
    "    'publication',\n",
    "    'doi',\n",
    "    'batch',\n",
    "    #'n_genes_by_counts',\n",
    "    #'log1p_n_genes_by_counts',\n",
    "    #'total_counts',\n",
    "    #'log1p_total_counts',\n",
    "    #'total_counts_mt',\n",
    "    #'log1p_total_counts_mt',\n",
    "    #'pct_counts_mt',\n",
    "    'annot_level_1',\n",
    "    'annot_level_2',\n",
    "    'annot_level_3_rev2',\n",
    "    'annot_level_4_rev2',\n",
    "    'annot_region_rev2',\n",
    "    'annot_ntt_rev2',\n",
    "    'Hallmark_Glycolysis',\n",
    "    'hnoca_core',\n",
    "]\n",
    "\n",
    "filtered_var = [\n",
    "    'ensembl',\n",
    "    'gene_symbol',\n",
    "    #'mt',\n",
    "    #'n_cells_by_counts',\n",
    "    #'mean_counts',\n",
    "    #'log1p_mean_counts',\n",
    "    #'pct_dropout_by_counts',\n",
    "    #'total_counts',\n",
    "    #'log1p_total_counts',\n",
    "    'gene_length',\n",
    "    'highly_variable',\n",
    "    'highly_variable_rank',\n",
    "    #'means',\n",
    "    #'variances',\n",
    "    #'variances_norm',\n",
    "    'highly_variable_nbatches',\n",
    "]"
   ]
  },
  {
   "cell_type": "code",
   "execution_count": null,
   "id": "69ed6ddc-ad86-4d15-9998-13569a9620f2",
   "metadata": {},
   "outputs": [],
   "source": [
    "adata.obs[\"hnoca_core\"] = True"
   ]
  },
  {
   "cell_type": "code",
   "execution_count": null,
   "id": "442b8351-a333-4ed1-a78d-32a379ddac3e",
   "metadata": {
    "tags": []
   },
   "outputs": [],
   "source": [
    "adata_extended = ad.concat((\n",
    "    adata,\n",
    "    ad.read_h5ad(\"/storage/data/2404_revision/ce_output/hnoca_ce_query_allgenes.h5ad\"),\n",
    "), join=\"outer\")"
   ]
  },
  {
   "cell_type": "code",
   "execution_count": null,
   "id": "1eb82639-ff6a-468d-b7ea-6fef8107c0c0",
   "metadata": {
    "tags": []
   },
   "outputs": [],
   "source": [
    "adata_extended.obs = adata_extended.obs[filtered_obs].copy()\n",
    "adata_extended.var = adata.var[filtered_var].copy()\n",
    "del adata_extended.obsm"
   ]
  },
  {
   "cell_type": "code",
   "execution_count": null,
   "id": "d7263aff-43f5-4198-a308-03b206f8527a",
   "metadata": {
    "tags": []
   },
   "outputs": [],
   "source": [
    "# save HVG object without embeddings for mapping\n",
    "adata_extended[:, adata_extended.var[\"highly_variable\"]].copy().write(\"/storage/data/final_adata_object_export/hnoca_ce_hvg_noemb.h5ad\", compression=\"gzip\")"
   ]
  },
  {
   "cell_type": "code",
   "execution_count": null,
   "id": "42798a49-fc9e-4025-9e3f-b929a2d93618",
   "metadata": {},
   "outputs": [],
   "source": [
    "# add embeddings and celltype predictions from HVG mapped object\n",
    "embeddings = ad.read_h5ad(\"/storage/data/2404_revision/ce_output/hnoca_community_joint.h5ad\")\n",
    "\n",
    "adata_extended.obsp[\"knn_scpoli_connectivities\"] = embeddings.obsp[\"knn_scpoli_connectivities\"].copy()\n",
    "adata_extended.obsp[\"knn_scpoli_distances\"] = embeddings.obsp[\"knn_scpoli_distances\"].copy()\n",
    "\n",
    "adata_extended.obsm[\"X_scpoli\"] = embeddings.obsm[\"X_scpoli\"].copy()\n",
    "adata_extended.obsm[\"X_umap_scpoli\"] = embeddings.obsm[\"X_umap_scpoli\"].copy()\n",
    "\n",
    "adata_extended.obs[\"annot_level_2_extended\"] = embeddings.obs[\"annot_level_2\"]\n",
    "adata_extended.obs.loc[adata_extended.obs[\"annot_level_2_extended\"].isna(), \"annot_level_2_extended\"] = embeddings.obs.loc[adata_extended.obs[\"annot_level_2_extended\"].isna(), \"annot_level_2_query\"].astype(str)"
   ]
  },
  {
   "cell_type": "code",
   "execution_count": null,
   "id": "e140bfbb-4911-4490-8b33-c5ff9d12862b",
   "metadata": {
    "tags": []
   },
   "outputs": [],
   "source": [
    "adata_extended"
   ]
  },
  {
   "cell_type": "code",
   "execution_count": null,
   "id": "17487bcf-6c47-45d3-a072-4e886e09fa83",
   "metadata": {
    "tags": []
   },
   "outputs": [],
   "source": [
    "adata_extended.write(\"/storage/data/final_adata_object_export/hnoca_extended.h5ad\", compression=\"gzip\")"
   ]
  },
  {
   "cell_type": "code",
   "execution_count": null,
   "id": "1ac97f58-c2ec-4c14-8c8d-0beb4e26df63",
   "metadata": {
    "tags": []
   },
   "outputs": [],
   "source": [
    "adata_extended[adata_extended.obs[\"publication\"] != \"Treutlein, 2023\"].write(\"/storage/data/final_adata_object_export/hnoca_publiconly_extended.h5ad\", compression=\"gzip\")"
   ]
  },
  {
   "cell_type": "code",
   "execution_count": null,
   "id": "95241cda-d8d4-42e1-8321-cb47631c7f70",
   "metadata": {
    "tags": []
   },
   "outputs": [],
   "source": [
    "adata_extended[:, adata_extended.var[\"highly_variable\"]].write(\"/storage/data/final_adata_object_export/hnoca_extended_hvg.h5ad\", compression=\"gzip\")"
   ]
  },
  {
   "cell_type": "code",
   "execution_count": null,
   "id": "2f91cf69-97fe-4e95-b508-86908bb0b022",
   "metadata": {
    "tags": []
   },
   "outputs": [],
   "source": [
    "adata_extended[adata_extended.obs[\"publication\"] != \"Treutlein, 2023\", adata_extended.var[\"highly_variable\"]].write(\"/storage/data/final_adata_object_export/hnoca_publiconly_extended_hvg.h5ad\", compression=\"gzip\")"
   ]
  },
  {
   "cell_type": "markdown",
   "id": "52ccac16-c797-4e2a-a782-ffc1a967278f",
   "metadata": {},
   "source": [
    "## CellxGene"
   ]
  },
  {
   "cell_type": "code",
   "execution_count": null,
   "id": "8c5a59b7-c0e3-44fc-8d40-4f23d110aa8d",
   "metadata": {
    "tags": []
   },
   "outputs": [],
   "source": [
    "oc = OntologyContainerSfaira()"
   ]
  },
  {
   "cell_type": "code",
   "execution_count": null,
   "id": "56920399-7622-4e0c-93ad-c89a059cae1d",
   "metadata": {
    "tags": []
   },
   "outputs": [],
   "source": [
    "# remove the duplicated indices found in the fiorenzano standard organoid sample (subset anndata for faster computation of duplicates)\n",
    "\n",
    "a = adata_extended[adata_extended.obs[\"tech_sample\"].isin([\n",
    "    \"homosapiens_midbraintegmentum_2021_10x3v3_fiorenzanoalessandro_001_d10_1038_s41467_021_27464_509silk\",\n",
    "    \"homosapiens_midbraintegmentum_2021_10x3v3_fiorenzanoalessandro_001_d10_1038_s41467_021_27464_55standardorgday30\"\n",
    "])].copy()\n",
    "\n",
    "dups = a.obs_names[\n",
    "    pd.util.hash_pandas_object(pd.DataFrame(a.X.A, index=a.obs_names, columns=a.var_names), index=False).duplicated(keep=False) & \\\n",
    "    (a.obs[\"tech_sample\"] == \"homosapiens_midbraintegmentum_2021_10x3v3_fiorenzanoalessandro_001_d10_1038_s41467_021_27464_55standardorgday30\")\n",
    "]\n",
    "\n",
    "dups += [\"homosapiens_midbraintegmentum_2021_10x3v3_fiorenzanoalessandro_001_d10_1038_s41467_021_27464_5_16549\"] # additional duplicate arising after cellxgene processing\n",
    "\n",
    "adata_extended = adata_extended[~adata_extended.obs_names.isin(dups)].copy()"
   ]
  },
  {
   "cell_type": "code",
   "execution_count": null,
   "id": "a7d81f10-6aa7-4863-82e8-7d58242203b4",
   "metadata": {
    "tags": []
   },
   "outputs": [],
   "source": [
    "# remove 'original' metadata columns apart from celltype\n",
    "for k in list(adata_extended.obs_keys()):\n",
    "    if k.endswith(\"_original\") and k != \"cell_type_original\":\n",
    "        del adata_extended.obs[k]"
   ]
  },
  {
   "cell_type": "code",
   "execution_count": null,
   "id": "117e4a84-58c7-48ab-b958-03c05fdadfa7",
   "metadata": {
    "tags": []
   },
   "outputs": [],
   "source": [
    "# add cellxgene-specific .uns metadata\n",
    "adata_extended.uns[\"title\"] = \"HNOCA Extended: The Human Neural Organoid Atlas\"\n",
    "adata_extended.uns[\"batch_condition\"] = \"batch\"\n",
    "adata_extended.uns[\"default_embedding\"] = \"X_umap_scpoli\""
   ]
  },
  {
   "cell_type": "code",
   "execution_count": null,
   "id": "a42d818d-69b7-410f-8412-a05012fe470e",
   "metadata": {
    "tags": []
   },
   "outputs": [],
   "source": [
    "# var index should be Ensembl ID\n",
    "adata_extended.var.index = adata_extended.var[\"ensembl\"].tolist()"
   ]
  },
  {
   "cell_type": "code",
   "execution_count": null,
   "id": "120b3597-5e00-4aff-ac35-1043ba1a4841",
   "metadata": {
    "tags": []
   },
   "outputs": [],
   "source": [
    "# store raw counts in raw.X\n",
    "adata_extended.raw = ad.AnnData(X=np.round(adata_extended.layers[\"counts_lengthnorm\"]), var=adata_extended.var, obs=adata_extended.obs)\n",
    "del adata_extended.layers[\"counts_lengthnorm\"]"
   ]
  },
  {
   "cell_type": "code",
   "execution_count": null,
   "id": "d7a20ad0-db3a-4213-a16b-8d44b91108ef",
   "metadata": {
    "tags": []
   },
   "outputs": [],
   "source": [
    "adata_extended.obs[\"organism_ontology_term_id\"] = pd.Categorical(adata_extended.shape[0]*[\"NCBITaxon:9606\"])\n",
    "del adata_extended.obs[\"organism\"]\n",
    "\n",
    "adata_extended.obs[\"tissue_type\"] = pd.Categorical(adata_extended.shape[0]*[\"organoid\"])\n",
    "del adata_extended.obs[\"sample_source\"]\n",
    "\n",
    "adata_extended.obs[\"sex_ontology_term_id\"] = adata_extended.obs[\"sex\"].replace({\"male\": \"PATO:0000384\", \"female\": \"PATO:0000383\"})\n",
    "del adata_extended.obs[\"sex\"]\n",
    "\n",
    "adata_extended.obs[\"donor_id\"] = adata_extended.obs[\"cell_line\"].copy()\n",
    "\n",
    "adata_extended.obs[\"assay_ontology_term_id\"] = adata_extended.obs[\"assay_sc\"].replace({i:oc.assay_sc.convert_to_id(i) for i in adata_extended.obs[\"assay_sc\"].cat.categories})\n",
    "del adata_extended.obs[\"assay_sc\"]\n",
    "\n",
    "adata_extended.obs[\"self_reported_ethnicity_ontology_term_id\"] = adata_extended.obs[\"ethnicity\"].replace({i:oc.ethnicity['Homo sapiens'].convert_to_id(i) for i in adata_extended.obs[\"ethnicity\"].cat.categories if i != \"unknown\"})\n",
    "del adata_extended.obs[\"ethnicity\"]\n",
    "\n",
    "adata_extended.obs[\"tissue_ontology_term_id\"] = adata_extended.obs[\"organ\"].replace({i:oc.organ.convert_to_id(i) for i in adata_extended.obs[\"organ\"].cat.categories})\n",
    "del adata_extended.obs[\"organ\"]\n",
    "\n",
    "adata_extended.obs[\"disease_ontology_term_id\"] = adata_extended.obs[\"disease\"].replace({\"unknown\": \"healthy\"}).replace({i:oc.disease.convert_to_id(i) for i in adata_extended.obs[\"disease\"].cat.categories if i != \"unknown\"})\n",
    "del adata_extended.obs[\"disease\"]\n",
    "\n",
    "adata_extended.obs[\"development_stage_ontology_term_id\"] = adata_extended.obs[\"development_stage\"].replace({i:oc.development_stage['Homo sapiens'].convert_to_id(i) for i in adata_extended.obs[\"development_stage\"].cat.categories if i != \"unknown\"})\n",
    "del adata_extended.obs[\"development_stage\"]\n",
    "\n",
    "adata_extended.obs[\"cell_type_ontology_term_id\"] = adata_extended.obs[\"cell_type\"].replace({i:oc.cell_type.convert_to_id(i) for i in adata_extended.obs[\"cell_type\"].cat.categories if i != \"unknown\"})\n",
    "del adata_extended.obs[\"cell_type\"]"
   ]
  },
  {
   "cell_type": "code",
   "execution_count": null,
   "id": "4a8871de-cc76-4726-b6ce-e7bed27cd47a",
   "metadata": {
    "tags": []
   },
   "outputs": [],
   "source": [
    "adata_extended.write(\"/storage/data/final_adata_object_export/hnoca_extended_cellxgene.h5ad\", compression=\"gzip\")"
   ]
  },
  {
   "cell_type": "code",
   "execution_count": null,
   "id": "9530b4c3-ecef-4fea-b98f-d9253e545d14",
   "metadata": {
    "tags": []
   },
   "outputs": [],
   "source": [
    "adata_extended[adata_extended.obs[\"publication\"] != \"Treutlein, 2023\"].write(\"/storage/data/final_adata_object_export/hnoca_publiconly_extended_cellxgene.h5ad\", compression=\"gzip\")"
   ]
  }
 ],
 "metadata": {
  "kernelspec": {
   "display_name": "Python 3 (ipykernel)",
   "language": "python",
   "name": "python3"
  },
  "language_info": {
   "codemirror_mode": {
    "name": "ipython",
    "version": 3
   },
   "file_extension": ".py",
   "mimetype": "text/x-python",
   "name": "python",
   "nbconvert_exporter": "python",
   "pygments_lexer": "ipython3",
   "version": "3.10.12"
  }
 },
 "nbformat": 4,
 "nbformat_minor": 5
}
