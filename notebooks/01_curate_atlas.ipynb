{
 "cells": [
  {
   "cell_type": "code",
   "execution_count": 1,
   "id": "187a2c53-bfc9-436f-b242-91a8cd0d6780",
   "metadata": {
    "tags": []
   },
   "outputs": [
    {
     "name": "stderr",
     "output_type": "stream",
     "text": [
      "WARNING:root:name and ontology keys are both missing\n",
      "WARNING:nxontology.imports:Cannot add edge: MmusDv:0000000 --> MmusDv:0000038 (mouse life cycle stage --> infant stage): node does not exist in graph: MmusDv:0000038\n",
      "WARNING:nxontology.imports:Cannot add edge: MmusDv:0000000 --> MmusDv:0000043 (mouse life cycle stage --> immature stage): node does not exist in graph: MmusDv:0000043\n",
      "WARNING:nxontology.imports:Cannot add edge: MmusDv:0000000 --> MmusDv:0000044 (mouse life cycle stage --> 1-7 days): node does not exist in graph: MmusDv:0000044\n",
      "WARNING:nxontology.imports:Cannot add edge: MmusDv:0000000 --> MmusDv:0000096 (mouse life cycle stage --> early immature stage): node does not exist in graph: MmusDv:0000096\n"
     ]
    }
   ],
   "source": [
    "import sfaira\n",
    "import copy\n",
    "import numpy as np\n",
    "import pandas as pd"
   ]
  },
  {
   "cell_type": "code",
   "execution_count": 2,
   "id": "84a005a7-4b1e-4aba-99f4-ac08a81ee201",
   "metadata": {
    "tags": []
   },
   "outputs": [
    {
     "name": "stderr",
     "output_type": "stream",
     "text": [
      "WARNING:nxontology.imports:Cannot add edge: MmusDv:0000000 --> MmusDv:0000038 (mouse life cycle stage --> infant stage): node does not exist in graph: MmusDv:0000038\n",
      "WARNING:nxontology.imports:Cannot add edge: MmusDv:0000000 --> MmusDv:0000043 (mouse life cycle stage --> immature stage): node does not exist in graph: MmusDv:0000043\n",
      "WARNING:nxontology.imports:Cannot add edge: MmusDv:0000000 --> MmusDv:0000044 (mouse life cycle stage --> 1-7 days): node does not exist in graph: MmusDv:0000044\n",
      "WARNING:nxontology.imports:Cannot add edge: MmusDv:0000000 --> MmusDv:0000096 (mouse life cycle stage --> early immature stage): node does not exist in graph: MmusDv:0000096\n"
     ]
    }
   ],
   "source": [
    "univ = sfaira.data.Universe(\n",
    "    data_path=\"/storage/data/sfaira_data/raw/\",\n",
    "    meta_path=\"/storage/data/sfaira_data/meta/\",\n",
    "    cache_path=\"/storage/data/sfaira_data/cache/\"\n",
    ")"
   ]
  },
  {
   "cell_type": "code",
   "execution_count": 3,
   "id": "362e93e1-1804-4e41-bbc1-a785dff59b98",
   "metadata": {},
   "outputs": [],
   "source": [
    "dois = [\n",
    "    \"10.1038/nature22330\",\n",
    "    \"10.1016/j.neuron.2017.07.035\",\n",
    "    \"10.1038/s41586-019-1654-9\",\n",
    "    \"10.1038/s41593-018-0316-9\",\n",
    "    \"10.1016/j.stem.2019.08.002\",\n",
    "    \"10.1038/s41586-019-1289-x\",\n",
    "    \"10.1016/j.stem.2018.12.015\",\n",
    "    \"10.1038/s41592-018-0255-0\",\n",
    "    \"10.1016/j.cell.2020.11.017\",\n",
    "    \"10.1038/s41586-020-1962-0\",\n",
    "    \"10.1038/s41587-020-00763-w\",\n",
    "    \"10.1126/science.aaz5626\",\n",
    "    \"10.1016/j.stem.2020.02.002\",\n",
    "    \"10.1038/s41380-020-0844-z\",\n",
    "    \"10.1038/s41591-020-1043-9\",\n",
    "    \"10.1016/j.cell.2021.07.003\",\n",
    "    \"10.1038/s41467-021-27464-5\",\n",
    "    \"10.1016/j.stem.2021.04.006\",\n",
    "    \"10.1038/s41593-021-00906-5\",\n",
    "    \"10.1038/s41586-022-05279-8\",\n",
    "    \"10.1038/s41592-021-01344-8\",\n",
    "    \"10.1038/s41586-021-04330-4\",\n",
    "    \"10.1016/j.cell.2022.09.010\",\n",
    "    \"10.15252/embj.2022111118\",\n",
    "    \"10.1038/s41586-021-04358-6\",\n",
    "    \"no_doi_quadrato\",\n",
    "    \"no_doi_treutlein\",\n",
    "]"
   ]
  },
  {
   "cell_type": "code",
   "execution_count": 4,
   "id": "2b8e446c-4f63-4bf3-a6f6-e25c39d61c3d",
   "metadata": {
    "tags": []
   },
   "outputs": [],
   "source": [
    "excluded_ids = [\n",
    "    \"homosapiens_None_2017_smartseq2_bireyfikri_002_d10_1038_nature22330\",\n",
    "    \"homosapiens_None_2020_10x3v2_bhaduriaparna_002_d10_1038_s41586_020_1962_0\",\n",
    "    \"homosapiens_brain_2020_quartzseq_sawadatomoyo_001_d10_1038_s41380_020_0844_z\",\n",
    "    \"homosapiens_brain_2020_quartzseq_sawadatomoyo_002_d10_1038_s41380_020_0844_z\",\n",
    "    \"homosapiens_brain_2020_quartzseq_sawadatomoyo_003_d10_1038_s41380_020_0844_z\",\n",
    "    \"homosapiens_brain_2020_quartzseq_sawadatomoyo_004_d10_1038_s41380_020_0844_z\",\n",
    "    \"homosapiens_cerebralcortex_2020_10x3v2_khanthemasap_003_d10_1038_s41591_020_1043_9\",\n",
    "    \"homosapiens_cerebralcortex_2020_10x3v2_khanthemasap_004_d10_1038_s41591_020_1043_9\",\n",
    "    \"homosapiens_arcuatenucleusofhypothalamus_2021_dropseq_huangweikai_004_d10_1016_j_stem_2021_04_006\",\n",
    "    \"homosapiens_arcuatenucleusofhypothalamus_2021_dropseq_huangweikai_005_d10_1016_j_stem_2021_04_006\",\n",
    "    \"homosapiens_arcuatenucleusofhypothalamus_2021_dropseq_huangweikai_006_d10_1016_j_stem_2021_04_006\",\n",
    "    \"homosapiens_arcuatenucleusofhypothalamus_2021_dropseq_huangweikai_007_d10_1016_j_stem_2021_04_006\",\n",
    "    \"homosapiens_arcuatenucleusofhypothalamus_2021_dropseq_huangweikai_010_d10_1016_j_stem_2021_04_006\",\n",
    "    \"homosapiens_arcuatenucleusofhypothalamus_2021_dropseq_huangweikai_011_d10_1016_j_stem_2021_04_006\",\n",
    "    \"homosapiens_arcuatenucleusofhypothalamus_2021_dropseq_huangweikai_012_d10_1016_j_stem_2021_04_006\",\n",
    "    \"homosapiens_arcuatenucleusofhypothalamus_2021_dropseq_huangweikai_013_d10_1016_j_stem_2021_04_006\",\n",
    "    \"homosapiens_brain_2021_10x3v3_samarasingheranmala_002_d10_1038_s41593_021_00906_5\",\n",
    "    \"homosapiens_brain_2021_10x3v3_samarasingheranmala_004_d10_1038_s41593_021_00906_5\",\n",
    "    \"homosapiens_brain_2021_10x3v3_samarasingheranmala_006_d10_1038_s41593_021_00906_5\",\n",
    "    \"homosapiens_telencephalon_2022_10xscatacseq_uzquianoana_009_d10_1016_j_cell_2022_09_010\",\n",
    "    \"homosapiens_telencephalon_2022_singlecelllibraryconstruction_uzquianoana_010_d10_1016_j_cell_2022_09_010\",\n",
    "    \"homosapiens_telencephalon_2022_singlecelllibraryconstruction_uzquianoana_011_d10_1016_j_cell_2022_09_010\",\n",
    "    \"homosapiens_corticalplate_2022_10x3v3_uzquianoana_014_d10_1016_j_cell_2022_09_010\",\n",
    "]"
   ]
  },
  {
   "cell_type": "code",
   "execution_count": 5,
   "id": "fc6e2cc1-5bd0-40e9-802b-ca1934cf4043",
   "metadata": {
    "tags": []
   },
   "outputs": [],
   "source": [
    "assert np.all([i in univ.ids for i in excluded_ids])"
   ]
  },
  {
   "cell_type": "code",
   "execution_count": 6,
   "id": "c93fd033-d9cb-470d-9fd0-83558c60f140",
   "metadata": {},
   "outputs": [
    {
     "name": "stdout",
     "output_type": "stream",
     "text": [
      "962\n",
      "105\n",
      "82\n"
     ]
    }
   ],
   "source": [
    "print(len(univ.ids))\n",
    "univ.subset(key=\"doi\", values=dois)\n",
    "print(len(univ.ids))\n",
    "univ.subset(key=\"id\", values=[i for i in univ.ids if i not in excluded_ids])\n",
    "print(len(univ.ids))"
   ]
  },
  {
   "cell_type": "code",
   "execution_count": 7,
   "id": "e21deb7e-5059-4bd4-b77b-5b435dd51217",
   "metadata": {
    "scrolled": true,
    "tags": []
   },
   "outputs": [
    {
     "name": "stdout",
     "output_type": "stream",
     "text": [
      "File GSE107771_RAW.tar already found on disk, skipping download.\n",
      "File GSE107771_RAW.tar already found on disk, skipping download.\n",
      "File GSE107771_RAW.tar already found on disk, skipping download.\n",
      "File GSE205554_integration_all_preGruffi.Rds.gz already found on disk, skipping download.\n",
      "File GSE145122_RAW.tar already found on disk, skipping download.\n",
      "File GSE145122_RAW.tar already found on disk, skipping download.\n",
      "File GSE187877_expression_count_matrix.txt.gz already found on disk, skipping download.\n",
      "File rna_matrices.tar.gz already found on disk, skipping download.\n",
      "File counts.mtx.gz already found on disk, skipping download.\n",
      "File barcodes.tsv.gz already found on disk, skipping download.\n",
      "File features.tsv.gz already found on disk, skipping download.\n",
      "File metadata.tsv.gz already found on disk, skipping download.\n",
      "SCP directory SCP1756 already found on disk, assuming complete content, skipping download.\n",
      "SCP directory SCP1756 already found on disk, assuming complete content, skipping download.\n",
      "SCP directory SCP1756 already found on disk, assuming complete content, skipping download.\n",
      "SCP directory SCP1756 already found on disk, assuming complete content, skipping download.\n",
      "SCP directory SCP1756 already found on disk, assuming complete content, skipping download.\n",
      "SCP directory SCP1756 already found on disk, assuming complete content, skipping download.\n",
      "SCP directory SCP1756 already found on disk, assuming complete content, skipping download.\n",
      "SCP directory SCP1756 already found on disk, assuming complete content, skipping download.\n",
      "SCP directory SCP1756 already found on disk, assuming complete content, skipping download.\n",
      "SCP directory SCP1756 already found on disk, assuming complete content, skipping download.\n",
      "File organoidsmatrix_nonorm.txt.gz already found on disk, skipping download.\n",
      "File 41586_2020_1962_MOESM3_ESM.xlsx already found on disk, skipping download.\n",
      "SCP directory SCP1129 already found on disk, assuming complete content, skipping download.\n",
      "SCP directory SCP1129 already found on disk, assuming complete content, skipping download.\n",
      "SCP directory SCP1129 already found on disk, assuming complete content, skipping download.\n",
      "SCP directory SCP1129 already found on disk, assuming complete content, skipping download.\n",
      "SCP directory SCP1129 already found on disk, assuming complete content, skipping download.\n",
      "SCP directory SCP1129 already found on disk, assuming complete content, skipping download.\n",
      "SCP directory SCP1129 already found on disk, assuming complete content, skipping download.\n",
      "SCP directory SCP1129 already found on disk, assuming complete content, skipping download.\n",
      "SCP directory SCP1129 already found on disk, assuming complete content, skipping download.\n",
      "SCP directory SCP1129 already found on disk, assuming complete content, skipping download.\n",
      "SCP directory SCP1129 already found on disk, assuming complete content, skipping download.\n",
      "SCP directory SCP1129 already found on disk, assuming complete content, skipping download.\n",
      "SCP directory SCP1129 already found on disk, assuming complete content, skipping download.\n",
      "SCP directory SCP1129 already found on disk, assuming complete content, skipping download.\n",
      "SCP directory SCP1129 already found on disk, assuming complete content, skipping download.\n",
      "SCP directory SCP1129 already found on disk, assuming complete content, skipping download.\n",
      "SCP directory SCP1129 already found on disk, assuming complete content, skipping download.\n",
      "SCP directory SCP1129 already found on disk, assuming complete content, skipping download.\n",
      "File GSE120190_RAW.tar already found on disk, skipping download.\n",
      "File GSE120190_RAW.tar already found on disk, skipping download.\n",
      "File GSE120190_RAW.tar already found on disk, skipping download.\n",
      "File GSE120190_RAW.tar already found on disk, skipping download.\n",
      "File GSE115011_marton_all_cells.csv.gz already found on disk, skipping download.\n",
      "File GSE115011_series_matrix.txt.gz already found on disk, skipping download.\n",
      "File GSE164102_RAW.tar already found on disk, skipping download.\n",
      "File GSE164102_RAW.tar already found on disk, skipping download.\n",
      "File GSE164102_RAW.tar already found on disk, skipping download.\n",
      "File GSE164102_RAW.tar already found on disk, skipping download.\n",
      "File GSE164102_RAW.tar already found on disk, skipping download.\n",
      "File GSE168323_RAW.tar already found on disk, skipping download.\n",
      "File GSE123722_RAW.tar already found on disk, skipping download.\n",
      "File GSE123722_RAW.tar already found on disk, skipping download.\n",
      "File GSE123722_RAW.tar already found on disk, skipping download.\n",
      "File GSE149931_RAW.tar already found on disk, skipping download.\n",
      "File GSE149931_RAW.tar already found on disk, skipping download.\n",
      "File GSE149931_RAW.tar already found on disk, skipping download.\n",
      "File GSE165577_RAW.tar already found on disk, skipping download.\n",
      "File GSE165577_RAW.tar already found on disk, skipping download.\n",
      "File GSE165577_RAW.tar already found on disk, skipping download.\n",
      "File exprMatrix.tsv.gz already found on disk, skipping download.\n",
      "File meta.tsv already found on disk, skipping download.\n",
      "File Seurat_umap.coords.tsv.gz already found on disk, skipping download.\n",
      "File counts.mtx.gz already found on disk, skipping download.\n",
      "File barcodes.tsv.gz already found on disk, skipping download.\n",
      "File features.tsv.gz already found on disk, skipping download.\n",
      "File meta.tsv.gz already found on disk, skipping download.\n",
      "File All_2mo_Clustered_Annotated.rds already found on disk, skipping download.\n",
      "File All_4mo_Clustered_Annotated.rds already found on disk, skipping download.\n",
      "File All_6mo_Clustered_Annotated.rds already found on disk, skipping download.\n",
      "File GSE137941_RAW.tar already found on disk, skipping download.\n",
      "File meta.csv already found on disk, skipping download.\n",
      "File counts_org_d15.mtx.gz already found on disk, skipping download.\n",
      "File features_org_d15.tsv.gz already found on disk, skipping download.\n",
      "File meta_org_d15.tsv.gz already found on disk, skipping download.\n",
      "File counts_org1-12.mtx.gz already found on disk, skipping download.\n",
      "File features_org1-12.tsv.gz already found on disk, skipping download.\n",
      "File meta_org1-12.tsv.gz already found on disk, skipping download.\n",
      "File cell_annotation_1_12.csv already found on disk, skipping download.\n",
      "File counts.mtx.gz already found on disk, skipping download.\n",
      "File features.tsv.gz already found on disk, skipping download.\n",
      "File meta.tsv.gz already found on disk, skipping download.\n",
      "File cell_annotation_dissected.csv already found on disk, skipping download.\n",
      "File GSE99951_all_data_htseq_out.csv.gz already found on disk, skipping download.\n",
      "File GSE130238_RAW.tar already found on disk, skipping download.\n",
      "File GSE130238_RAW.tar already found on disk, skipping download.\n",
      "File GSE130238_RAW.tar already found on disk, skipping download.\n",
      "File GSE130238_RAW.tar already found on disk, skipping download.\n",
      "File GSE122342_matrix.mtx.gz already found on disk, skipping download.\n",
      "File GSE122342_genes.tsv.gz already found on disk, skipping download.\n",
      "File GSE122342_barcodes.tsv.gz already found on disk, skipping download.\n",
      "File schThO_class.txt already found on disk, skipping download.\n",
      "File GSEA_category_enrich.txt already found on disk, skipping download.\n",
      "File human_cell_counts_GRCh38.mtx already found on disk, skipping download.\n",
      "File genes_GRCh38.txt already found on disk, skipping download.\n",
      "File metadata_human_cells.tsv already found on disk, skipping download.\n",
      "SCP directory SCP282 already found on disk, assuming complete content, skipping download.\n",
      "SCP directory SCP282 already found on disk, assuming complete content, skipping download.\n",
      "SCP directory SCP282 already found on disk, assuming complete content, skipping download.\n",
      "SCP directory SCP282 already found on disk, assuming complete content, skipping download.\n",
      "SCP directory SCP282 already found on disk, assuming complete content, skipping download.\n",
      "SCP directory SCP282 already found on disk, assuming complete content, skipping download.\n",
      "SCP directory SCP282 already found on disk, assuming complete content, skipping download.\n",
      "File GSE93811_RAW.tar already found on disk, skipping download.\n"
     ]
    }
   ],
   "source": [
    "univ.download()"
   ]
  },
  {
   "cell_type": "code",
   "execution_count": 8,
   "id": "db85cbf6-df20-4b91-b0ad-9f1b9440def2",
   "metadata": {
    "scrolled": true,
    "tags": []
   },
   "outputs": [
    {
     "name": "stdout",
     "output_type": "stream",
     "text": [
      "loading homosapiens_cerebralcortex_2019_bdrhapsodywholetranscriptomeanalysis_yoonsejin_001_d10_1038_s41592_018_0255_0\n",
      "loading homosapiens_cerebralcortex_2019_bdrhapsodywholetranscriptomeanalysis_yoonsejin_002_d10_1038_s41592_018_0255_0\n",
      "loading homosapiens_cerebralcortex_2019_bdrhapsodywholetranscriptomeanalysis_yoonsejin_003_d10_1038_s41592_018_0255_0\n",
      "loading homosapiens_cerebralcortex_2022_10x3v3_vertesyabel_001_d10_15252_embj_2022111118\n",
      "loading homosapiens_cerebralcortex_2020_10x3v2_khanthemasap_001_d10_1038_s41591_020_1043_9\n",
      "loading homosapiens_cerebralcortex_2020_10x3v2_khanthemasap_002_d10_1038_s41591_020_1043_9\n",
      "loading homosapiens_telencephalon_2022_10x3v3_kelavaiva_001_d10_1038_s41586_021_04330_4\n",
      "loading homosapiens_brain_2022_10x3v3_fleckjonassimon_001_d10_1038_s41586_022_05279_8\n",
      "loading homosapiens_None_2023_10xmultiome_treutleinbarbara_001_dno_doi_treutlein\n",
      "loading homosapiens_telencephalon_2022_10x3v3_uzquianoana_001_d10_1016_j_cell_2022_09_010\n",
      "loading homosapiens_cerebralcortex_2021_citeseq(samplemultiplexing)_bowleskathryn_002_d10_1016_j_cell_2021_07_003\n",
      "loading homosapiens_cerebralcortex_2021_citeseq(samplemultiplexing)_bowleskathryn_003_d10_1016_j_cell_2021_07_003\n",
      "loading homosapiens_cerebralcortex_2020_splitseq_qianxuyu_001_d10_1016_j_stem_2020_02_002\n",
      "loading homosapiens_brain_2022_10x3v3_hezhisong_001_d10_1038_s41592_021_01344_8\n",
      "loading homosapiens_brain_2022_10x3v3_hezhisong_002_d10_1038_s41592_021_01344_8\n",
      "loading homosapiens_brain_2022_10x3v3_hezhisong_003_d10_1038_s41592_021_01344_8\n",
      "loading homosapiens_cerebralcortex_2017_smartseq2_sloansteven_001_d10_1016_j_neuron_2017_07_035\n",
      "loading homosapiens_cerebralcortex_2019_10x3v2_trujillocleber_001_d10_1016_j_stem_2019_08_002\n",
      "loading homosapiens_cerebralcortex_2019_10x3v2_trujillocleber_002_d10_1016_j_stem_2019_08_002\n",
      "loading homosapiens_cerebralcortex_2019_10x3v2_trujillocleber_003_d10_1016_j_stem_2019_08_002\n",
      "loading homosapiens_cerebralcortex_2019_10x3v2_trujillocleber_004_d10_1016_j_stem_2019_08_002\n",
      "loading homosapiens_dorsalplusventralthalamus_2019_10x3v1_xiangyangfei_001_d10_1016_j_stem_2018_12_015\n",
      "loading homosapiens_brain_2019_10x3v2_kantonsabina_001_d10_1038_s41586_019_1654_9\n",
      "loading homosapiens_telencephalon_2019_10x3v2_velascosilvia_001_d10_1038_s41586_019_1289_x\n",
      "loading homosapiens_telencephalon_2019_10x3v2_velascosilvia_002_d10_1038_s41586_019_1289_x\n",
      "loading homosapiens_telencephalon_2019_10x3v2_velascosilvia_003_d10_1038_s41586_019_1289_x\n",
      "loading homosapiens_telencephalon_2019_10x3v2_velascosilvia_004_d10_1038_s41586_019_1289_x\n",
      "loading homosapiens_telencephalon_2019_10x3v2_velascosilvia_005_d10_1038_s41586_019_1289_x\n",
      "loading homosapiens_telencephalon_2019_10x3v2_velascosilvia_006_d10_1038_s41586_019_1289_x\n",
      "loading homosapiens_telencephalon_2019_10x3v2_velascosilvia_007_d10_1038_s41586_019_1289_x\n",
      "loading homosapiens_None_2017_bdrhapsodywholetranscriptomeanalysis_bireyfikri_001_d10_1038_nature22330\n"
     ]
    }
   ],
   "source": [
    "univ.load(load_raw=False, allow_caching=True)"
   ]
  },
  {
   "cell_type": "code",
   "execution_count": 9,
   "id": "2a13a7ce-5ba2-4f2e-b154-f874747c0958",
   "metadata": {
    "scrolled": true,
    "tags": []
   },
   "outputs": [
    {
     "name": "stdout",
     "output_type": "stream",
     "text": [
      "transformed feature space on homosapiens_cerebralcortex_2019_bdrhapsodywholetranscriptomeanalysis_yoonsejin_001_d10_1038_s41592_018_0255_0: \n",
      "log10 total counts 6.99 to 6.95, non-zero features 23088 to 14839\n",
      "transformed feature space on homosapiens_cerebralcortex_2019_bdrhapsodywholetranscriptomeanalysis_yoonsejin_002_d10_1038_s41592_018_0255_0: \n",
      "log10 total counts 6.97 to 6.93, non-zero features 23652 to 15034\n",
      "transformed feature space on homosapiens_cerebralcortex_2019_bdrhapsodywholetranscriptomeanalysis_yoonsejin_003_d10_1038_s41592_018_0255_0: \n",
      "log10 total counts 6.89 to 6.84, non-zero features 22772 to 14766\n",
      "transformed feature space on homosapiens_cerebralcortex_2022_10x3v3_vertesyabel_001_d10_15252_embj_2022111118: \n",
      "log10 total counts 7.96 to 7.94, non-zero features 24076 to 18122\n",
      "(secondary layer: log10 total total counts 7.63 to 7.61, non-zero features 24076 to 18122)\n",
      "transformed feature space on homosapiens_cerebralcortex_2020_10x3v2_khanthemasap_001_d10_1038_s41591_020_1043_9: \n",
      "log10 total counts 7.57 to 7.57, non-zero features 22679 to 22486\n",
      "transformed feature space on homosapiens_cerebralcortex_2020_10x3v2_khanthemasap_002_d10_1038_s41591_020_1043_9: \n",
      "log10 total counts 7.22 to 7.22, non-zero features 20838 to 20678\n",
      "transformed feature space on homosapiens_telencephalon_2022_10x3v3_kelavaiva_001_d10_1038_s41586_021_04330_4: \n",
      "log10 total counts 7.43 to 7.41, non-zero features 17583 to 14531\n",
      "transformed feature space on homosapiens_brain_2022_10x3v3_fleckjonassimon_001_d10_1038_s41586_022_05279_8: \n",
      "log10 total counts 8.91 to 8.9, non-zero features 28625 to 20401\n",
      "transformed feature space on homosapiens_None_2023_10xmultiome_treutleinbarbara_001_dno_doi_treutlein: \n",
      "log10 total counts 8.95 to 8.95, non-zero features 35092 to 34802\n",
      "transformed feature space on homosapiens_telencephalon_2022_10x3v3_uzquianoana_001_d10_1016_j_cell_2022_09_010: \n",
      "log10 total counts 8.25 to 8.23, non-zero features 26569 to 18343\n",
      "transformed feature space on homosapiens_telencephalon_2022_10x3v3_uzquianoana_002_d10_1016_j_cell_2022_09_010: \n",
      "log10 total counts 8.02 to 8.0, non-zero features 24466 to 17475\n",
      "transformed feature space on homosapiens_telencephalon_2022_10x3v3_uzquianoana_003_d10_1016_j_cell_2022_09_010: \n",
      "log10 total counts 8.24 to 8.21, non-zero features 26797 to 18271\n",
      "transformed feature space on homosapiens_telencephalon_2022_10x3v3_uzquianoana_004_d10_1016_j_cell_2022_09_010: \n",
      "log10 total counts 8.29 to 8.27, non-zero features 26718 to 18259\n",
      "transformed feature space on homosapiens_telencephalon_2022_10x3v3_uzquianoana_005_d10_1016_j_cell_2022_09_010: \n",
      "log10 total counts 7.91 to 7.89, non-zero features 24902 to 17636\n",
      "transformed feature space on homosapiens_telencephalon_2022_10x3v3_uzquianoana_006_d10_1016_j_cell_2022_09_010: \n",
      "log10 total counts 8.27 to 8.24, non-zero features 27011 to 18394\n",
      "transformed feature space on homosapiens_telencephalon_2022_10x3v3_uzquianoana_007_d10_1016_j_cell_2022_09_010: \n",
      "log10 total counts 8.28 to 8.26, non-zero features 27153 to 18369\n",
      "transformed feature space on homosapiens_telencephalon_2022_10x3v3_uzquianoana_008_d10_1016_j_cell_2022_09_010: \n",
      "log10 total counts 7.86 to 7.84, non-zero features 24340 to 17328\n",
      "transformed feature space on homosapiens_brain_2022_10x3v2_uzquianoana_012_d10_1016_j_cell_2022_09_010: \n",
      "log10 total counts 8.19 to 8.17, non-zero features 25837 to 18114\n",
      "transformed feature space on homosapiens_brain_2022_10x3v2_uzquianoana_013_d10_1016_j_cell_2022_09_010: \n",
      "log10 total counts 8.12 to 8.1, non-zero features 25296 to 17352\n",
      "transformed feature space on homosapiens_None_2020_10x3v2_bhaduriaparna_001_d10_1038_s41586_020_1962_0: \n",
      "log10 total counts 8.91 to 8.88, non-zero features 29395 to 19352\n",
      "transformed feature space on homosapiens_telencephalon_2022_10x3v2_paulsenbruna_001_d10_1038_s41586_021_04358_6: \n",
      "log10 total counts 8.34 to 8.31, non-zero features 25986 to 18119\n",
      "transformed feature space on homosapiens_telencephalon_2022_10x3v3_paulsenbruna_002_d10_1038_s41586_021_04358_6: \n",
      "log10 total counts 8.08 to 8.06, non-zero features 24875 to 17559\n",
      "transformed feature space on homosapiens_telencephalon_2022_10x3v3_paulsenbruna_003_d10_1038_s41586_021_04358_6: \n",
      "log10 total counts 8.28 to 8.26, non-zero features 26895 to 18314\n",
      "transformed feature space on homosapiens_telencephalon_2022_10x3v3_paulsenbruna_004_d10_1038_s41586_021_04358_6: \n",
      "log10 total counts 8.22 to 8.2, non-zero features 25702 to 17950\n",
      "transformed feature space on homosapiens_telencephalon_2022_10x3v3_paulsenbruna_005_d10_1038_s41586_021_04358_6: \n",
      "log10 total counts 8.22 to 8.2, non-zero features 27275 to 18431\n",
      "transformed feature space on homosapiens_telencephalon_2022_10x3v2_paulsenbruna_006_d10_1038_s41586_021_04358_6: \n",
      "log10 total counts 8.11 to 8.09, non-zero features 25945 to 18112\n",
      "transformed feature space on homosapiens_telencephalon_2022_10x3v3_paulsenbruna_007_d10_1038_s41586_021_04358_6: \n",
      "log10 total counts 8.23 to 8.21, non-zero features 26571 to 18280\n",
      "transformed feature space on homosapiens_telencephalon_2022_10x3v3_paulsenbruna_008_d10_1038_s41586_021_04358_6: \n",
      "log10 total counts 8.34 to 8.31, non-zero features 26287 to 18123\n",
      "transformed feature space on homosapiens_telencephalon_2022_10x3v3_paulsenbruna_009_d10_1038_s41586_021_04358_6: \n",
      "log10 total counts 8.33 to 8.31, non-zero features 26704 to 18238\n",
      "transformed feature space on homosapiens_telencephalon_2022_10x3v3_paulsenbruna_010_d10_1038_s41586_021_04358_6: \n",
      "log10 total counts 8.66 to 8.64, non-zero features 28155 to 18898\n",
      "transformed feature space on homosapiens_telencephalon_2022_10x3v3_paulsenbruna_011_d10_1038_s41586_021_04358_6: \n",
      "log10 total counts 8.51 to 8.48, non-zero features 26863 to 18321\n",
      "transformed feature space on homosapiens_telencephalon_2022_10x3v3_paulsenbruna_012_d10_1038_s41586_021_04358_6: \n",
      "log10 total counts 8.46 to 8.44, non-zero features 27948 to 18690\n",
      "transformed feature space on homosapiens_telencephalon_2022_10x3v3_paulsenbruna_013_d10_1038_s41586_021_04358_6: \n",
      "log10 total counts 8.17 to 8.15, non-zero features 26028 to 18054\n",
      "transformed feature space on homosapiens_telencephalon_2022_10x3v3_paulsenbruna_014_d10_1038_s41586_021_04358_6: \n",
      "log10 total counts 8.26 to 8.24, non-zero features 26935 to 18227\n",
      "transformed feature space on homosapiens_telencephalon_2022_10x3v3_paulsenbruna_015_d10_1038_s41586_021_04358_6: \n",
      "log10 total counts 8.58 to 8.56, non-zero features 27643 to 18563\n",
      "transformed feature space on homosapiens_telencephalon_2022_10x3v3_paulsenbruna_016_d10_1038_s41586_021_04358_6: \n",
      "log10 total counts 8.13 to 8.11, non-zero features 26500 to 18111\n",
      "transformed feature space on homosapiens_telencephalon_2022_10x3v3_paulsenbruna_017_d10_1038_s41586_021_04358_6: \n",
      "log10 total counts 8.31 to 8.28, non-zero features 27259 to 18437\n",
      "transformed feature space on homosapiens_telencephalon_2022_10x3v3_paulsenbruna_018_d10_1038_s41586_021_04358_6: \n",
      "log10 total counts 8.53 to 8.51, non-zero features 27185 to 18354\n",
      "transformed feature space on homosapiens_brain_2020_quartzseq_sawadatomoyo_005_d10_1038_s41380_020_0844_z: \n",
      "log10 total counts 6.9 to 6.66, non-zero features 25150 to 15795\n",
      "transformed feature space on homosapiens_brain_2020_quartzseq_sawadatomoyo_006_d10_1038_s41380_020_0844_z: \n",
      "log10 total counts 6.89 to 6.67, non-zero features 25452 to 15907\n",
      "transformed feature space on homosapiens_brain_2020_quartzseq_sawadatomoyo_007_d10_1038_s41380_020_0844_z: \n",
      "log10 total counts 6.9 to 6.68, non-zero features 25515 to 15875\n",
      "transformed feature space on homosapiens_brain_2020_quartzseq_sawadatomoyo_008_d10_1038_s41380_020_0844_z: \n",
      "log10 total counts 6.9 to 6.69, non-zero features 25380 to 15882\n",
      "transformed feature space on homosapiens_cerebralcortex_2019_smartseq2_martonrebecca_001_d10_1038_s41593_018_0316_9: \n",
      "log10 total counts 8.2 to 8.15, non-zero features 19774 to 17446\n",
      "transformed feature space on homosapiens_arcuatenucleusofhypothalamus_2021_dropseq_huangweikai_001_d10_1016_j_stem_2021_04_006: \n",
      "log10 total counts 6.76 to 6.71, non-zero features 25363 to 14553\n",
      "transformed feature space on homosapiens_arcuatenucleusofhypothalamus_2021_dropseq_huangweikai_002_d10_1016_j_stem_2021_04_006: \n",
      "log10 total counts 6.84 to 6.79, non-zero features 26112 to 14720\n",
      "transformed feature space on homosapiens_arcuatenucleusofhypothalamus_2021_dropseq_huangweikai_003_d10_1016_j_stem_2021_04_006: \n",
      "log10 total counts 6.91 to 6.85, non-zero features 26188 to 14618\n",
      "transformed feature space on homosapiens_arcuatenucleusofhypothalamus_2021_dropseq_huangweikai_008_d10_1016_j_stem_2021_04_006: \n",
      "log10 total counts 6.67 to 6.63, non-zero features 23729 to 14507\n",
      "transformed feature space on homosapiens_arcuatenucleusofhypothalamus_2021_dropseq_huangweikai_009_d10_1016_j_stem_2021_04_006: \n",
      "log10 total counts 6.64 to 6.59, non-zero features 23155 to 14151\n",
      "transformed feature space on homosapiens_midbraintegmentum_2021_10x3v3_fiorenzanoalessandro_001_d10_1038_s41467_021_27464_5: \n",
      "log10 total counts 9.07 to 9.06, non-zero features 28538 to 20393\n",
      "transformed feature space on homosapiens_hindbrain_2020_bdrhapsodywholetranscriptomeanalysis_andersenjimena_001_d10_1016_j_cell_2020_11_017: \n",
      "log10 total counts 6.76 to 6.69, non-zero features 25372 to 15256\n",
      "transformed feature space on homosapiens_hindbrain_2020_bdrhapsodywholetranscriptomeanalysis_andersenjimena_002_d10_1016_j_cell_2020_11_017: \n",
      "log10 total counts 6.59 to 6.52, non-zero features 24227 to 14856\n",
      "transformed feature space on homosapiens_hindbrain_2020_10x3v3_andersenjimena_003_d10_1016_j_cell_2020_11_017: \n",
      "log10 total counts 7.78 to 7.78, non-zero features 24964 to 24726\n",
      "transformed feature space on homosapiens_ventralpartoftelencephalon_2020_10x3v3_miurayuki_001_d10_1038_s41587_020_00763_w: \n",
      "log10 total counts 7.95 to 7.95, non-zero features 25850 to 25601\n",
      "transformed feature space on homosapiens_ventralpartoftelencephalon_2020_10x3v3_miurayuki_002_d10_1038_s41587_020_00763_w: \n",
      "log10 total counts 7.97 to 7.97, non-zero features 25929 to 25667\n",
      "transformed feature space on homosapiens_ventralpartoftelencephalon_2020_10x3v3_miurayuki_003_d10_1038_s41587_020_00763_w: \n",
      "log10 total counts 7.98 to 7.98, non-zero features 25878 to 25617\n",
      "transformed feature space on homosapiens_brain_2021_10x3v3_samarasingheranmala_001_d10_1038_s41593_021_00906_5: \n",
      "log10 total counts 7.77 to 7.76, non-zero features 28055 to 19678\n",
      "transformed feature space on homosapiens_brain_2021_10x3v3_samarasingheranmala_003_d10_1038_s41593_021_00906_5: \n",
      "log10 total counts 7.76 to 7.75, non-zero features 27518 to 19545\n",
      "transformed feature space on homosapiens_brain_2021_10x3v3_samarasingheranmala_005_d10_1038_s41593_021_00906_5: \n",
      "log10 total counts 7.63 to 7.62, non-zero features 27790 to 19523\n",
      "transformed feature space on homosapiens_None_2020_10x3v3_pellegrinilaura_001_d10_1126_science_aaz5626: \n",
      "log10 total counts 8.47 to 8.45, non-zero features 23910 to 17513\n",
      "transformed feature space on homosapiens_cerebellum_2023_10x3v3_quadratogiogia_001_dno_doi_quadrato: \n",
      "log10 total counts 8.07 to 8.07, non-zero features 29602 to 29486\n",
      "transformed feature space on homosapiens_cerebralcortex_2021_citeseq(samplemultiplexing)_bowleskathryn_001_d10_1016_j_cell_2021_07_003: \n",
      "log10 total counts 9.1 to 9.07, non-zero features 39475 to 17772\n",
      "transformed feature space on homosapiens_cerebralcortex_2021_citeseq(samplemultiplexing)_bowleskathryn_002_d10_1016_j_cell_2021_07_003: \n",
      "log10 total counts 9.09 to 9.06, non-zero features 38951 to 17614\n",
      "transformed feature space on homosapiens_cerebralcortex_2021_citeseq(samplemultiplexing)_bowleskathryn_003_d10_1016_j_cell_2021_07_003: \n",
      "log10 total counts 9.16 to 9.13, non-zero features 39103 to 17596\n",
      "transformed feature space on homosapiens_cerebralcortex_2020_splitseq_qianxuyu_001_d10_1016_j_stem_2020_02_002: \n",
      "log10 total counts 7.24 to 7.2, non-zero features 35269 to 16442\n",
      "transformed feature space on homosapiens_brain_2022_10x3v3_hezhisong_001_d10_1038_s41592_021_01344_8: \n",
      "log10 total counts 8.36 to 8.35, non-zero features 26554 to 19598\n",
      "transformed feature space on homosapiens_brain_2022_10x3v3_hezhisong_002_d10_1038_s41592_021_01344_8: \n",
      "log10 total counts 8.46 to 8.43, non-zero features 22843 to 18926\n",
      "transformed feature space on homosapiens_brain_2022_10x3v3_hezhisong_003_d10_1038_s41592_021_01344_8: \n",
      "log10 total counts 8.2 to 8.18, non-zero features 21914 to 18292\n",
      "transformed feature space on homosapiens_cerebralcortex_2017_smartseq2_sloansteven_001_d10_1016_j_neuron_2017_07_035: \n",
      "log10 total counts 8.72 to 8.64, non-zero features 19334 to 15446\n",
      "transformed feature space on homosapiens_cerebralcortex_2019_10x3v2_trujillocleber_001_d10_1016_j_stem_2019_08_002: \n",
      "log10 total counts 7.54 to 7.54, non-zero features 23116 to 22642\n",
      "transformed feature space on homosapiens_cerebralcortex_2019_10x3v2_trujillocleber_002_d10_1016_j_stem_2019_08_002: \n",
      "log10 total counts 7.38 to 7.38, non-zero features 20308 to 19957\n",
      "transformed feature space on homosapiens_cerebralcortex_2019_10x3v2_trujillocleber_003_d10_1016_j_stem_2019_08_002: \n",
      "log10 total counts 7.24 to 7.24, non-zero features 20309 to 19940\n",
      "transformed feature space on homosapiens_cerebralcortex_2019_10x3v2_trujillocleber_004_d10_1016_j_stem_2019_08_002: \n",
      "log10 total counts 7.01 to 7.01, non-zero features 19087 to 18784\n",
      "transformed feature space on homosapiens_dorsalplusventralthalamus_2019_10x3v1_xiangyangfei_001_d10_1016_j_stem_2018_12_015: \n",
      "log10 total counts 8.05 to 8.05, non-zero features 24836 to 23690\n",
      "transformed feature space on homosapiens_brain_2019_10x3v2_kantonsabina_001_d10_1038_s41586_019_1654_9: \n",
      "log10 total counts 8.88 to 8.88, non-zero features 28601 to 27889\n",
      "transformed feature space on homosapiens_telencephalon_2019_10x3v2_velascosilvia_001_d10_1038_s41586_019_1289_x: \n",
      "log10 total counts 8.01 to 7.98, non-zero features 25214 to 17691\n",
      "transformed feature space on homosapiens_telencephalon_2019_10x3v2_velascosilvia_002_d10_1038_s41586_019_1289_x: \n",
      "log10 total counts 7.94 to 7.91, non-zero features 24365 to 17386\n",
      "transformed feature space on homosapiens_telencephalon_2019_10x3v2_velascosilvia_003_d10_1038_s41586_019_1289_x: \n",
      "log10 total counts 8.13 to 8.11, non-zero features 25736 to 18006\n",
      "transformed feature space on homosapiens_telencephalon_2019_10x3v2_velascosilvia_004_d10_1038_s41586_019_1289_x: \n",
      "log10 total counts 8.16 to 8.14, non-zero features 26068 to 18193\n",
      "transformed feature space on homosapiens_telencephalon_2019_10x3v2_velascosilvia_005_d10_1038_s41586_019_1289_x: \n",
      "log10 total counts 7.96 to 7.94, non-zero features 25344 to 17813\n",
      "transformed feature space on homosapiens_telencephalon_2019_10x3v2_velascosilvia_006_d10_1038_s41586_019_1289_x: \n",
      "log10 total counts 8.26 to 8.24, non-zero features 25255 to 17795\n",
      "transformed feature space on homosapiens_telencephalon_2019_10x3v2_velascosilvia_007_d10_1038_s41586_019_1289_x: \n",
      "log10 total counts 7.99 to 7.96, non-zero features 24822 to 17610\n",
      "transformed feature space on homosapiens_None_2017_bdrhapsodywholetranscriptomeanalysis_bireyfikri_001_d10_1038_nature22330: \n",
      "log10 total counts 7.59 to 7.56, non-zero features 25115 to 16556\n"
     ]
    },
    {
     "name": "stderr",
     "output_type": "stream",
     "text": [
      "WARNING:root:name and ontology keys are both missing\n"
     ]
    },
    {
     "name": "stdout",
     "output_type": "stream",
     "text": [
      "ValueError: DOI no_doi_treutlein does not exist\n",
      "ValueError: DOI no_doi_treutlein does not exist\n",
      "ValueError: DOI no_doi_quadrato does not exist\n",
      "ValueError: DOI no_doi_quadrato does not exist\n"
     ]
    }
   ],
   "source": [
    "univ.streamline_var(match_to_release=\"104\", subset_genes_to_type=[\"protein_coding\", \"lncRNA\"])\n",
    "univ_copy = copy.deepcopy(univ)\n",
    "univ.streamline_obs_uns(clean_obs=True, keep_orginal_obs=True, keep_id_obs=False)\n",
    "adata = univ.adata\n",
    "del adata.layers[\"processed_counts\"]"
   ]
  },
  {
   "cell_type": "code",
   "execution_count": 10,
   "id": "4ecec232-856a-4a40-8476-36c7080f39bc",
   "metadata": {
    "tags": []
   },
   "outputs": [
    {
     "name": "stdout",
     "output_type": "stream",
     "text": [
      "ValueError: DOI no_doi_treutlein does not exist\n",
      "ValueError: DOI no_doi_treutlein does not exist\n",
      "ValueError: DOI no_doi_quadrato does not exist\n",
      "ValueError: DOI no_doi_quadrato does not exist\n"
     ]
    }
   ],
   "source": [
    "univ_copy.streamline_obs_uns(clean_obs=False, keep_orginal_obs=False, keep_id_obs=False)\n",
    "age_days = univ_copy.adata.obs[\"organoid_age_days\"]\n",
    "assert np.all(age_days.index.values == adata.obs.index.values)\n",
    "adata.obs[\"organoid_age_days\"] = age_days.copy()\n",
    "adata.obs[\"organoid_age_days\"] = adata.obs[\"organoid_age_days\"].astype(int)"
   ]
  },
  {
   "cell_type": "code",
   "execution_count": 11,
   "id": "164905bf-cb8d-4f86-9438-18c012be1d41",
   "metadata": {
    "tags": []
   },
   "outputs": [],
   "source": [
    "adata.var = adata.var.set_index(\"gene_symbol\", drop=False)\n",
    "adata.var.index.name = None\n",
    "adata.var_names_make_unique()"
   ]
  },
  {
   "cell_type": "code",
   "execution_count": 12,
   "id": "37ffe09c-17ef-4161-8749-a27dcf5ec54d",
   "metadata": {
    "tags": []
   },
   "outputs": [
    {
     "name": "stdout",
     "output_type": "stream",
     "text": [
      "(2433874, 36842)\n",
      "(2272187, 36842)\n",
      "(2268224, 36842)\n",
      "(1941367, 36842)\n",
      "(1939557, 36842)\n",
      "(1931957, 36842)\n"
     ]
    }
   ],
   "source": [
    "print(adata.shape)\n",
    "# remove mutant sample from bowles dataset\n",
    "adata = adata[adata.obs[\"gm\"] != \"V337M\"].copy()\n",
    "print(adata.shape)\n",
    "# remove hormone-treated samples from kelava dataset\n",
    "adata = adata[~adata.obs[\"treatment\"].isin([\"Androstanolone\", \"Estradiol\"])].copy()\n",
    "print(adata.shape)\n",
    "# remove mutant samples from paulsen dataset\n",
    "adata = adata[~adata.obs[\"gm\"].isin([\"CHD8_mutant\", \"SUV_mutant\", \"ARID1B_mutant\"])].copy()\n",
    "print(adata.shape)\n",
    "# remove pre neural-induction timepoints from fleck dataset\n",
    "adata = adata[~((adata.obs[\"id\"] == \"homosapiens_brain_2022_10x3v3_fleckjonassimon_001_d10_1038_s41586_022_05279_8\") & (adata.obs[\"organoid_age_days\"].isin([4,7])))].copy()\n",
    "print(adata.shape)\n",
    "# remove pre neural-induction timepoints from kanton dataset\n",
    "adata = adata[~((adata.obs[\"id\"] == \"homosapiens_brain_2019_10x3v2_kantonsabina_001_d10_1038_s41586_019_1654_9\") & (adata.obs[\"organoid_age_days\"].isin([0,4])))].copy()\n",
    "print(adata.shape)"
   ]
  },
  {
   "cell_type": "code",
   "execution_count": 13,
   "id": "4661cee9-5f7f-4bbe-824b-92a108710df5",
   "metadata": {
    "tags": []
   },
   "outputs": [],
   "source": [
    "meta_info = {\n",
    "    \"publication\": {\n",
    "        i: f\"{univ.datasets[i].author.split(',')[0]}, {univ.datasets[i].year}\"\n",
    "        for i in univ.datasets.keys()\n",
    "    },\n",
    "    \"doi\": {\n",
    "        i: univ.datasets[i].doi[0]\n",
    "        for i in univ.datasets.keys()\n",
    "    },\n",
    "}\n",
    "adata.obs[\"publication\"] = [meta_info[\"publication\"][i] for i in adata.obs[\"id\"]]\n",
    "adata.obs[\"doi\"] = [meta_info[\"doi\"][i] for i in adata.obs[\"id\"]]"
   ]
  },
  {
   "cell_type": "code",
   "execution_count": 14,
   "id": "45481d89-c93d-4b44-b67a-d688618f90bf",
   "metadata": {
    "tags": []
   },
   "outputs": [],
   "source": [
    "adata.obs[\"batch\"] = adata.obs[['id', 'bio_sample', 'tech_sample']].agg('---'.join, axis=1)"
   ]
  },
  {
   "cell_type": "code",
   "execution_count": 15,
   "id": "6bc78763-55e5-498b-ba28-8c5d5c995fba",
   "metadata": {
    "tags": []
   },
   "outputs": [],
   "source": [
    "adata.strings_to_categoricals()"
   ]
  },
  {
   "cell_type": "code",
   "execution_count": 16,
   "id": "475e4f4e-89a9-416f-8957-d8852e70a0dc",
   "metadata": {
    "tags": []
   },
   "outputs": [
    {
     "data": {
      "text/plain": [
       "AnnData object with n_obs × n_vars = 1931957 × 36842\n",
       "    obs: 'assay_sc', 'assay_differentiation', 'assay_type_differentiation', 'bio_sample', 'cell_line', 'cell_type', 'development_stage', 'disease', 'ethnicity', 'gm', 'id', 'individual', 'organ', 'organism', 'sex', 'state_exact', 'sample_source', 'source_doi', 'suspension_type_original', 'tech_sample', 'treatment', 'assay_sc_original', 'cell_line_original', 'cell_type_original', 'development_stage_original', 'disease_original', 'ethnicity_original', 'organ_original', 'organism_original', 'sex_original', 'suspension_type', 'obs_names_original', 'organoid_age_days', 'publication', 'doi', 'batch'\n",
       "    var: 'ensembl', 'gene_symbol'\n",
       "    uns: 'cell_line', 'assay_type_differentiation', 'state_exact', 'load_raw', 'year', 'organism', 'download_url_meta', 'mapped_features', 'doi_preprint', 'download_url_data', 'title', 'gm', 'annotated', 'cell_type', 'default_embedding', 'primary_data', 'doi_journal', 'assay_sc', 'organ', 'treatment', 'sample_source', 'source_doi', 'ethnicity', 'development_stage', 'assay_differentiation', 'suspension_type', 'sex', 'disease', 'id', 'author', 'remove_gene_version'"
      ]
     },
     "execution_count": 16,
     "metadata": {},
     "output_type": "execute_result"
    }
   ],
   "source": [
    "adata"
   ]
  },
  {
   "cell_type": "code",
   "execution_count": 17,
   "id": "4c02bd6e-163b-4bab-ad64-9f4aac795300",
   "metadata": {
    "tags": []
   },
   "outputs": [],
   "source": [
    "adata.write(\"/storage/data/organoid_atlas_adatas/230510_01_organoids_raw.h5ad\", compression=\"gzip\")"
   ]
  }
 ],
 "metadata": {
  "kernelspec": {
   "display_name": "Python 3 (ipykernel)",
   "language": "python",
   "name": "python3"
  },
  "language_info": {
   "codemirror_mode": {
    "name": "ipython",
    "version": 3
   },
   "file_extension": ".py",
   "mimetype": "text/x-python",
   "name": "python",
   "nbconvert_exporter": "python",
   "pygments_lexer": "ipython3",
   "version": "3.10.12"
  }
 },
 "nbformat": 4,
 "nbformat_minor": 5
}
